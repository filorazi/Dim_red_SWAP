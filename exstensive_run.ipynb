{
 "cells": [
  {
   "cell_type": "code",
   "execution_count": 1,
   "metadata": {},
   "outputs": [],
   "source": [
    "from pennylane.optimize import AdamOptimizer,QNSPSAOptimizer,AdagradOptimizer\n",
    "import pennylane as qml\n",
    "from pennylane import numpy as np\n",
    "import pandas as pd\n",
    "import jax\n",
    "import seaborn as sns\n",
    "import matplotlib.pyplot as plt\n",
    "import seaborn as sns\n",
    "import matplotlib.pyplot as plt\n",
    "from sklearn.metrics import mean_absolute_error as mse\n",
    "from scipy.optimize import minimize\n",
    "from IPython.display import clear_output\n",
    "import random \n",
    "from pennylane.optimize import AdamOptimizer,QNSPSAOptimizer\n",
    "from utils import *\n",
    "from autoencoder import Autoencoder\n",
    "import warnings\n",
    "# warnings.filterwarnings(\"ignore\")\n",
    "import os "
   ]
  },
  {
   "cell_type": "code",
   "execution_count": 2,
   "metadata": {},
   "outputs": [],
   "source": [
    "custom_palette =['#EABFCB','#C191A1','#A4508B','#5F0A87','#2F004F','#120021',]"
   ]
  },
  {
   "cell_type": "code",
   "execution_count": 3,
   "metadata": {},
   "outputs": [],
   "source": [
    "range_qubit_autoencoder=list(range(2,5))\n",
    "range_batches = [10,50,100]\n",
    "seed=42\n",
    "epochs=3\n",
    "n=100\n",
    "stepsize=.2\n",
    "opt=AdamOptimizer(stepsize=.2)\n",
    "X=np.random.rand(n)*2*np.pi\n"
   ]
  },
  {
   "cell_type": "code",
   "execution_count": 5,
   "metadata": {},
   "outputs": [
    {
     "name": "stdout",
     "output_type": "stream",
     "text": [
      "Running AE with 2 input qubit and 1 trash qubit in batches of 10\n",
      "Epoch 0, Batch:1 Loss = 0.6364592456451008\r"
     ]
    },
    {
     "name": "stderr",
     "output_type": "stream",
     "text": [
      "c:\\Users\\forazi\\.conda\\envs\\forazi\\Lib\\site-packages\\autograd\\numpy\\numpy_wrapper.py:156: ComplexWarning: Casting complex values to real discards the imaginary part\n",
      "  return A.astype(dtype, order, casting, subok, copy)\n",
      "c:\\Users\\forazi\\.conda\\envs\\forazi\\Lib\\site-packages\\autograd\\numpy\\numpy_wrapper.py:156: ComplexWarning: Casting complex values to real discards the imaginary part\n",
      "  return A.astype(dtype, order, casting, subok, copy)\n",
      "c:\\Users\\forazi\\.conda\\envs\\forazi\\Lib\\site-packages\\autograd\\numpy\\numpy_wrapper.py:156: ComplexWarning: Casting complex values to real discards the imaginary part\n",
      "  return A.astype(dtype, order, casting, subok, copy)\n"
     ]
    },
    {
     "name": "stdout",
     "output_type": "stream",
     "text": [
      "Epoch 0, Batch:4 Loss = 0.5348658659688731\r"
     ]
    },
    {
     "name": "stderr",
     "output_type": "stream",
     "text": [
      "c:\\Users\\forazi\\.conda\\envs\\forazi\\Lib\\site-packages\\autograd\\numpy\\numpy_wrapper.py:156: ComplexWarning: Casting complex values to real discards the imaginary part\n",
      "  return A.astype(dtype, order, casting, subok, copy)\n",
      "c:\\Users\\forazi\\.conda\\envs\\forazi\\Lib\\site-packages\\autograd\\numpy\\numpy_wrapper.py:156: ComplexWarning: Casting complex values to real discards the imaginary part\n",
      "  return A.astype(dtype, order, casting, subok, copy)\n",
      "c:\\Users\\forazi\\.conda\\envs\\forazi\\Lib\\site-packages\\autograd\\numpy\\numpy_wrapper.py:156: ComplexWarning: Casting complex values to real discards the imaginary part\n",
      "  return A.astype(dtype, order, casting, subok, copy)\n"
     ]
    },
    {
     "name": "stdout",
     "output_type": "stream",
     "text": [
      "Epoch 0, Batch:7 Loss = 0.49758244767697607\r"
     ]
    },
    {
     "name": "stderr",
     "output_type": "stream",
     "text": [
      "c:\\Users\\forazi\\.conda\\envs\\forazi\\Lib\\site-packages\\autograd\\numpy\\numpy_wrapper.py:156: ComplexWarning: Casting complex values to real discards the imaginary part\n",
      "  return A.astype(dtype, order, casting, subok, copy)\n",
      "c:\\Users\\forazi\\.conda\\envs\\forazi\\Lib\\site-packages\\autograd\\numpy\\numpy_wrapper.py:156: ComplexWarning: Casting complex values to real discards the imaginary part\n",
      "  return A.astype(dtype, order, casting, subok, copy)\n",
      "c:\\Users\\forazi\\.conda\\envs\\forazi\\Lib\\site-packages\\autograd\\numpy\\numpy_wrapper.py:156: ComplexWarning: Casting complex values to real discards the imaginary part\n",
      "  return A.astype(dtype, order, casting, subok, copy)\n"
     ]
    },
    {
     "name": "stdout",
     "output_type": "stream",
     "text": [
      "Epoch 1, Batch:0 Loss = 0.5284784961690756\r"
     ]
    },
    {
     "name": "stderr",
     "output_type": "stream",
     "text": [
      "c:\\Users\\forazi\\.conda\\envs\\forazi\\Lib\\site-packages\\autograd\\numpy\\numpy_wrapper.py:156: ComplexWarning: Casting complex values to real discards the imaginary part\n",
      "  return A.astype(dtype, order, casting, subok, copy)\n",
      "c:\\Users\\forazi\\.conda\\envs\\forazi\\Lib\\site-packages\\autograd\\numpy\\numpy_wrapper.py:156: ComplexWarning: Casting complex values to real discards the imaginary part\n",
      "  return A.astype(dtype, order, casting, subok, copy)\n",
      "c:\\Users\\forazi\\.conda\\envs\\forazi\\Lib\\site-packages\\autograd\\numpy\\numpy_wrapper.py:156: ComplexWarning: Casting complex values to real discards the imaginary part\n",
      "  return A.astype(dtype, order, casting, subok, copy)\n"
     ]
    },
    {
     "name": "stdout",
     "output_type": "stream",
     "text": [
      "Epoch 1, Batch:2 Loss = 0.4917196203169862\r"
     ]
    },
    {
     "name": "stderr",
     "output_type": "stream",
     "text": [
      "c:\\Users\\forazi\\.conda\\envs\\forazi\\Lib\\site-packages\\autograd\\numpy\\numpy_wrapper.py:156: ComplexWarning: Casting complex values to real discards the imaginary part\n",
      "  return A.astype(dtype, order, casting, subok, copy)\n",
      "c:\\Users\\forazi\\.conda\\envs\\forazi\\Lib\\site-packages\\autograd\\numpy\\numpy_wrapper.py:156: ComplexWarning: Casting complex values to real discards the imaginary part\n",
      "  return A.astype(dtype, order, casting, subok, copy)\n",
      "c:\\Users\\forazi\\.conda\\envs\\forazi\\Lib\\site-packages\\autograd\\numpy\\numpy_wrapper.py:156: ComplexWarning: Casting complex values to real discards the imaginary part\n",
      "  return A.astype(dtype, order, casting, subok, copy)\n"
     ]
    },
    {
     "name": "stdout",
     "output_type": "stream",
     "text": [
      "Epoch 1, Batch:5 Loss = 0.4281891664020032\r"
     ]
    },
    {
     "name": "stderr",
     "output_type": "stream",
     "text": [
      "c:\\Users\\forazi\\.conda\\envs\\forazi\\Lib\\site-packages\\autograd\\numpy\\numpy_wrapper.py:156: ComplexWarning: Casting complex values to real discards the imaginary part\n",
      "  return A.astype(dtype, order, casting, subok, copy)\n",
      "c:\\Users\\forazi\\.conda\\envs\\forazi\\Lib\\site-packages\\autograd\\numpy\\numpy_wrapper.py:156: ComplexWarning: Casting complex values to real discards the imaginary part\n",
      "  return A.astype(dtype, order, casting, subok, copy)\n",
      "c:\\Users\\forazi\\.conda\\envs\\forazi\\Lib\\site-packages\\autograd\\numpy\\numpy_wrapper.py:156: ComplexWarning: Casting complex values to real discards the imaginary part\n",
      "  return A.astype(dtype, order, casting, subok, copy)\n",
      "c:\\Users\\forazi\\.conda\\envs\\forazi\\Lib\\site-packages\\autograd\\numpy\\numpy_wrapper.py:156: ComplexWarning: Casting complex values to real discards the imaginary part\n",
      "  return A.astype(dtype, order, casting, subok, copy)\n"
     ]
    },
    {
     "name": "stdout",
     "output_type": "stream",
     "text": [
      "Epoch 1, Batch:8 Loss = 0.43514235035131433\r"
     ]
    },
    {
     "name": "stderr",
     "output_type": "stream",
     "text": [
      "c:\\Users\\forazi\\.conda\\envs\\forazi\\Lib\\site-packages\\autograd\\numpy\\numpy_wrapper.py:156: ComplexWarning: Casting complex values to real discards the imaginary part\n",
      "  return A.astype(dtype, order, casting, subok, copy)\n",
      "c:\\Users\\forazi\\.conda\\envs\\forazi\\Lib\\site-packages\\autograd\\numpy\\numpy_wrapper.py:156: ComplexWarning: Casting complex values to real discards the imaginary part\n",
      "  return A.astype(dtype, order, casting, subok, copy)\n",
      "c:\\Users\\forazi\\.conda\\envs\\forazi\\Lib\\site-packages\\autograd\\numpy\\numpy_wrapper.py:156: ComplexWarning: Casting complex values to real discards the imaginary part\n",
      "  return A.astype(dtype, order, casting, subok, copy)\n"
     ]
    },
    {
     "name": "stdout",
     "output_type": "stream",
     "text": [
      "Epoch 2, Batch:1 Loss = 0.42904086394188645\r"
     ]
    },
    {
     "name": "stderr",
     "output_type": "stream",
     "text": [
      "c:\\Users\\forazi\\.conda\\envs\\forazi\\Lib\\site-packages\\autograd\\numpy\\numpy_wrapper.py:156: ComplexWarning: Casting complex values to real discards the imaginary part\n",
      "  return A.astype(dtype, order, casting, subok, copy)\n",
      "c:\\Users\\forazi\\.conda\\envs\\forazi\\Lib\\site-packages\\autograd\\numpy\\numpy_wrapper.py:156: ComplexWarning: Casting complex values to real discards the imaginary part\n",
      "  return A.astype(dtype, order, casting, subok, copy)\n",
      "c:\\Users\\forazi\\.conda\\envs\\forazi\\Lib\\site-packages\\autograd\\numpy\\numpy_wrapper.py:156: ComplexWarning: Casting complex values to real discards the imaginary part\n",
      "  return A.astype(dtype, order, casting, subok, copy)\n"
     ]
    },
    {
     "name": "stdout",
     "output_type": "stream",
     "text": [
      "Epoch 2, Batch:4 Loss = 0.37438497966012424\r"
     ]
    },
    {
     "name": "stderr",
     "output_type": "stream",
     "text": [
      "c:\\Users\\forazi\\.conda\\envs\\forazi\\Lib\\site-packages\\autograd\\numpy\\numpy_wrapper.py:156: ComplexWarning: Casting complex values to real discards the imaginary part\n",
      "  return A.astype(dtype, order, casting, subok, copy)\n",
      "c:\\Users\\forazi\\.conda\\envs\\forazi\\Lib\\site-packages\\autograd\\numpy\\numpy_wrapper.py:156: ComplexWarning: Casting complex values to real discards the imaginary part\n",
      "  return A.astype(dtype, order, casting, subok, copy)\n",
      "c:\\Users\\forazi\\.conda\\envs\\forazi\\Lib\\site-packages\\autograd\\numpy\\numpy_wrapper.py:156: ComplexWarning: Casting complex values to real discards the imaginary part\n",
      "  return A.astype(dtype, order, casting, subok, copy)\n"
     ]
    },
    {
     "name": "stdout",
     "output_type": "stream",
     "text": [
      "Epoch 2, Batch:7 Loss = 0.35408325171989394\r"
     ]
    },
    {
     "name": "stderr",
     "output_type": "stream",
     "text": [
      "c:\\Users\\forazi\\.conda\\envs\\forazi\\Lib\\site-packages\\autograd\\numpy\\numpy_wrapper.py:156: ComplexWarning: Casting complex values to real discards the imaginary part\n",
      "  return A.astype(dtype, order, casting, subok, copy)\n",
      "c:\\Users\\forazi\\.conda\\envs\\forazi\\Lib\\site-packages\\autograd\\numpy\\numpy_wrapper.py:156: ComplexWarning: Casting complex values to real discards the imaginary part\n",
      "  return A.astype(dtype, order, casting, subok, copy)\n"
     ]
    },
    {
     "name": "stdout",
     "output_type": "stream",
     "text": [
      "Epoch 2, Batch:9 Loss = 0.35909006765386253\n",
      "--------------------------------------------------\n",
      "Running AE with 2 input qubit and 1 trash qubit in batches of 50\n"
     ]
    },
    {
     "name": "stderr",
     "output_type": "stream",
     "text": [
      "c:\\Users\\forazi\\.conda\\envs\\forazi\\Lib\\site-packages\\autograd\\numpy\\numpy_wrapper.py:156: ComplexWarning: Casting complex values to real discards the imaginary part\n",
      "  return A.astype(dtype, order, casting, subok, copy)\n"
     ]
    },
    {
     "name": "stdout",
     "output_type": "stream",
     "text": [
      "Epoch 0, Batch:0 Loss = 0.534865865968873\r"
     ]
    },
    {
     "name": "stderr",
     "output_type": "stream",
     "text": [
      "c:\\Users\\forazi\\.conda\\envs\\forazi\\Lib\\site-packages\\autograd\\numpy\\numpy_wrapper.py:156: ComplexWarning: Casting complex values to real discards the imaginary part\n",
      "  return A.astype(dtype, order, casting, subok, copy)\n"
     ]
    },
    {
     "name": "stdout",
     "output_type": "stream",
     "text": [
      "Epoch 0, Batch:1 Loss = 0.5063769335130701\r"
     ]
    },
    {
     "name": "stderr",
     "output_type": "stream",
     "text": [
      "c:\\Users\\forazi\\.conda\\envs\\forazi\\Lib\\site-packages\\autograd\\numpy\\numpy_wrapper.py:156: ComplexWarning: Casting complex values to real discards the imaginary part\n",
      "  return A.astype(dtype, order, casting, subok, copy)\n"
     ]
    },
    {
     "name": "stdout",
     "output_type": "stream",
     "text": [
      "Epoch 1, Batch:0 Loss = 0.4479209714262828\r"
     ]
    },
    {
     "name": "stderr",
     "output_type": "stream",
     "text": [
      "c:\\Users\\forazi\\.conda\\envs\\forazi\\Lib\\site-packages\\autograd\\numpy\\numpy_wrapper.py:156: ComplexWarning: Casting complex values to real discards the imaginary part\n",
      "  return A.astype(dtype, order, casting, subok, copy)\n"
     ]
    },
    {
     "name": "stdout",
     "output_type": "stream",
     "text": [
      "Epoch 1, Batch:1 Loss = 0.4274249899078266\r"
     ]
    },
    {
     "name": "stderr",
     "output_type": "stream",
     "text": [
      "c:\\Users\\forazi\\.conda\\envs\\forazi\\Lib\\site-packages\\autograd\\numpy\\numpy_wrapper.py:156: ComplexWarning: Casting complex values to real discards the imaginary part\n",
      "  return A.astype(dtype, order, casting, subok, copy)\n"
     ]
    },
    {
     "name": "stdout",
     "output_type": "stream",
     "text": [
      "Epoch 2, Batch:0 Loss = 0.37047306501410504\r"
     ]
    },
    {
     "name": "stderr",
     "output_type": "stream",
     "text": [
      "c:\\Users\\forazi\\.conda\\envs\\forazi\\Lib\\site-packages\\autograd\\numpy\\numpy_wrapper.py:156: ComplexWarning: Casting complex values to real discards the imaginary part\n",
      "  return A.astype(dtype, order, casting, subok, copy)\n"
     ]
    },
    {
     "name": "stdout",
     "output_type": "stream",
     "text": [
      "Epoch 2, Batch:1 Loss = 0.3593438583489287\n",
      "--------------------------------------------------\n",
      "Running AE with 2 input qubit and 1 trash qubit in batches of 100\n"
     ]
    },
    {
     "name": "stderr",
     "output_type": "stream",
     "text": [
      "c:\\Users\\forazi\\.conda\\envs\\forazi\\Lib\\site-packages\\autograd\\numpy\\numpy_wrapper.py:156: ComplexWarning: Casting complex values to real discards the imaginary part\n",
      "  return A.astype(dtype, order, casting, subok, copy)\n"
     ]
    },
    {
     "name": "stdout",
     "output_type": "stream",
     "text": [
      "Epoch 0, Batch:0 Loss = 0.5063769335130701\r"
     ]
    },
    {
     "name": "stderr",
     "output_type": "stream",
     "text": [
      "c:\\Users\\forazi\\.conda\\envs\\forazi\\Lib\\site-packages\\autograd\\numpy\\numpy_wrapper.py:156: ComplexWarning: Casting complex values to real discards the imaginary part\n",
      "  return A.astype(dtype, order, casting, subok, copy)\n"
     ]
    },
    {
     "name": "stdout",
     "output_type": "stream",
     "text": [
      "Epoch 1, Batch:0 Loss = 0.4259413218845243\r"
     ]
    },
    {
     "name": "stderr",
     "output_type": "stream",
     "text": [
      "c:\\Users\\forazi\\.conda\\envs\\forazi\\Lib\\site-packages\\autograd\\numpy\\numpy_wrapper.py:156: ComplexWarning: Casting complex values to real discards the imaginary part\n",
      "  return A.astype(dtype, order, casting, subok, copy)\n"
     ]
    },
    {
     "name": "stdout",
     "output_type": "stream",
     "text": [
      "Epoch 2, Batch:0 Loss = 0.3573773825637093\n",
      "--------------------------------------------------\n",
      "Running AE with 3 input qubit and 1 trash qubit in batches of 10\n"
     ]
    },
    {
     "name": "stderr",
     "output_type": "stream",
     "text": [
      "c:\\Users\\forazi\\.conda\\envs\\forazi\\Lib\\site-packages\\autograd\\numpy\\numpy_wrapper.py:156: ComplexWarning: Casting complex values to real discards the imaginary part\n",
      "  return A.astype(dtype, order, casting, subok, copy)\n",
      "c:\\Users\\forazi\\.conda\\envs\\forazi\\Lib\\site-packages\\autograd\\numpy\\numpy_wrapper.py:156: ComplexWarning: Casting complex values to real discards the imaginary part\n",
      "  return A.astype(dtype, order, casting, subok, copy)\n"
     ]
    },
    {
     "name": "stdout",
     "output_type": "stream",
     "text": [
      "Epoch 0, Batch:1 Loss = 0.7281620938403166\r"
     ]
    },
    {
     "name": "stderr",
     "output_type": "stream",
     "text": [
      "c:\\Users\\forazi\\.conda\\envs\\forazi\\Lib\\site-packages\\autograd\\numpy\\numpy_wrapper.py:156: ComplexWarning: Casting complex values to real discards the imaginary part\n",
      "  return A.astype(dtype, order, casting, subok, copy)\n",
      "c:\\Users\\forazi\\.conda\\envs\\forazi\\Lib\\site-packages\\autograd\\numpy\\numpy_wrapper.py:156: ComplexWarning: Casting complex values to real discards the imaginary part\n",
      "  return A.astype(dtype, order, casting, subok, copy)\n"
     ]
    },
    {
     "name": "stdout",
     "output_type": "stream",
     "text": [
      "Epoch 0, Batch:3 Loss = 0.7108370649598248\r"
     ]
    },
    {
     "name": "stderr",
     "output_type": "stream",
     "text": [
      "c:\\Users\\forazi\\.conda\\envs\\forazi\\Lib\\site-packages\\autograd\\numpy\\numpy_wrapper.py:156: ComplexWarning: Casting complex values to real discards the imaginary part\n",
      "  return A.astype(dtype, order, casting, subok, copy)\n",
      "c:\\Users\\forazi\\.conda\\envs\\forazi\\Lib\\site-packages\\autograd\\numpy\\numpy_wrapper.py:156: ComplexWarning: Casting complex values to real discards the imaginary part\n",
      "  return A.astype(dtype, order, casting, subok, copy)\n"
     ]
    },
    {
     "name": "stdout",
     "output_type": "stream",
     "text": [
      "Epoch 0, Batch:5 Loss = 0.7052558174516697\r"
     ]
    },
    {
     "name": "stderr",
     "output_type": "stream",
     "text": [
      "c:\\Users\\forazi\\.conda\\envs\\forazi\\Lib\\site-packages\\autograd\\numpy\\numpy_wrapper.py:156: ComplexWarning: Casting complex values to real discards the imaginary part\n",
      "  return A.astype(dtype, order, casting, subok, copy)\n",
      "c:\\Users\\forazi\\.conda\\envs\\forazi\\Lib\\site-packages\\autograd\\numpy\\numpy_wrapper.py:156: ComplexWarning: Casting complex values to real discards the imaginary part\n",
      "  return A.astype(dtype, order, casting, subok, copy)\n"
     ]
    },
    {
     "name": "stdout",
     "output_type": "stream",
     "text": [
      "Epoch 0, Batch:7 Loss = 0.7083511197393122\r"
     ]
    },
    {
     "name": "stderr",
     "output_type": "stream",
     "text": [
      "c:\\Users\\forazi\\.conda\\envs\\forazi\\Lib\\site-packages\\autograd\\numpy\\numpy_wrapper.py:156: ComplexWarning: Casting complex values to real discards the imaginary part\n",
      "  return A.astype(dtype, order, casting, subok, copy)\n",
      "c:\\Users\\forazi\\.conda\\envs\\forazi\\Lib\\site-packages\\autograd\\numpy\\numpy_wrapper.py:156: ComplexWarning: Casting complex values to real discards the imaginary part\n",
      "  return A.astype(dtype, order, casting, subok, copy)\n"
     ]
    },
    {
     "name": "stdout",
     "output_type": "stream",
     "text": [
      "Epoch 0, Batch:9 Loss = 0.7070797780537668\r"
     ]
    },
    {
     "name": "stderr",
     "output_type": "stream",
     "text": [
      "c:\\Users\\forazi\\.conda\\envs\\forazi\\Lib\\site-packages\\autograd\\numpy\\numpy_wrapper.py:156: ComplexWarning: Casting complex values to real discards the imaginary part\n",
      "  return A.astype(dtype, order, casting, subok, copy)\n",
      "c:\\Users\\forazi\\.conda\\envs\\forazi\\Lib\\site-packages\\autograd\\numpy\\numpy_wrapper.py:156: ComplexWarning: Casting complex values to real discards the imaginary part\n",
      "  return A.astype(dtype, order, casting, subok, copy)\n"
     ]
    },
    {
     "name": "stdout",
     "output_type": "stream",
     "text": [
      "Epoch 1, Batch:1 Loss = 0.6054147737691113\r"
     ]
    },
    {
     "name": "stderr",
     "output_type": "stream",
     "text": [
      "c:\\Users\\forazi\\.conda\\envs\\forazi\\Lib\\site-packages\\autograd\\numpy\\numpy_wrapper.py:156: ComplexWarning: Casting complex values to real discards the imaginary part\n",
      "  return A.astype(dtype, order, casting, subok, copy)\n"
     ]
    },
    {
     "name": "stdout",
     "output_type": "stream",
     "text": [
      "Epoch 1, Batch:2 Loss = 0.5968851253248216\r"
     ]
    },
    {
     "name": "stderr",
     "output_type": "stream",
     "text": [
      "c:\\Users\\forazi\\.conda\\envs\\forazi\\Lib\\site-packages\\autograd\\numpy\\numpy_wrapper.py:156: ComplexWarning: Casting complex values to real discards the imaginary part\n",
      "  return A.astype(dtype, order, casting, subok, copy)\n"
     ]
    },
    {
     "name": "stdout",
     "output_type": "stream",
     "text": [
      "Epoch 1, Batch:3 Loss = 0.5953153908947879\r"
     ]
    },
    {
     "name": "stderr",
     "output_type": "stream",
     "text": [
      "c:\\Users\\forazi\\.conda\\envs\\forazi\\Lib\\site-packages\\autograd\\numpy\\numpy_wrapper.py:156: ComplexWarning: Casting complex values to real discards the imaginary part\n",
      "  return A.astype(dtype, order, casting, subok, copy)\n"
     ]
    },
    {
     "name": "stdout",
     "output_type": "stream",
     "text": [
      "Epoch 1, Batch:4 Loss = 0.5982485909867773\r"
     ]
    },
    {
     "name": "stderr",
     "output_type": "stream",
     "text": [
      "c:\\Users\\forazi\\.conda\\envs\\forazi\\Lib\\site-packages\\autograd\\numpy\\numpy_wrapper.py:156: ComplexWarning: Casting complex values to real discards the imaginary part\n",
      "  return A.astype(dtype, order, casting, subok, copy)\n",
      "c:\\Users\\forazi\\.conda\\envs\\forazi\\Lib\\site-packages\\autograd\\numpy\\numpy_wrapper.py:156: ComplexWarning: Casting complex values to real discards the imaginary part\n",
      "  return A.astype(dtype, order, casting, subok, copy)\n"
     ]
    },
    {
     "name": "stdout",
     "output_type": "stream",
     "text": [
      "Epoch 1, Batch:6 Loss = 0.5962313565066698\r"
     ]
    },
    {
     "name": "stderr",
     "output_type": "stream",
     "text": [
      "c:\\Users\\forazi\\.conda\\envs\\forazi\\Lib\\site-packages\\autograd\\numpy\\numpy_wrapper.py:156: ComplexWarning: Casting complex values to real discards the imaginary part\n",
      "  return A.astype(dtype, order, casting, subok, copy)\n",
      "c:\\Users\\forazi\\.conda\\envs\\forazi\\Lib\\site-packages\\autograd\\numpy\\numpy_wrapper.py:156: ComplexWarning: Casting complex values to real discards the imaginary part\n",
      "  return A.astype(dtype, order, casting, subok, copy)\n"
     ]
    },
    {
     "name": "stdout",
     "output_type": "stream",
     "text": [
      "Epoch 1, Batch:8 Loss = 0.5986620154150084\r"
     ]
    },
    {
     "name": "stderr",
     "output_type": "stream",
     "text": [
      "c:\\Users\\forazi\\.conda\\envs\\forazi\\Lib\\site-packages\\autograd\\numpy\\numpy_wrapper.py:156: ComplexWarning: Casting complex values to real discards the imaginary part\n",
      "  return A.astype(dtype, order, casting, subok, copy)\n",
      "c:\\Users\\forazi\\.conda\\envs\\forazi\\Lib\\site-packages\\autograd\\numpy\\numpy_wrapper.py:156: ComplexWarning: Casting complex values to real discards the imaginary part\n",
      "  return A.astype(dtype, order, casting, subok, copy)\n"
     ]
    },
    {
     "name": "stdout",
     "output_type": "stream",
     "text": [
      "Epoch 2, Batch:0 Loss = 0.4706173426571369\r"
     ]
    },
    {
     "name": "stderr",
     "output_type": "stream",
     "text": [
      "c:\\Users\\forazi\\.conda\\envs\\forazi\\Lib\\site-packages\\autograd\\numpy\\numpy_wrapper.py:156: ComplexWarning: Casting complex values to real discards the imaginary part\n",
      "  return A.astype(dtype, order, casting, subok, copy)\n",
      "c:\\Users\\forazi\\.conda\\envs\\forazi\\Lib\\site-packages\\autograd\\numpy\\numpy_wrapper.py:156: ComplexWarning: Casting complex values to real discards the imaginary part\n",
      "  return A.astype(dtype, order, casting, subok, copy)\n"
     ]
    },
    {
     "name": "stdout",
     "output_type": "stream",
     "text": [
      "Epoch 2, Batch:2 Loss = 0.47167529796915436\r"
     ]
    },
    {
     "name": "stderr",
     "output_type": "stream",
     "text": [
      "c:\\Users\\forazi\\.conda\\envs\\forazi\\Lib\\site-packages\\autograd\\numpy\\numpy_wrapper.py:156: ComplexWarning: Casting complex values to real discards the imaginary part\n",
      "  return A.astype(dtype, order, casting, subok, copy)\n"
     ]
    },
    {
     "name": "stdout",
     "output_type": "stream",
     "text": [
      "Epoch 2, Batch:3 Loss = 0.47105949850626044\r"
     ]
    },
    {
     "name": "stderr",
     "output_type": "stream",
     "text": [
      "c:\\Users\\forazi\\.conda\\envs\\forazi\\Lib\\site-packages\\autograd\\numpy\\numpy_wrapper.py:156: ComplexWarning: Casting complex values to real discards the imaginary part\n",
      "  return A.astype(dtype, order, casting, subok, copy)\n"
     ]
    },
    {
     "name": "stdout",
     "output_type": "stream",
     "text": [
      "Epoch 2, Batch:4 Loss = 0.4732459445252351\r"
     ]
    },
    {
     "name": "stderr",
     "output_type": "stream",
     "text": [
      "c:\\Users\\forazi\\.conda\\envs\\forazi\\Lib\\site-packages\\autograd\\numpy\\numpy_wrapper.py:156: ComplexWarning: Casting complex values to real discards the imaginary part\n",
      "  return A.astype(dtype, order, casting, subok, copy)\n"
     ]
    },
    {
     "name": "stdout",
     "output_type": "stream",
     "text": [
      "Epoch 2, Batch:5 Loss = 0.47147349578683756\r"
     ]
    },
    {
     "name": "stderr",
     "output_type": "stream",
     "text": [
      "c:\\Users\\forazi\\.conda\\envs\\forazi\\Lib\\site-packages\\autograd\\numpy\\numpy_wrapper.py:156: ComplexWarning: Casting complex values to real discards the imaginary part\n",
      "  return A.astype(dtype, order, casting, subok, copy)\n",
      "c:\\Users\\forazi\\.conda\\envs\\forazi\\Lib\\site-packages\\autograd\\numpy\\numpy_wrapper.py:156: ComplexWarning: Casting complex values to real discards the imaginary part\n",
      "  return A.astype(dtype, order, casting, subok, copy)\n"
     ]
    },
    {
     "name": "stdout",
     "output_type": "stream",
     "text": [
      "Epoch 2, Batch:7 Loss = 0.47354744000187265\r"
     ]
    },
    {
     "name": "stderr",
     "output_type": "stream",
     "text": [
      "c:\\Users\\forazi\\.conda\\envs\\forazi\\Lib\\site-packages\\autograd\\numpy\\numpy_wrapper.py:156: ComplexWarning: Casting complex values to real discards the imaginary part\n",
      "  return A.astype(dtype, order, casting, subok, copy)\n"
     ]
    },
    {
     "name": "stdout",
     "output_type": "stream",
     "text": [
      "Epoch 2, Batch:8 Loss = 0.4738448994212409\r"
     ]
    },
    {
     "name": "stderr",
     "output_type": "stream",
     "text": [
      "c:\\Users\\forazi\\.conda\\envs\\forazi\\Lib\\site-packages\\autograd\\numpy\\numpy_wrapper.py:156: ComplexWarning: Casting complex values to real discards the imaginary part\n",
      "  return A.astype(dtype, order, casting, subok, copy)\n"
     ]
    },
    {
     "name": "stdout",
     "output_type": "stream",
     "text": [
      "Epoch 2, Batch:9 Loss = 0.47228472658546006\n",
      "--------------------------------------------------\n",
      "Running AE with 3 input qubit and 1 trash qubit in batches of 50\n"
     ]
    },
    {
     "name": "stderr",
     "output_type": "stream",
     "text": [
      "c:\\Users\\forazi\\.conda\\envs\\forazi\\Lib\\site-packages\\autograd\\numpy\\numpy_wrapper.py:156: ComplexWarning: Casting complex values to real discards the imaginary part\n",
      "  return A.astype(dtype, order, casting, subok, copy)\n"
     ]
    },
    {
     "name": "stdout",
     "output_type": "stream",
     "text": [
      "Epoch 0, Batch:0 Loss = 0.7119378196538816\r"
     ]
    },
    {
     "name": "stderr",
     "output_type": "stream",
     "text": [
      "c:\\Users\\forazi\\.conda\\envs\\forazi\\Lib\\site-packages\\autograd\\numpy\\numpy_wrapper.py:156: ComplexWarning: Casting complex values to real discards the imaginary part\n",
      "  return A.astype(dtype, order, casting, subok, copy)\n"
     ]
    },
    {
     "name": "stdout",
     "output_type": "stream",
     "text": [
      "Epoch 0, Batch:1 Loss = 0.7070797780537668\r"
     ]
    },
    {
     "name": "stderr",
     "output_type": "stream",
     "text": [
      "c:\\Users\\forazi\\.conda\\envs\\forazi\\Lib\\site-packages\\autograd\\numpy\\numpy_wrapper.py:156: ComplexWarning: Casting complex values to real discards the imaginary part\n",
      "  return A.astype(dtype, order, casting, subok, copy)\n"
     ]
    },
    {
     "name": "stdout",
     "output_type": "stream",
     "text": [
      "Epoch 1, Batch:0 Loss = 0.5890158534607977\r"
     ]
    },
    {
     "name": "stderr",
     "output_type": "stream",
     "text": [
      "c:\\Users\\forazi\\.conda\\envs\\forazi\\Lib\\site-packages\\autograd\\numpy\\numpy_wrapper.py:156: ComplexWarning: Casting complex values to real discards the imaginary part\n",
      "  return A.astype(dtype, order, casting, subok, copy)\n"
     ]
    },
    {
     "name": "stdout",
     "output_type": "stream",
     "text": [
      "Epoch 1, Batch:1 Loss = 0.5873889216964503\r"
     ]
    },
    {
     "name": "stderr",
     "output_type": "stream",
     "text": [
      "c:\\Users\\forazi\\.conda\\envs\\forazi\\Lib\\site-packages\\autograd\\numpy\\numpy_wrapper.py:156: ComplexWarning: Casting complex values to real discards the imaginary part\n",
      "  return A.astype(dtype, order, casting, subok, copy)\n"
     ]
    },
    {
     "name": "stdout",
     "output_type": "stream",
     "text": [
      "Epoch 2, Batch:0 Loss = 0.4880418877058472\r"
     ]
    },
    {
     "name": "stderr",
     "output_type": "stream",
     "text": [
      "c:\\Users\\forazi\\.conda\\envs\\forazi\\Lib\\site-packages\\autograd\\numpy\\numpy_wrapper.py:156: ComplexWarning: Casting complex values to real discards the imaginary part\n",
      "  return A.astype(dtype, order, casting, subok, copy)\n"
     ]
    },
    {
     "name": "stdout",
     "output_type": "stream",
     "text": [
      "Epoch 2, Batch:1 Loss = 0.4883361265510868\n",
      "--------------------------------------------------\n",
      "Running AE with 3 input qubit and 1 trash qubit in batches of 100\n"
     ]
    },
    {
     "name": "stderr",
     "output_type": "stream",
     "text": [
      "c:\\Users\\forazi\\.conda\\envs\\forazi\\Lib\\site-packages\\autograd\\numpy\\numpy_wrapper.py:156: ComplexWarning: Casting complex values to real discards the imaginary part\n",
      "  return A.astype(dtype, order, casting, subok, copy)\n"
     ]
    },
    {
     "name": "stdout",
     "output_type": "stream",
     "text": [
      "Epoch 0, Batch:0 Loss = 0.7070797780537665\r"
     ]
    },
    {
     "name": "stderr",
     "output_type": "stream",
     "text": [
      "c:\\Users\\forazi\\.conda\\envs\\forazi\\Lib\\site-packages\\autograd\\numpy\\numpy_wrapper.py:156: ComplexWarning: Casting complex values to real discards the imaginary part\n",
      "  return A.astype(dtype, order, casting, subok, copy)\n"
     ]
    },
    {
     "name": "stdout",
     "output_type": "stream",
     "text": [
      "Epoch 1, Batch:0 Loss = 0.5849614405524813\r"
     ]
    },
    {
     "name": "stderr",
     "output_type": "stream",
     "text": [
      "c:\\Users\\forazi\\.conda\\envs\\forazi\\Lib\\site-packages\\autograd\\numpy\\numpy_wrapper.py:156: ComplexWarning: Casting complex values to real discards the imaginary part\n",
      "  return A.astype(dtype, order, casting, subok, copy)\n"
     ]
    },
    {
     "name": "stdout",
     "output_type": "stream",
     "text": [
      "Epoch 2, Batch:0 Loss = 0.48815737656220404\n",
      "--------------------------------------------------\n",
      "Running AE with 3 input qubit and 2 trash qubit in batches of 10\n",
      "Epoch 0, Batch:0 Loss = 0.9450117625391556\r"
     ]
    },
    {
     "name": "stderr",
     "output_type": "stream",
     "text": [
      "c:\\Users\\forazi\\.conda\\envs\\forazi\\Lib\\site-packages\\autograd\\numpy\\numpy_wrapper.py:156: ComplexWarning: Casting complex values to real discards the imaginary part\n",
      "  return A.astype(dtype, order, casting, subok, copy)\n",
      "c:\\Users\\forazi\\.conda\\envs\\forazi\\Lib\\site-packages\\autograd\\numpy\\numpy_wrapper.py:156: ComplexWarning: Casting complex values to real discards the imaginary part\n",
      "  return A.astype(dtype, order, casting, subok, copy)\n"
     ]
    },
    {
     "name": "stdout",
     "output_type": "stream",
     "text": [
      "Epoch 0, Batch:1 Loss = 0.9429282197077309\r"
     ]
    },
    {
     "name": "stderr",
     "output_type": "stream",
     "text": [
      "c:\\Users\\forazi\\.conda\\envs\\forazi\\Lib\\site-packages\\autograd\\numpy\\numpy_wrapper.py:156: ComplexWarning: Casting complex values to real discards the imaginary part\n",
      "  return A.astype(dtype, order, casting, subok, copy)\n"
     ]
    },
    {
     "name": "stdout",
     "output_type": "stream",
     "text": [
      "Epoch 0, Batch:3 Loss = 0.9464294226818902\r"
     ]
    },
    {
     "name": "stderr",
     "output_type": "stream",
     "text": [
      "c:\\Users\\forazi\\.conda\\envs\\forazi\\Lib\\site-packages\\autograd\\numpy\\numpy_wrapper.py:156: ComplexWarning: Casting complex values to real discards the imaginary part\n",
      "  return A.astype(dtype, order, casting, subok, copy)\n",
      "c:\\Users\\forazi\\.conda\\envs\\forazi\\Lib\\site-packages\\autograd\\numpy\\numpy_wrapper.py:156: ComplexWarning: Casting complex values to real discards the imaginary part\n",
      "  return A.astype(dtype, order, casting, subok, copy)\n"
     ]
    },
    {
     "name": "stdout",
     "output_type": "stream",
     "text": [
      "Epoch 0, Batch:4 Loss = 0.9462582572739879\r"
     ]
    },
    {
     "name": "stderr",
     "output_type": "stream",
     "text": [
      "c:\\Users\\forazi\\.conda\\envs\\forazi\\Lib\\site-packages\\autograd\\numpy\\numpy_wrapper.py:156: ComplexWarning: Casting complex values to real discards the imaginary part\n",
      "  return A.astype(dtype, order, casting, subok, copy)\n"
     ]
    },
    {
     "name": "stdout",
     "output_type": "stream",
     "text": [
      "Epoch 0, Batch:5 Loss = 0.9476128481690428\r"
     ]
    },
    {
     "name": "stderr",
     "output_type": "stream",
     "text": [
      "c:\\Users\\forazi\\.conda\\envs\\forazi\\Lib\\site-packages\\autograd\\numpy\\numpy_wrapper.py:156: ComplexWarning: Casting complex values to real discards the imaginary part\n",
      "  return A.astype(dtype, order, casting, subok, copy)\n",
      "c:\\Users\\forazi\\.conda\\envs\\forazi\\Lib\\site-packages\\autograd\\numpy\\numpy_wrapper.py:156: ComplexWarning: Casting complex values to real discards the imaginary part\n",
      "  return A.astype(dtype, order, casting, subok, copy)\n"
     ]
    },
    {
     "name": "stdout",
     "output_type": "stream",
     "text": [
      "Epoch 0, Batch:7 Loss = 0.9470197394566451\r"
     ]
    },
    {
     "name": "stderr",
     "output_type": "stream",
     "text": [
      "c:\\Users\\forazi\\.conda\\envs\\forazi\\Lib\\site-packages\\autograd\\numpy\\numpy_wrapper.py:156: ComplexWarning: Casting complex values to real discards the imaginary part\n",
      "  return A.astype(dtype, order, casting, subok, copy)\n"
     ]
    },
    {
     "name": "stdout",
     "output_type": "stream",
     "text": [
      "Epoch 0, Batch:8 Loss = 0.9465684143950419\r"
     ]
    },
    {
     "name": "stderr",
     "output_type": "stream",
     "text": [
      "c:\\Users\\forazi\\.conda\\envs\\forazi\\Lib\\site-packages\\autograd\\numpy\\numpy_wrapper.py:156: ComplexWarning: Casting complex values to real discards the imaginary part\n",
      "  return A.astype(dtype, order, casting, subok, copy)\n",
      "c:\\Users\\forazi\\.conda\\envs\\forazi\\Lib\\site-packages\\autograd\\numpy\\numpy_wrapper.py:156: ComplexWarning: Casting complex values to real discards the imaginary part\n",
      "  return A.astype(dtype, order, casting, subok, copy)\n"
     ]
    },
    {
     "name": "stdout",
     "output_type": "stream",
     "text": [
      "Epoch 1, Batch:0 Loss = 0.8022393929169214\r"
     ]
    },
    {
     "name": "stderr",
     "output_type": "stream",
     "text": [
      "c:\\Users\\forazi\\.conda\\envs\\forazi\\Lib\\site-packages\\autograd\\numpy\\numpy_wrapper.py:156: ComplexWarning: Casting complex values to real discards the imaginary part\n",
      "  return A.astype(dtype, order, casting, subok, copy)\n",
      "c:\\Users\\forazi\\.conda\\envs\\forazi\\Lib\\site-packages\\autograd\\numpy\\numpy_wrapper.py:156: ComplexWarning: Casting complex values to real discards the imaginary part\n",
      "  return A.astype(dtype, order, casting, subok, copy)\n"
     ]
    },
    {
     "name": "stdout",
     "output_type": "stream",
     "text": [
      "Epoch 1, Batch:2 Loss = 0.8049270392390326\r"
     ]
    },
    {
     "name": "stderr",
     "output_type": "stream",
     "text": [
      "c:\\Users\\forazi\\.conda\\envs\\forazi\\Lib\\site-packages\\autograd\\numpy\\numpy_wrapper.py:156: ComplexWarning: Casting complex values to real discards the imaginary part\n",
      "  return A.astype(dtype, order, casting, subok, copy)\n",
      "c:\\Users\\forazi\\.conda\\envs\\forazi\\Lib\\site-packages\\autograd\\numpy\\numpy_wrapper.py:156: ComplexWarning: Casting complex values to real discards the imaginary part\n",
      "  return A.astype(dtype, order, casting, subok, copy)\n"
     ]
    },
    {
     "name": "stdout",
     "output_type": "stream",
     "text": [
      "Epoch 1, Batch:4 Loss = 0.8075555408395216\r"
     ]
    },
    {
     "name": "stderr",
     "output_type": "stream",
     "text": [
      "c:\\Users\\forazi\\.conda\\envs\\forazi\\Lib\\site-packages\\autograd\\numpy\\numpy_wrapper.py:156: ComplexWarning: Casting complex values to real discards the imaginary part\n",
      "  return A.astype(dtype, order, casting, subok, copy)\n",
      "c:\\Users\\forazi\\.conda\\envs\\forazi\\Lib\\site-packages\\autograd\\numpy\\numpy_wrapper.py:156: ComplexWarning: Casting complex values to real discards the imaginary part\n",
      "  return A.astype(dtype, order, casting, subok, copy)\n"
     ]
    },
    {
     "name": "stdout",
     "output_type": "stream",
     "text": [
      "Epoch 1, Batch:6 Loss = 0.8101048063732643\r"
     ]
    },
    {
     "name": "stderr",
     "output_type": "stream",
     "text": [
      "c:\\Users\\forazi\\.conda\\envs\\forazi\\Lib\\site-packages\\autograd\\numpy\\numpy_wrapper.py:156: ComplexWarning: Casting complex values to real discards the imaginary part\n",
      "  return A.astype(dtype, order, casting, subok, copy)\n",
      "c:\\Users\\forazi\\.conda\\envs\\forazi\\Lib\\site-packages\\autograd\\numpy\\numpy_wrapper.py:156: ComplexWarning: Casting complex values to real discards the imaginary part\n",
      "  return A.astype(dtype, order, casting, subok, copy)\n"
     ]
    },
    {
     "name": "stdout",
     "output_type": "stream",
     "text": [
      "Epoch 1, Batch:9 Loss = 0.8098563446765338\r"
     ]
    },
    {
     "name": "stderr",
     "output_type": "stream",
     "text": [
      "c:\\Users\\forazi\\.conda\\envs\\forazi\\Lib\\site-packages\\autograd\\numpy\\numpy_wrapper.py:156: ComplexWarning: Casting complex values to real discards the imaginary part\n",
      "  return A.astype(dtype, order, casting, subok, copy)\n",
      "c:\\Users\\forazi\\.conda\\envs\\forazi\\Lib\\site-packages\\autograd\\numpy\\numpy_wrapper.py:156: ComplexWarning: Casting complex values to real discards the imaginary part\n",
      "  return A.astype(dtype, order, casting, subok, copy)\n",
      "c:\\Users\\forazi\\.conda\\envs\\forazi\\Lib\\site-packages\\autograd\\numpy\\numpy_wrapper.py:156: ComplexWarning: Casting complex values to real discards the imaginary part\n",
      "  return A.astype(dtype, order, casting, subok, copy)\n"
     ]
    },
    {
     "name": "stdout",
     "output_type": "stream",
     "text": [
      "Epoch 2, Batch:1 Loss = 0.5868509313737577\r"
     ]
    },
    {
     "name": "stderr",
     "output_type": "stream",
     "text": [
      "c:\\Users\\forazi\\.conda\\envs\\forazi\\Lib\\site-packages\\autograd\\numpy\\numpy_wrapper.py:156: ComplexWarning: Casting complex values to real discards the imaginary part\n",
      "  return A.astype(dtype, order, casting, subok, copy)\n",
      "c:\\Users\\forazi\\.conda\\envs\\forazi\\Lib\\site-packages\\autograd\\numpy\\numpy_wrapper.py:156: ComplexWarning: Casting complex values to real discards the imaginary part\n",
      "  return A.astype(dtype, order, casting, subok, copy)\n"
     ]
    },
    {
     "name": "stdout",
     "output_type": "stream",
     "text": [
      "Epoch 2, Batch:3 Loss = 0.5988503063220108\r"
     ]
    },
    {
     "name": "stderr",
     "output_type": "stream",
     "text": [
      "c:\\Users\\forazi\\.conda\\envs\\forazi\\Lib\\site-packages\\autograd\\numpy\\numpy_wrapper.py:156: ComplexWarning: Casting complex values to real discards the imaginary part\n",
      "  return A.astype(dtype, order, casting, subok, copy)\n"
     ]
    },
    {
     "name": "stdout",
     "output_type": "stream",
     "text": [
      "Epoch 2, Batch:4 Loss = 0.6036941546308663\r"
     ]
    },
    {
     "name": "stderr",
     "output_type": "stream",
     "text": [
      "c:\\Users\\forazi\\.conda\\envs\\forazi\\Lib\\site-packages\\autograd\\numpy\\numpy_wrapper.py:156: ComplexWarning: Casting complex values to real discards the imaginary part\n",
      "  return A.astype(dtype, order, casting, subok, copy)\n",
      "c:\\Users\\forazi\\.conda\\envs\\forazi\\Lib\\site-packages\\autograd\\numpy\\numpy_wrapper.py:156: ComplexWarning: Casting complex values to real discards the imaginary part\n",
      "  return A.astype(dtype, order, casting, subok, copy)\n"
     ]
    },
    {
     "name": "stdout",
     "output_type": "stream",
     "text": [
      "Epoch 2, Batch:6 Loss = 0.6093003789998618\r"
     ]
    },
    {
     "name": "stderr",
     "output_type": "stream",
     "text": [
      "c:\\Users\\forazi\\.conda\\envs\\forazi\\Lib\\site-packages\\autograd\\numpy\\numpy_wrapper.py:156: ComplexWarning: Casting complex values to real discards the imaginary part\n",
      "  return A.astype(dtype, order, casting, subok, copy)\n"
     ]
    },
    {
     "name": "stdout",
     "output_type": "stream",
     "text": [
      "Epoch 2, Batch:7 Loss = 0.6101845309623508\r"
     ]
    },
    {
     "name": "stderr",
     "output_type": "stream",
     "text": [
      "c:\\Users\\forazi\\.conda\\envs\\forazi\\Lib\\site-packages\\autograd\\numpy\\numpy_wrapper.py:156: ComplexWarning: Casting complex values to real discards the imaginary part\n",
      "  return A.astype(dtype, order, casting, subok, copy)\n"
     ]
    },
    {
     "name": "stdout",
     "output_type": "stream",
     "text": [
      "Epoch 2, Batch:9 Loss = 0.6083770778050753\n",
      "--------------------------------------------------\n"
     ]
    },
    {
     "name": "stderr",
     "output_type": "stream",
     "text": [
      "c:\\Users\\forazi\\.conda\\envs\\forazi\\Lib\\site-packages\\autograd\\numpy\\numpy_wrapper.py:156: ComplexWarning: Casting complex values to real discards the imaginary part\n",
      "  return A.astype(dtype, order, casting, subok, copy)\n"
     ]
    },
    {
     "name": "stdout",
     "output_type": "stream",
     "text": [
      "Running AE with 3 input qubit and 2 trash qubit in batches of 50\n"
     ]
    },
    {
     "name": "stderr",
     "output_type": "stream",
     "text": [
      "c:\\Users\\forazi\\.conda\\envs\\forazi\\Lib\\site-packages\\autograd\\numpy\\numpy_wrapper.py:156: ComplexWarning: Casting complex values to real discards the imaginary part\n",
      "  return A.astype(dtype, order, casting, subok, copy)\n"
     ]
    },
    {
     "name": "stdout",
     "output_type": "stream",
     "text": [
      "Epoch 0, Batch:0 Loss = 0.9462582572739882\r"
     ]
    },
    {
     "name": "stderr",
     "output_type": "stream",
     "text": [
      "c:\\Users\\forazi\\.conda\\envs\\forazi\\Lib\\site-packages\\autograd\\numpy\\numpy_wrapper.py:156: ComplexWarning: Casting complex values to real discards the imaginary part\n",
      "  return A.astype(dtype, order, casting, subok, copy)\n"
     ]
    },
    {
     "name": "stdout",
     "output_type": "stream",
     "text": [
      "Epoch 0, Batch:1 Loss = 0.9472520745259582\r"
     ]
    },
    {
     "name": "stderr",
     "output_type": "stream",
     "text": [
      "c:\\Users\\forazi\\.conda\\envs\\forazi\\Lib\\site-packages\\autograd\\numpy\\numpy_wrapper.py:156: ComplexWarning: Casting complex values to real discards the imaginary part\n",
      "  return A.astype(dtype, order, casting, subok, copy)\n"
     ]
    },
    {
     "name": "stdout",
     "output_type": "stream",
     "text": [
      "Epoch 1, Batch:0 Loss = 0.7966888872644955\r"
     ]
    },
    {
     "name": "stderr",
     "output_type": "stream",
     "text": [
      "c:\\Users\\forazi\\.conda\\envs\\forazi\\Lib\\site-packages\\autograd\\numpy\\numpy_wrapper.py:156: ComplexWarning: Casting complex values to real discards the imaginary part\n",
      "  return A.astype(dtype, order, casting, subok, copy)\n"
     ]
    },
    {
     "name": "stdout",
     "output_type": "stream",
     "text": [
      "Epoch 1, Batch:1 Loss = 0.7992602063215979\r"
     ]
    },
    {
     "name": "stderr",
     "output_type": "stream",
     "text": [
      "c:\\Users\\forazi\\.conda\\envs\\forazi\\Lib\\site-packages\\autograd\\numpy\\numpy_wrapper.py:156: ComplexWarning: Casting complex values to real discards the imaginary part\n",
      "  return A.astype(dtype, order, casting, subok, copy)\n"
     ]
    },
    {
     "name": "stdout",
     "output_type": "stream",
     "text": [
      "Epoch 2, Batch:0 Loss = 0.611526498706261\r"
     ]
    },
    {
     "name": "stderr",
     "output_type": "stream",
     "text": [
      "c:\\Users\\forazi\\.conda\\envs\\forazi\\Lib\\site-packages\\autograd\\numpy\\numpy_wrapper.py:156: ComplexWarning: Casting complex values to real discards the imaginary part\n",
      "  return A.astype(dtype, order, casting, subok, copy)\n"
     ]
    },
    {
     "name": "stdout",
     "output_type": "stream",
     "text": [
      "Epoch 2, Batch:1 Loss = 0.6171485801170506\n",
      "--------------------------------------------------\n",
      "Running AE with 3 input qubit and 2 trash qubit in batches of 100\n"
     ]
    },
    {
     "name": "stderr",
     "output_type": "stream",
     "text": [
      "c:\\Users\\forazi\\.conda\\envs\\forazi\\Lib\\site-packages\\autograd\\numpy\\numpy_wrapper.py:156: ComplexWarning: Casting complex values to real discards the imaginary part\n",
      "  return A.astype(dtype, order, casting, subok, copy)\n"
     ]
    },
    {
     "name": "stdout",
     "output_type": "stream",
     "text": [
      "Epoch 0, Batch:0 Loss = 0.9472520745259579\r"
     ]
    },
    {
     "name": "stderr",
     "output_type": "stream",
     "text": [
      "c:\\Users\\forazi\\.conda\\envs\\forazi\\Lib\\site-packages\\autograd\\numpy\\numpy_wrapper.py:156: ComplexWarning: Casting complex values to real discards the imaginary part\n",
      "  return A.astype(dtype, order, casting, subok, copy)\n"
     ]
    },
    {
     "name": "stdout",
     "output_type": "stream",
     "text": [
      "Epoch 1, Batch:0 Loss = 0.7984758445424454\r"
     ]
    },
    {
     "name": "stderr",
     "output_type": "stream",
     "text": [
      "c:\\Users\\forazi\\.conda\\envs\\forazi\\Lib\\site-packages\\autograd\\numpy\\numpy_wrapper.py:156: ComplexWarning: Casting complex values to real discards the imaginary part\n",
      "  return A.astype(dtype, order, casting, subok, copy)\n"
     ]
    },
    {
     "name": "stdout",
     "output_type": "stream",
     "text": [
      "Epoch 2, Batch:0 Loss = 0.6183746871709837\n",
      "--------------------------------------------------\n",
      "Running AE with 4 input qubit and 1 trash qubit in batches of 10\n"
     ]
    },
    {
     "name": "stderr",
     "output_type": "stream",
     "text": [
      "c:\\Users\\forazi\\.conda\\envs\\forazi\\Lib\\site-packages\\autograd\\numpy\\numpy_wrapper.py:156: ComplexWarning: Casting complex values to real discards the imaginary part\n",
      "  return A.astype(dtype, order, casting, subok, copy)\n"
     ]
    },
    {
     "name": "stdout",
     "output_type": "stream",
     "text": [
      "Epoch 0, Batch:0 Loss = 0.5671658368697977\r"
     ]
    },
    {
     "name": "stderr",
     "output_type": "stream",
     "text": [
      "c:\\Users\\forazi\\.conda\\envs\\forazi\\Lib\\site-packages\\autograd\\numpy\\numpy_wrapper.py:156: ComplexWarning: Casting complex values to real discards the imaginary part\n",
      "  return A.astype(dtype, order, casting, subok, copy)\n"
     ]
    },
    {
     "name": "stdout",
     "output_type": "stream",
     "text": [
      "Epoch 0, Batch:1 Loss = 0.5645938962268777\r"
     ]
    },
    {
     "name": "stderr",
     "output_type": "stream",
     "text": [
      "c:\\Users\\forazi\\.conda\\envs\\forazi\\Lib\\site-packages\\autograd\\numpy\\numpy_wrapper.py:156: ComplexWarning: Casting complex values to real discards the imaginary part\n",
      "  return A.astype(dtype, order, casting, subok, copy)\n"
     ]
    },
    {
     "name": "stdout",
     "output_type": "stream",
     "text": [
      "Epoch 0, Batch:2 Loss = 0.5620679226850656\r"
     ]
    },
    {
     "name": "stderr",
     "output_type": "stream",
     "text": [
      "c:\\Users\\forazi\\.conda\\envs\\forazi\\Lib\\site-packages\\autograd\\numpy\\numpy_wrapper.py:156: ComplexWarning: Casting complex values to real discards the imaginary part\n",
      "  return A.astype(dtype, order, casting, subok, copy)\n"
     ]
    },
    {
     "name": "stdout",
     "output_type": "stream",
     "text": [
      "Epoch 0, Batch:3 Loss = 0.558447543234383\r"
     ]
    },
    {
     "name": "stderr",
     "output_type": "stream",
     "text": [
      "c:\\Users\\forazi\\.conda\\envs\\forazi\\Lib\\site-packages\\autograd\\numpy\\numpy_wrapper.py:156: ComplexWarning: Casting complex values to real discards the imaginary part\n",
      "  return A.astype(dtype, order, casting, subok, copy)\n"
     ]
    },
    {
     "name": "stdout",
     "output_type": "stream",
     "text": [
      "Epoch 0, Batch:4 Loss = 0.5564930502426718\r"
     ]
    },
    {
     "name": "stderr",
     "output_type": "stream",
     "text": [
      "c:\\Users\\forazi\\.conda\\envs\\forazi\\Lib\\site-packages\\autograd\\numpy\\numpy_wrapper.py:156: ComplexWarning: Casting complex values to real discards the imaginary part\n",
      "  return A.astype(dtype, order, casting, subok, copy)\n"
     ]
    },
    {
     "name": "stdout",
     "output_type": "stream",
     "text": [
      "Epoch 0, Batch:5 Loss = 0.5514734164862312\r"
     ]
    },
    {
     "name": "stderr",
     "output_type": "stream",
     "text": [
      "c:\\Users\\forazi\\.conda\\envs\\forazi\\Lib\\site-packages\\autograd\\numpy\\numpy_wrapper.py:156: ComplexWarning: Casting complex values to real discards the imaginary part\n",
      "  return A.astype(dtype, order, casting, subok, copy)\n"
     ]
    },
    {
     "name": "stdout",
     "output_type": "stream",
     "text": [
      "Epoch 0, Batch:6 Loss = 0.5509007356034129\r"
     ]
    },
    {
     "name": "stderr",
     "output_type": "stream",
     "text": [
      "c:\\Users\\forazi\\.conda\\envs\\forazi\\Lib\\site-packages\\autograd\\numpy\\numpy_wrapper.py:156: ComplexWarning: Casting complex values to real discards the imaginary part\n",
      "  return A.astype(dtype, order, casting, subok, copy)\n"
     ]
    },
    {
     "name": "stdout",
     "output_type": "stream",
     "text": [
      "Epoch 0, Batch:7 Loss = 0.5511754327309764\r"
     ]
    },
    {
     "name": "stderr",
     "output_type": "stream",
     "text": [
      "c:\\Users\\forazi\\.conda\\envs\\forazi\\Lib\\site-packages\\autograd\\numpy\\numpy_wrapper.py:156: ComplexWarning: Casting complex values to real discards the imaginary part\n",
      "  return A.astype(dtype, order, casting, subok, copy)\n"
     ]
    },
    {
     "name": "stdout",
     "output_type": "stream",
     "text": [
      "Epoch 0, Batch:8 Loss = 0.5527731695051371\r"
     ]
    },
    {
     "name": "stderr",
     "output_type": "stream",
     "text": [
      "c:\\Users\\forazi\\.conda\\envs\\forazi\\Lib\\site-packages\\autograd\\numpy\\numpy_wrapper.py:156: ComplexWarning: Casting complex values to real discards the imaginary part\n",
      "  return A.astype(dtype, order, casting, subok, copy)\n"
     ]
    },
    {
     "name": "stdout",
     "output_type": "stream",
     "text": [
      "Epoch 0, Batch:9 Loss = 0.5513144094112136\r"
     ]
    },
    {
     "name": "stderr",
     "output_type": "stream",
     "text": [
      "c:\\Users\\forazi\\.conda\\envs\\forazi\\Lib\\site-packages\\autograd\\numpy\\numpy_wrapper.py:156: ComplexWarning: Casting complex values to real discards the imaginary part\n",
      "  return A.astype(dtype, order, casting, subok, copy)\n"
     ]
    },
    {
     "name": "stdout",
     "output_type": "stream",
     "text": [
      "Epoch 1, Batch:0 Loss = 0.44703078935167806\r"
     ]
    },
    {
     "ename": "DecompositionUndefinedError",
     "evalue": "",
     "output_type": "error",
     "traceback": [
      "\u001b[1;31m---------------------------------------------------------------------------\u001b[0m",
      "\u001b[1;31mKeyboardInterrupt\u001b[0m                         Traceback (most recent call last)",
      "File \u001b[1;32mc:\\Users\\forazi\\.conda\\envs\\forazi\\Lib\\site-packages\\pennylane\\ops\\functions\\matrix.py:229\u001b[0m, in \u001b[0;36mmatrix\u001b[1;34m(op, wire_order)\u001b[0m\n\u001b[0;32m    228\u001b[0m \u001b[38;5;28;01mtry\u001b[39;00m:\n\u001b[1;32m--> 229\u001b[0m     \u001b[38;5;28;01mreturn\u001b[39;00m \u001b[43mop\u001b[49m\u001b[38;5;241;43m.\u001b[39;49m\u001b[43mmatrix\u001b[49m\u001b[43m(\u001b[49m\u001b[43mwire_order\u001b[49m\u001b[38;5;241;43m=\u001b[39;49m\u001b[43mwire_order\u001b[49m\u001b[43m)\u001b[49m\n\u001b[0;32m    230\u001b[0m \u001b[38;5;28;01mexcept\u001b[39;00m:  \u001b[38;5;66;03m# pylint: disable=bare-except\u001b[39;00m\n",
      "File \u001b[1;32mc:\\Users\\forazi\\.conda\\envs\\forazi\\Lib\\site-packages\\pennylane\\ops\\op_math\\sum.py:333\u001b[0m, in \u001b[0;36mSum.matrix\u001b[1;34m(self, wire_order)\u001b[0m\n\u001b[0;32m    332\u001b[0m \u001b[38;5;28;01mif\u001b[39;00m \u001b[38;5;28mself\u001b[39m\u001b[38;5;241m.\u001b[39mpauli_rep:\n\u001b[1;32m--> 333\u001b[0m     \u001b[38;5;28;01mreturn\u001b[39;00m \u001b[38;5;28;43mself\u001b[39;49m\u001b[38;5;241;43m.\u001b[39;49m\u001b[43mpauli_rep\u001b[49m\u001b[38;5;241;43m.\u001b[39;49m\u001b[43mto_mat\u001b[49m\u001b[43m(\u001b[49m\u001b[43mwire_order\u001b[49m\u001b[38;5;241;43m=\u001b[39;49m\u001b[43mwire_order\u001b[49m\u001b[43m \u001b[49m\u001b[38;5;129;43;01mor\u001b[39;49;00m\u001b[43m \u001b[49m\u001b[38;5;28;43mself\u001b[39;49m\u001b[38;5;241;43m.\u001b[39;49m\u001b[43mwires\u001b[49m\u001b[43m)\u001b[49m\n\u001b[0;32m    334\u001b[0m gen \u001b[38;5;241m=\u001b[39m (\n\u001b[0;32m    335\u001b[0m     (qml\u001b[38;5;241m.\u001b[39mmatrix(op) \u001b[38;5;28;01mif\u001b[39;00m \u001b[38;5;28misinstance\u001b[39m(op, qml\u001b[38;5;241m.\u001b[39mops\u001b[38;5;241m.\u001b[39mHamiltonian) \u001b[38;5;28;01melse\u001b[39;00m op\u001b[38;5;241m.\u001b[39mmatrix(), op\u001b[38;5;241m.\u001b[39mwires)\n\u001b[0;32m    336\u001b[0m     \u001b[38;5;28;01mfor\u001b[39;00m op \u001b[38;5;129;01min\u001b[39;00m \u001b[38;5;28mself\u001b[39m\n\u001b[0;32m    337\u001b[0m )\n",
      "File \u001b[1;32mc:\\Users\\forazi\\.conda\\envs\\forazi\\Lib\\site-packages\\pennylane\\pauli\\pauli_arithmetic.py:850\u001b[0m, in \u001b[0;36mPauliSentence.to_mat\u001b[1;34m(self, wire_order, format, buffer_size)\u001b[0m\n\u001b[0;32m    849\u001b[0m \u001b[38;5;28;01mif\u001b[39;00m \u001b[38;5;28mformat\u001b[39m \u001b[38;5;241m==\u001b[39m \u001b[38;5;124m\"\u001b[39m\u001b[38;5;124mdense\u001b[39m\u001b[38;5;124m\"\u001b[39m:\n\u001b[1;32m--> 850\u001b[0m     \u001b[38;5;28;01mreturn\u001b[39;00m \u001b[38;5;28;43mself\u001b[39;49m\u001b[38;5;241;43m.\u001b[39;49m\u001b[43m_to_dense_mat\u001b[49m\u001b[43m(\u001b[49m\u001b[43mwire_order\u001b[49m\u001b[43m)\u001b[49m\n\u001b[0;32m    851\u001b[0m \u001b[38;5;28;01mreturn\u001b[39;00m \u001b[38;5;28mself\u001b[39m\u001b[38;5;241m.\u001b[39m_to_sparse_mat(wire_order, buffer_size\u001b[38;5;241m=\u001b[39mbuffer_size)\n",
      "File \u001b[1;32mc:\\Users\\forazi\\.conda\\envs\\forazi\\Lib\\site-packages\\pennylane\\pauli\\pauli_arithmetic.py:897\u001b[0m, in \u001b[0;36mPauliSentence._to_dense_mat\u001b[1;34m(self, wire_order)\u001b[0m\n\u001b[0;32m    896\u001b[0m \u001b[38;5;28;01mtry\u001b[39;00m:\n\u001b[1;32m--> 897\u001b[0m     op_sparse_idx \u001b[38;5;241m=\u001b[39m \u001b[43m_ps_to_sparse_index\u001b[49m\u001b[43m(\u001b[49m\u001b[43mpauli_words\u001b[49m\u001b[43m,\u001b[49m\u001b[43m \u001b[49m\u001b[43mwire_order\u001b[49m\u001b[43m)\u001b[49m\n\u001b[0;32m    898\u001b[0m \u001b[38;5;28;01mexcept\u001b[39;00m qml\u001b[38;5;241m.\u001b[39mwires\u001b[38;5;241m.\u001b[39mWireError \u001b[38;5;28;01mas\u001b[39;00m e:\n",
      "File \u001b[1;32mc:\\Users\\forazi\\.conda\\envs\\forazi\\Lib\\site-packages\\pennylane\\pauli\\pauli_arithmetic.py:107\u001b[0m, in \u001b[0;36m_ps_to_sparse_index\u001b[1;34m(pauli_words, wires)\u001b[0m\n\u001b[0;32m    106\u001b[0m     wire_indices \u001b[38;5;241m=\u001b[39m np\u001b[38;5;241m.\u001b[39marray(wires\u001b[38;5;241m.\u001b[39mindices(pw\u001b[38;5;241m.\u001b[39mwires))\n\u001b[1;32m--> 107\u001b[0m     indices[i, wire_indices] \u001b[38;5;241m=\u001b[39m [pauli_to_sparse_int[pw[w]] \u001b[38;5;28;01mfor\u001b[39;00m w \u001b[38;5;129;01min\u001b[39;00m pw\u001b[38;5;241m.\u001b[39mwires]\n\u001b[0;32m    108\u001b[0m \u001b[38;5;28;01mreturn\u001b[39;00m indices\n",
      "\u001b[1;31mKeyboardInterrupt\u001b[0m: ",
      "\nDuring handling of the above exception, another exception occurred:\n",
      "\u001b[1;31mDecompositionUndefinedError\u001b[0m               Traceback (most recent call last)",
      "Cell \u001b[1;32mIn[5], line 12\u001b[0m\n\u001b[0;32m     10\u001b[0m dvc \u001b[38;5;241m=\u001b[39m qml\u001b[38;5;241m.\u001b[39mdevice(\u001b[38;5;124m'\u001b[39m\u001b[38;5;124mdefault.qubit\u001b[39m\u001b[38;5;124m'\u001b[39m, wires\u001b[38;5;241m=\u001b[39mn_qubit, shots\u001b[38;5;241m=\u001b[39m\u001b[38;5;28;01mNone\u001b[39;00m)\n\u001b[0;32m     11\u001b[0m ae \u001b[38;5;241m=\u001b[39m Autoencoder(\u001b[38;5;124m'\u001b[39m\u001b[38;5;124mfd\u001b[39m\u001b[38;5;124m'\u001b[39m,n_qubit_autoencoder,n_trash_qubit,dvc,seed)\n\u001b[1;32m---> 12\u001b[0m \u001b[43mae\u001b[49m\u001b[38;5;241;43m.\u001b[39;49m\u001b[43mtrain\u001b[49m\u001b[43m(\u001b[49m\u001b[43mX\u001b[49m\u001b[43m,\u001b[49m\u001b[43mopt\u001b[49m\u001b[43m,\u001b[49m\u001b[43mepochs\u001b[49m\u001b[43m,\u001b[49m\u001b[43mbatch_size\u001b[49m\u001b[43m)\u001b[49m\n\u001b[0;32m     13\u001b[0m os\u001b[38;5;241m.\u001b[39mmakedirs(folder)\n\u001b[0;32m     14\u001b[0m loss\u001b[38;5;241m=\u001b[39mae\u001b[38;5;241m.\u001b[39mget_loss()\n",
      "File \u001b[1;32m\\\\gess-fs.d.ethz.ch\\home$\\forazi\\Desktop\\multidestructiveSWAP\\autoencoder.py:172\u001b[0m, in \u001b[0;36mAutoencoder.train\u001b[1;34m(self, X, opt, epochs, batch_size, restart)\u001b[0m\n\u001b[0;32m    169\u001b[0m     current_loss \u001b[38;5;241m=\u001b[39m pred\u001b[38;5;241m.\u001b[39mmean()\n\u001b[0;32m    170\u001b[0m     \u001b[38;5;28;01mreturn\u001b[39;00m current_loss\n\u001b[1;32m--> 172\u001b[0m weights, loss_value \u001b[38;5;241m=\u001b[39m \u001b[43mopt\u001b[49m\u001b[38;5;241;43m.\u001b[39;49m\u001b[43mstep_and_cost\u001b[49m\u001b[43m(\u001b[49m\u001b[43mloss_function\u001b[49m\u001b[43m,\u001b[49m\u001b[43m \u001b[49m\u001b[38;5;28;43mself\u001b[39;49m\u001b[38;5;241;43m.\u001b[39;49m\u001b[43m__wq\u001b[49m\u001b[43m[\u001b[49m\u001b[38;5;241;43m-\u001b[39;49m\u001b[38;5;241;43m1\u001b[39;49m\u001b[43m]\u001b[49m\u001b[43m)\u001b[49m\n\u001b[0;32m    173\u001b[0m batch_loss\u001b[38;5;241m.\u001b[39mappend(loss_value)\n\u001b[0;32m    174\u001b[0m \u001b[38;5;28mprint\u001b[39m(\u001b[38;5;124mf\u001b[39m\u001b[38;5;124m'\u001b[39m\u001b[38;5;124mEpoch \u001b[39m\u001b[38;5;132;01m{\u001b[39;00mepoch\u001b[38;5;132;01m}\u001b[39;00m\u001b[38;5;124m, Batch:\u001b[39m\u001b[38;5;132;01m{\u001b[39;00mi\u001b[38;5;132;01m}\u001b[39;00m\u001b[38;5;124m Loss = \u001b[39m\u001b[38;5;132;01m{\u001b[39;00mnp\u001b[38;5;241m.\u001b[39mmean(batch_loss)\u001b[38;5;132;01m}\u001b[39;00m\u001b[38;5;124m'\u001b[39m,end\u001b[38;5;241m=\u001b[39m\u001b[38;5;124m'\u001b[39m\u001b[38;5;130;01m\\r\u001b[39;00m\u001b[38;5;124m'\u001b[39m)\n",
      "File \u001b[1;32mc:\\Users\\forazi\\.conda\\envs\\forazi\\Lib\\site-packages\\pennylane\\optimize\\gradient_descent.py:64\u001b[0m, in \u001b[0;36mGradientDescentOptimizer.step_and_cost\u001b[1;34m(self, objective_fn, grad_fn, *args, **kwargs)\u001b[0m\n\u001b[0;32m     44\u001b[0m \u001b[38;5;28;01mdef\u001b[39;00m \u001b[38;5;21mstep_and_cost\u001b[39m(\u001b[38;5;28mself\u001b[39m, objective_fn, \u001b[38;5;241m*\u001b[39margs, grad_fn\u001b[38;5;241m=\u001b[39m\u001b[38;5;28;01mNone\u001b[39;00m, \u001b[38;5;241m*\u001b[39m\u001b[38;5;241m*\u001b[39mkwargs):\n\u001b[0;32m     45\u001b[0m \u001b[38;5;250m    \u001b[39m\u001b[38;5;124;03m\"\"\"Update trainable arguments with one step of the optimizer and return the corresponding\u001b[39;00m\n\u001b[0;32m     46\u001b[0m \u001b[38;5;124;03m    objective function value prior to the step.\u001b[39;00m\n\u001b[0;32m     47\u001b[0m \n\u001b[1;32m   (...)\u001b[0m\n\u001b[0;32m     61\u001b[0m \u001b[38;5;124;03m        If single arg is provided, list [array] is replaced by array.\u001b[39;00m\n\u001b[0;32m     62\u001b[0m \u001b[38;5;124;03m    \"\"\"\u001b[39;00m\n\u001b[1;32m---> 64\u001b[0m     g, forward \u001b[38;5;241m=\u001b[39m \u001b[38;5;28;43mself\u001b[39;49m\u001b[38;5;241;43m.\u001b[39;49m\u001b[43mcompute_grad\u001b[49m\u001b[43m(\u001b[49m\u001b[43mobjective_fn\u001b[49m\u001b[43m,\u001b[49m\u001b[43m \u001b[49m\u001b[43margs\u001b[49m\u001b[43m,\u001b[49m\u001b[43m \u001b[49m\u001b[43mkwargs\u001b[49m\u001b[43m,\u001b[49m\u001b[43m \u001b[49m\u001b[43mgrad_fn\u001b[49m\u001b[38;5;241;43m=\u001b[39;49m\u001b[43mgrad_fn\u001b[49m\u001b[43m)\u001b[49m\n\u001b[0;32m     65\u001b[0m     new_args \u001b[38;5;241m=\u001b[39m \u001b[38;5;28mself\u001b[39m\u001b[38;5;241m.\u001b[39mapply_grad(g, args)\n\u001b[0;32m     67\u001b[0m     \u001b[38;5;28;01mif\u001b[39;00m forward \u001b[38;5;129;01mis\u001b[39;00m \u001b[38;5;28;01mNone\u001b[39;00m:\n",
      "File \u001b[1;32mc:\\Users\\forazi\\.conda\\envs\\forazi\\Lib\\site-packages\\pennylane\\optimize\\gradient_descent.py:122\u001b[0m, in \u001b[0;36mGradientDescentOptimizer.compute_grad\u001b[1;34m(objective_fn, args, kwargs, grad_fn)\u001b[0m\n\u001b[0;32m    104\u001b[0m \u001b[38;5;250m\u001b[39m\u001b[38;5;124mr\u001b[39m\u001b[38;5;124;03m\"\"\"Compute gradient of the objective function at the given point and return it along with\u001b[39;00m\n\u001b[0;32m    105\u001b[0m \u001b[38;5;124;03mthe objective function forward pass (if available).\u001b[39;00m\n\u001b[0;32m    106\u001b[0m \n\u001b[1;32m   (...)\u001b[0m\n\u001b[0;32m    119\u001b[0m \u001b[38;5;124;03m    will not be evaluted and instead ``None`` will be returned.\u001b[39;00m\n\u001b[0;32m    120\u001b[0m \u001b[38;5;124;03m\"\"\"\u001b[39;00m\n\u001b[0;32m    121\u001b[0m g \u001b[38;5;241m=\u001b[39m get_gradient(objective_fn) \u001b[38;5;28;01mif\u001b[39;00m grad_fn \u001b[38;5;129;01mis\u001b[39;00m \u001b[38;5;28;01mNone\u001b[39;00m \u001b[38;5;28;01melse\u001b[39;00m grad_fn\n\u001b[1;32m--> 122\u001b[0m grad \u001b[38;5;241m=\u001b[39m \u001b[43mg\u001b[49m\u001b[43m(\u001b[49m\u001b[38;5;241;43m*\u001b[39;49m\u001b[43margs\u001b[49m\u001b[43m,\u001b[49m\u001b[43m \u001b[49m\u001b[38;5;241;43m*\u001b[39;49m\u001b[38;5;241;43m*\u001b[39;49m\u001b[43mkwargs\u001b[49m\u001b[43m)\u001b[49m\n\u001b[0;32m    123\u001b[0m forward \u001b[38;5;241m=\u001b[39m \u001b[38;5;28mgetattr\u001b[39m(g, \u001b[38;5;124m\"\u001b[39m\u001b[38;5;124mforward\u001b[39m\u001b[38;5;124m\"\u001b[39m, \u001b[38;5;28;01mNone\u001b[39;00m)\n\u001b[0;32m    125\u001b[0m num_trainable_args \u001b[38;5;241m=\u001b[39m \u001b[38;5;28msum\u001b[39m(\u001b[38;5;28mgetattr\u001b[39m(arg, \u001b[38;5;124m\"\u001b[39m\u001b[38;5;124mrequires_grad\u001b[39m\u001b[38;5;124m\"\u001b[39m, \u001b[38;5;28;01mFalse\u001b[39;00m) \u001b[38;5;28;01mfor\u001b[39;00m arg \u001b[38;5;129;01min\u001b[39;00m args)\n",
      "File \u001b[1;32mc:\\Users\\forazi\\.conda\\envs\\forazi\\Lib\\site-packages\\pennylane\\_grad.py:166\u001b[0m, in \u001b[0;36mgrad.__call__\u001b[1;34m(self, *args, **kwargs)\u001b[0m\n\u001b[0;32m    163\u001b[0m     \u001b[38;5;28mself\u001b[39m\u001b[38;5;241m.\u001b[39m_forward \u001b[38;5;241m=\u001b[39m \u001b[38;5;28mself\u001b[39m\u001b[38;5;241m.\u001b[39m_fun(\u001b[38;5;241m*\u001b[39margs, \u001b[38;5;241m*\u001b[39m\u001b[38;5;241m*\u001b[39mkwargs)\n\u001b[0;32m    164\u001b[0m     \u001b[38;5;28;01mreturn\u001b[39;00m ()\n\u001b[1;32m--> 166\u001b[0m grad_value, ans \u001b[38;5;241m=\u001b[39m \u001b[43mgrad_fn\u001b[49m\u001b[43m(\u001b[49m\u001b[38;5;241;43m*\u001b[39;49m\u001b[43margs\u001b[49m\u001b[43m,\u001b[49m\u001b[43m \u001b[49m\u001b[38;5;241;43m*\u001b[39;49m\u001b[38;5;241;43m*\u001b[39;49m\u001b[43mkwargs\u001b[49m\u001b[43m)\u001b[49m  \u001b[38;5;66;03m# pylint: disable=not-callable\u001b[39;00m\n\u001b[0;32m    167\u001b[0m \u001b[38;5;28mself\u001b[39m\u001b[38;5;241m.\u001b[39m_forward \u001b[38;5;241m=\u001b[39m ans\n\u001b[0;32m    169\u001b[0m \u001b[38;5;28;01mreturn\u001b[39;00m grad_value\n",
      "File \u001b[1;32mc:\\Users\\forazi\\.conda\\envs\\forazi\\Lib\\site-packages\\autograd\\wrap_util.py:20\u001b[0m, in \u001b[0;36munary_to_nary.<locals>.nary_operator.<locals>.nary_f\u001b[1;34m(*args, **kwargs)\u001b[0m\n\u001b[0;32m     18\u001b[0m \u001b[38;5;28;01melse\u001b[39;00m:\n\u001b[0;32m     19\u001b[0m     x \u001b[38;5;241m=\u001b[39m \u001b[38;5;28mtuple\u001b[39m(args[i] \u001b[38;5;28;01mfor\u001b[39;00m i \u001b[38;5;129;01min\u001b[39;00m argnum)\n\u001b[1;32m---> 20\u001b[0m \u001b[38;5;28;01mreturn\u001b[39;00m \u001b[43munary_operator\u001b[49m\u001b[43m(\u001b[49m\u001b[43munary_f\u001b[49m\u001b[43m,\u001b[49m\u001b[43m \u001b[49m\u001b[43mx\u001b[49m\u001b[43m,\u001b[49m\u001b[43m \u001b[49m\u001b[38;5;241;43m*\u001b[39;49m\u001b[43mnary_op_args\u001b[49m\u001b[43m,\u001b[49m\u001b[43m \u001b[49m\u001b[38;5;241;43m*\u001b[39;49m\u001b[38;5;241;43m*\u001b[39;49m\u001b[43mnary_op_kwargs\u001b[49m\u001b[43m)\u001b[49m\n",
      "File \u001b[1;32mc:\\Users\\forazi\\.conda\\envs\\forazi\\Lib\\site-packages\\pennylane\\_grad.py:184\u001b[0m, in \u001b[0;36mgrad._grad_with_forward\u001b[1;34m(fun, x)\u001b[0m\n\u001b[0;32m    178\u001b[0m \u001b[38;5;129m@staticmethod\u001b[39m\n\u001b[0;32m    179\u001b[0m \u001b[38;5;129m@unary_to_nary\u001b[39m\n\u001b[0;32m    180\u001b[0m \u001b[38;5;28;01mdef\u001b[39;00m \u001b[38;5;21m_grad_with_forward\u001b[39m(fun, x):\n\u001b[0;32m    181\u001b[0m \u001b[38;5;250m    \u001b[39m\u001b[38;5;124;03m\"\"\"This function is a replica of ``autograd.grad``, with the only\u001b[39;00m\n\u001b[0;32m    182\u001b[0m \u001b[38;5;124;03m    difference being that it returns both the gradient *and* the forward pass\u001b[39;00m\n\u001b[0;32m    183\u001b[0m \u001b[38;5;124;03m    value.\"\"\"\u001b[39;00m\n\u001b[1;32m--> 184\u001b[0m     vjp, ans \u001b[38;5;241m=\u001b[39m \u001b[43m_make_vjp\u001b[49m\u001b[43m(\u001b[49m\u001b[43mfun\u001b[49m\u001b[43m,\u001b[49m\u001b[43m \u001b[49m\u001b[43mx\u001b[49m\u001b[43m)\u001b[49m  \u001b[38;5;66;03m# pylint: disable=redefined-outer-name\u001b[39;00m\n\u001b[0;32m    186\u001b[0m     \u001b[38;5;28;01mif\u001b[39;00m vspace(ans)\u001b[38;5;241m.\u001b[39msize \u001b[38;5;241m!=\u001b[39m \u001b[38;5;241m1\u001b[39m:\n\u001b[0;32m    187\u001b[0m         \u001b[38;5;28;01mraise\u001b[39;00m \u001b[38;5;167;01mTypeError\u001b[39;00m(\n\u001b[0;32m    188\u001b[0m             \u001b[38;5;124m\"\u001b[39m\u001b[38;5;124mGrad only applies to real scalar-output functions. \u001b[39m\u001b[38;5;124m\"\u001b[39m\n\u001b[0;32m    189\u001b[0m             \u001b[38;5;124m\"\u001b[39m\u001b[38;5;124mTry jacobian, elementwise_grad or holomorphic_grad.\u001b[39m\u001b[38;5;124m\"\u001b[39m\n\u001b[0;32m    190\u001b[0m         )\n",
      "File \u001b[1;32mc:\\Users\\forazi\\.conda\\envs\\forazi\\Lib\\site-packages\\autograd\\core.py:10\u001b[0m, in \u001b[0;36mmake_vjp\u001b[1;34m(fun, x)\u001b[0m\n\u001b[0;32m      8\u001b[0m \u001b[38;5;28;01mdef\u001b[39;00m \u001b[38;5;21mmake_vjp\u001b[39m(fun, x):\n\u001b[0;32m      9\u001b[0m     start_node \u001b[38;5;241m=\u001b[39m VJPNode\u001b[38;5;241m.\u001b[39mnew_root()\n\u001b[1;32m---> 10\u001b[0m     end_value, end_node \u001b[38;5;241m=\u001b[39m  \u001b[43mtrace\u001b[49m\u001b[43m(\u001b[49m\u001b[43mstart_node\u001b[49m\u001b[43m,\u001b[49m\u001b[43m \u001b[49m\u001b[43mfun\u001b[49m\u001b[43m,\u001b[49m\u001b[43m \u001b[49m\u001b[43mx\u001b[49m\u001b[43m)\u001b[49m\n\u001b[0;32m     11\u001b[0m     \u001b[38;5;28;01mif\u001b[39;00m end_node \u001b[38;5;129;01mis\u001b[39;00m \u001b[38;5;28;01mNone\u001b[39;00m:\n\u001b[0;32m     12\u001b[0m         \u001b[38;5;28;01mdef\u001b[39;00m \u001b[38;5;21mvjp\u001b[39m(g): \u001b[38;5;28;01mreturn\u001b[39;00m vspace(x)\u001b[38;5;241m.\u001b[39mzeros()\n",
      "File \u001b[1;32mc:\\Users\\forazi\\.conda\\envs\\forazi\\Lib\\site-packages\\autograd\\tracer.py:10\u001b[0m, in \u001b[0;36mtrace\u001b[1;34m(start_node, fun, x)\u001b[0m\n\u001b[0;32m      8\u001b[0m \u001b[38;5;28;01mwith\u001b[39;00m trace_stack\u001b[38;5;241m.\u001b[39mnew_trace() \u001b[38;5;28;01mas\u001b[39;00m t:\n\u001b[0;32m      9\u001b[0m     start_box \u001b[38;5;241m=\u001b[39m new_box(x, t, start_node)\n\u001b[1;32m---> 10\u001b[0m     end_box \u001b[38;5;241m=\u001b[39m \u001b[43mfun\u001b[49m\u001b[43m(\u001b[49m\u001b[43mstart_box\u001b[49m\u001b[43m)\u001b[49m\n\u001b[0;32m     11\u001b[0m     \u001b[38;5;28;01mif\u001b[39;00m isbox(end_box) \u001b[38;5;129;01mand\u001b[39;00m end_box\u001b[38;5;241m.\u001b[39m_trace \u001b[38;5;241m==\u001b[39m start_box\u001b[38;5;241m.\u001b[39m_trace:\n\u001b[0;32m     12\u001b[0m         \u001b[38;5;28;01mreturn\u001b[39;00m end_box\u001b[38;5;241m.\u001b[39m_value, end_box\u001b[38;5;241m.\u001b[39m_node\n",
      "File \u001b[1;32mc:\\Users\\forazi\\.conda\\envs\\forazi\\Lib\\site-packages\\autograd\\wrap_util.py:15\u001b[0m, in \u001b[0;36munary_to_nary.<locals>.nary_operator.<locals>.nary_f.<locals>.unary_f\u001b[1;34m(x)\u001b[0m\n\u001b[0;32m     13\u001b[0m \u001b[38;5;28;01melse\u001b[39;00m:\n\u001b[0;32m     14\u001b[0m     subargs \u001b[38;5;241m=\u001b[39m subvals(args, \u001b[38;5;28mzip\u001b[39m(argnum, x))\n\u001b[1;32m---> 15\u001b[0m \u001b[38;5;28;01mreturn\u001b[39;00m \u001b[43mfun\u001b[49m\u001b[43m(\u001b[49m\u001b[38;5;241;43m*\u001b[39;49m\u001b[43msubargs\u001b[49m\u001b[43m,\u001b[49m\u001b[43m \u001b[49m\u001b[38;5;241;43m*\u001b[39;49m\u001b[38;5;241;43m*\u001b[39;49m\u001b[43mkwargs\u001b[49m\u001b[43m)\u001b[49m\n",
      "File \u001b[1;32m\\\\gess-fs.d.ethz.ch\\home$\\forazi\\Desktop\\multidestructiveSWAP\\autoencoder.py:168\u001b[0m, in \u001b[0;36mAutoencoder.train.<locals>.loss_function\u001b[1;34m(w)\u001b[0m\n\u001b[0;32m    167\u001b[0m \u001b[38;5;28;01mdef\u001b[39;00m \u001b[38;5;21mloss_function\u001b[39m(w): \n\u001b[1;32m--> 168\u001b[0m     pred \u001b[38;5;241m=\u001b[39mnp\u001b[38;5;241m.\u001b[39marray([\u001b[38;5;241m1\u001b[39m\u001b[38;5;241m-\u001b[39m\u001b[43mtrainer\u001b[49m\u001b[43m(\u001b[49m\u001b[43mw\u001b[49m\u001b[43m,\u001b[49m\u001b[43mx\u001b[49m\u001b[43m)\u001b[49m[\u001b[38;5;241m0\u001b[39m] \u001b[38;5;28;01mfor\u001b[39;00m x \u001b[38;5;129;01min\u001b[39;00m X_batch], requires_grad\u001b[38;5;241m=\u001b[39m\u001b[38;5;28;01mTrue\u001b[39;00m)\n\u001b[0;32m    169\u001b[0m     current_loss \u001b[38;5;241m=\u001b[39m pred\u001b[38;5;241m.\u001b[39mmean()\n\u001b[0;32m    170\u001b[0m     \u001b[38;5;28;01mreturn\u001b[39;00m current_loss\n",
      "File \u001b[1;32mc:\\Users\\forazi\\.conda\\envs\\forazi\\Lib\\site-packages\\pennylane\\workflow\\qnode.py:1020\u001b[0m, in \u001b[0;36mQNode.__call__\u001b[1;34m(self, *args, **kwargs)\u001b[0m\n\u001b[0;32m   1018\u001b[0m \u001b[38;5;28;01mif\u001b[39;00m qml\u001b[38;5;241m.\u001b[39mcapture\u001b[38;5;241m.\u001b[39menabled():\n\u001b[0;32m   1019\u001b[0m     \u001b[38;5;28;01mreturn\u001b[39;00m qml\u001b[38;5;241m.\u001b[39mcapture\u001b[38;5;241m.\u001b[39mqnode_call(\u001b[38;5;28mself\u001b[39m, \u001b[38;5;241m*\u001b[39margs, \u001b[38;5;241m*\u001b[39m\u001b[38;5;241m*\u001b[39mkwargs)\n\u001b[1;32m-> 1020\u001b[0m \u001b[38;5;28;01mreturn\u001b[39;00m \u001b[38;5;28;43mself\u001b[39;49m\u001b[38;5;241;43m.\u001b[39;49m\u001b[43m_impl_call\u001b[49m\u001b[43m(\u001b[49m\u001b[38;5;241;43m*\u001b[39;49m\u001b[43margs\u001b[49m\u001b[43m,\u001b[49m\u001b[43m \u001b[49m\u001b[38;5;241;43m*\u001b[39;49m\u001b[38;5;241;43m*\u001b[39;49m\u001b[43mkwargs\u001b[49m\u001b[43m)\u001b[49m\n",
      "File \u001b[1;32mc:\\Users\\forazi\\.conda\\envs\\forazi\\Lib\\site-packages\\pennylane\\workflow\\qnode.py:1008\u001b[0m, in \u001b[0;36mQNode._impl_call\u001b[1;34m(self, *args, **kwargs)\u001b[0m\n\u001b[0;32m   1005\u001b[0m \u001b[38;5;28mself\u001b[39m\u001b[38;5;241m.\u001b[39m_update_gradient_fn(shots\u001b[38;5;241m=\u001b[39moverride_shots, tape\u001b[38;5;241m=\u001b[39m\u001b[38;5;28mself\u001b[39m\u001b[38;5;241m.\u001b[39m_tape)\n\u001b[0;32m   1007\u001b[0m \u001b[38;5;28;01mtry\u001b[39;00m:\n\u001b[1;32m-> 1008\u001b[0m     res \u001b[38;5;241m=\u001b[39m \u001b[38;5;28;43mself\u001b[39;49m\u001b[38;5;241;43m.\u001b[39;49m\u001b[43m_execution_component\u001b[49m\u001b[43m(\u001b[49m\u001b[43margs\u001b[49m\u001b[43m,\u001b[49m\u001b[43m \u001b[49m\u001b[43mkwargs\u001b[49m\u001b[43m,\u001b[49m\u001b[43m \u001b[49m\u001b[43moverride_shots\u001b[49m\u001b[38;5;241;43m=\u001b[39;49m\u001b[43moverride_shots\u001b[49m\u001b[43m)\u001b[49m\n\u001b[0;32m   1009\u001b[0m \u001b[38;5;28;01mfinally\u001b[39;00m:\n\u001b[0;32m   1010\u001b[0m     \u001b[38;5;28;01mif\u001b[39;00m old_interface \u001b[38;5;241m==\u001b[39m \u001b[38;5;124m\"\u001b[39m\u001b[38;5;124mauto\u001b[39m\u001b[38;5;124m\"\u001b[39m:\n",
      "File \u001b[1;32mc:\\Users\\forazi\\.conda\\envs\\forazi\\Lib\\site-packages\\pennylane\\workflow\\qnode.py:957\u001b[0m, in \u001b[0;36mQNode._execution_component\u001b[1;34m(self, args, kwargs, override_shots)\u001b[0m\n\u001b[0;32m    951\u001b[0m     warnings\u001b[38;5;241m.\u001b[39mfilterwarnings(\n\u001b[0;32m    952\u001b[0m         action\u001b[38;5;241m=\u001b[39m\u001b[38;5;124m\"\u001b[39m\u001b[38;5;124mignore\u001b[39m\u001b[38;5;124m\"\u001b[39m,\n\u001b[0;32m    953\u001b[0m         message\u001b[38;5;241m=\u001b[39m\u001b[38;5;124mr\u001b[39m\u001b[38;5;124m\"\u001b[39m\u001b[38;5;124m.*argument is deprecated and will be removed in version 0.39.*\u001b[39m\u001b[38;5;124m\"\u001b[39m,\n\u001b[0;32m    954\u001b[0m         category\u001b[38;5;241m=\u001b[39mqml\u001b[38;5;241m.\u001b[39mPennyLaneDeprecationWarning,\n\u001b[0;32m    955\u001b[0m     )\n\u001b[0;32m    956\u001b[0m     \u001b[38;5;66;03m# pylint: disable=unexpected-keyword-arg\u001b[39;00m\n\u001b[1;32m--> 957\u001b[0m     res \u001b[38;5;241m=\u001b[39m \u001b[43mqml\u001b[49m\u001b[38;5;241;43m.\u001b[39;49m\u001b[43mexecute\u001b[49m\u001b[43m(\u001b[49m\n\u001b[0;32m    958\u001b[0m \u001b[43m        \u001b[49m\u001b[43m(\u001b[49m\u001b[38;5;28;43mself\u001b[39;49m\u001b[38;5;241;43m.\u001b[39;49m\u001b[43m_tape\u001b[49m\u001b[43m,\u001b[49m\u001b[43m)\u001b[49m\u001b[43m,\u001b[49m\n\u001b[0;32m    959\u001b[0m \u001b[43m        \u001b[49m\u001b[43mdevice\u001b[49m\u001b[38;5;241;43m=\u001b[39;49m\u001b[38;5;28;43mself\u001b[39;49m\u001b[38;5;241;43m.\u001b[39;49m\u001b[43mdevice\u001b[49m\u001b[43m,\u001b[49m\n\u001b[0;32m    960\u001b[0m \u001b[43m        \u001b[49m\u001b[43mgradient_fn\u001b[49m\u001b[38;5;241;43m=\u001b[39;49m\u001b[38;5;28;43mself\u001b[39;49m\u001b[38;5;241;43m.\u001b[39;49m\u001b[43mgradient_fn\u001b[49m\u001b[43m,\u001b[49m\n\u001b[0;32m    961\u001b[0m \u001b[43m        \u001b[49m\u001b[43minterface\u001b[49m\u001b[38;5;241;43m=\u001b[39;49m\u001b[38;5;28;43mself\u001b[39;49m\u001b[38;5;241;43m.\u001b[39;49m\u001b[43minterface\u001b[49m\u001b[43m,\u001b[49m\n\u001b[0;32m    962\u001b[0m \u001b[43m        \u001b[49m\u001b[43mtransform_program\u001b[49m\u001b[38;5;241;43m=\u001b[39;49m\u001b[43mfull_transform_program\u001b[49m\u001b[43m,\u001b[49m\n\u001b[0;32m    963\u001b[0m \u001b[43m        \u001b[49m\u001b[43minner_transform\u001b[49m\u001b[38;5;241;43m=\u001b[39;49m\u001b[43minner_transform_program\u001b[49m\u001b[43m,\u001b[49m\n\u001b[0;32m    964\u001b[0m \u001b[43m        \u001b[49m\u001b[43mconfig\u001b[49m\u001b[38;5;241;43m=\u001b[39;49m\u001b[43mconfig\u001b[49m\u001b[43m,\u001b[49m\n\u001b[0;32m    965\u001b[0m \u001b[43m        \u001b[49m\u001b[43mgradient_kwargs\u001b[49m\u001b[38;5;241;43m=\u001b[39;49m\u001b[38;5;28;43mself\u001b[39;49m\u001b[38;5;241;43m.\u001b[39;49m\u001b[43mgradient_kwargs\u001b[49m\u001b[43m,\u001b[49m\n\u001b[0;32m    966\u001b[0m \u001b[43m        \u001b[49m\u001b[43moverride_shots\u001b[49m\u001b[38;5;241;43m=\u001b[39;49m\u001b[43moverride_shots\u001b[49m\u001b[43m,\u001b[49m\n\u001b[0;32m    967\u001b[0m \u001b[43m        \u001b[49m\u001b[38;5;241;43m*\u001b[39;49m\u001b[38;5;241;43m*\u001b[39;49m\u001b[43mexecute_kwargs\u001b[49m\u001b[43m,\u001b[49m\n\u001b[0;32m    968\u001b[0m \u001b[43m    \u001b[49m\u001b[43m)\u001b[49m\n\u001b[0;32m    969\u001b[0m res \u001b[38;5;241m=\u001b[39m res[\u001b[38;5;241m0\u001b[39m]\n\u001b[0;32m    971\u001b[0m \u001b[38;5;66;03m# convert result to the interface in case the qfunc has no parameters\u001b[39;00m\n",
      "File \u001b[1;32mc:\\Users\\forazi\\.conda\\envs\\forazi\\Lib\\site-packages\\pennylane\\workflow\\execution.py:771\u001b[0m, in \u001b[0;36mexecute\u001b[1;34m(tapes, device, gradient_fn, interface, transform_program, inner_transform, config, grad_on_execution, gradient_kwargs, cache, cachesize, max_diff, override_shots, expand_fn, max_expansion, device_batch_transform, device_vjp, mcm_config)\u001b[0m\n\u001b[0;32m    763\u001b[0m ml_boundary_execute \u001b[38;5;241m=\u001b[39m _get_ml_boundary_execute(\n\u001b[0;32m    764\u001b[0m     interface,\n\u001b[0;32m    765\u001b[0m     config\u001b[38;5;241m.\u001b[39mgrad_on_execution,\n\u001b[0;32m    766\u001b[0m     config\u001b[38;5;241m.\u001b[39muse_device_jacobian_product,\n\u001b[0;32m    767\u001b[0m     differentiable\u001b[38;5;241m=\u001b[39mmax_diff \u001b[38;5;241m>\u001b[39m \u001b[38;5;241m1\u001b[39m,\n\u001b[0;32m    768\u001b[0m )\n\u001b[0;32m    770\u001b[0m \u001b[38;5;28;01mif\u001b[39;00m interface \u001b[38;5;129;01min\u001b[39;00m jpc_interfaces:\n\u001b[1;32m--> 771\u001b[0m     results \u001b[38;5;241m=\u001b[39m \u001b[43mml_boundary_execute\u001b[49m\u001b[43m(\u001b[49m\u001b[43mtapes\u001b[49m\u001b[43m,\u001b[49m\u001b[43m \u001b[49m\u001b[43mexecute_fn\u001b[49m\u001b[43m,\u001b[49m\u001b[43m \u001b[49m\u001b[43mjpc\u001b[49m\u001b[43m,\u001b[49m\u001b[43m \u001b[49m\u001b[43mdevice\u001b[49m\u001b[38;5;241;43m=\u001b[39;49m\u001b[43mdevice\u001b[49m\u001b[43m)\u001b[49m\n\u001b[0;32m    772\u001b[0m \u001b[38;5;28;01melse\u001b[39;00m:\n\u001b[0;32m    773\u001b[0m     results \u001b[38;5;241m=\u001b[39m ml_boundary_execute(\n\u001b[0;32m    774\u001b[0m         tapes, device, execute_fn, gradient_fn, gradient_kwargs, _n\u001b[38;5;241m=\u001b[39m\u001b[38;5;241m1\u001b[39m, max_diff\u001b[38;5;241m=\u001b[39mmax_diff\n\u001b[0;32m    775\u001b[0m     )\n",
      "File \u001b[1;32mc:\\Users\\forazi\\.conda\\envs\\forazi\\Lib\\site-packages\\pennylane\\workflow\\interfaces\\autograd.py:147\u001b[0m, in \u001b[0;36mautograd_execute\u001b[1;34m(tapes, execute_fn, jpc, device)\u001b[0m\n\u001b[0;32m    142\u001b[0m \u001b[38;5;66;03m# pylint misidentifies autograd.builtins as a dict\u001b[39;00m\n\u001b[0;32m    143\u001b[0m \u001b[38;5;66;03m# pylint: disable=no-member\u001b[39;00m\n\u001b[0;32m    144\u001b[0m parameters \u001b[38;5;241m=\u001b[39m autograd\u001b[38;5;241m.\u001b[39mbuiltins\u001b[38;5;241m.\u001b[39mtuple(\n\u001b[0;32m    145\u001b[0m     [autograd\u001b[38;5;241m.\u001b[39mbuiltins\u001b[38;5;241m.\u001b[39mlist(t\u001b[38;5;241m.\u001b[39mget_parameters()) \u001b[38;5;28;01mfor\u001b[39;00m t \u001b[38;5;129;01min\u001b[39;00m tapes]\n\u001b[0;32m    146\u001b[0m )\n\u001b[1;32m--> 147\u001b[0m \u001b[38;5;28;01mreturn\u001b[39;00m \u001b[43m_execute\u001b[49m\u001b[43m(\u001b[49m\u001b[43mparameters\u001b[49m\u001b[43m,\u001b[49m\u001b[43m \u001b[49m\u001b[38;5;28;43mtuple\u001b[39;49m\u001b[43m(\u001b[49m\u001b[43mtapes\u001b[49m\u001b[43m)\u001b[49m\u001b[43m,\u001b[49m\u001b[43m \u001b[49m\u001b[43mexecute_fn\u001b[49m\u001b[43m,\u001b[49m\u001b[43m \u001b[49m\u001b[43mjpc\u001b[49m\u001b[43m)\u001b[49m\n",
      "File \u001b[1;32mc:\\Users\\forazi\\.conda\\envs\\forazi\\Lib\\site-packages\\autograd\\tracer.py:44\u001b[0m, in \u001b[0;36mprimitive.<locals>.f_wrapped\u001b[1;34m(*args, **kwargs)\u001b[0m\n\u001b[0;32m     42\u001b[0m parents \u001b[38;5;241m=\u001b[39m \u001b[38;5;28mtuple\u001b[39m(box\u001b[38;5;241m.\u001b[39m_node \u001b[38;5;28;01mfor\u001b[39;00m _     , box \u001b[38;5;129;01min\u001b[39;00m boxed_args)\n\u001b[0;32m     43\u001b[0m argnums \u001b[38;5;241m=\u001b[39m \u001b[38;5;28mtuple\u001b[39m(argnum    \u001b[38;5;28;01mfor\u001b[39;00m argnum, _   \u001b[38;5;129;01min\u001b[39;00m boxed_args)\n\u001b[1;32m---> 44\u001b[0m ans \u001b[38;5;241m=\u001b[39m \u001b[43mf_wrapped\u001b[49m\u001b[43m(\u001b[49m\u001b[38;5;241;43m*\u001b[39;49m\u001b[43margvals\u001b[49m\u001b[43m,\u001b[49m\u001b[43m \u001b[49m\u001b[38;5;241;43m*\u001b[39;49m\u001b[38;5;241;43m*\u001b[39;49m\u001b[43mkwargs\u001b[49m\u001b[43m)\u001b[49m\n\u001b[0;32m     45\u001b[0m node \u001b[38;5;241m=\u001b[39m node_constructor(ans, f_wrapped, argvals, kwargs, argnums, parents)\n\u001b[0;32m     46\u001b[0m \u001b[38;5;28;01mreturn\u001b[39;00m new_box(ans, trace, node)\n",
      "File \u001b[1;32mc:\\Users\\forazi\\.conda\\envs\\forazi\\Lib\\site-packages\\autograd\\tracer.py:48\u001b[0m, in \u001b[0;36mprimitive.<locals>.f_wrapped\u001b[1;34m(*args, **kwargs)\u001b[0m\n\u001b[0;32m     46\u001b[0m     \u001b[38;5;28;01mreturn\u001b[39;00m new_box(ans, trace, node)\n\u001b[0;32m     47\u001b[0m \u001b[38;5;28;01melse\u001b[39;00m:\n\u001b[1;32m---> 48\u001b[0m     \u001b[38;5;28;01mreturn\u001b[39;00m \u001b[43mf_raw\u001b[49m\u001b[43m(\u001b[49m\u001b[38;5;241;43m*\u001b[39;49m\u001b[43margs\u001b[49m\u001b[43m,\u001b[49m\u001b[43m \u001b[49m\u001b[38;5;241;43m*\u001b[39;49m\u001b[38;5;241;43m*\u001b[39;49m\u001b[43mkwargs\u001b[49m\u001b[43m)\u001b[49m\n",
      "File \u001b[1;32mc:\\Users\\forazi\\.conda\\envs\\forazi\\Lib\\site-packages\\pennylane\\workflow\\interfaces\\autograd.py:168\u001b[0m, in \u001b[0;36m_execute\u001b[1;34m(parameters, tapes, execute_fn, jpc)\u001b[0m\n\u001b[0;32m    150\u001b[0m \u001b[38;5;129m@autograd\u001b[39m\u001b[38;5;241m.\u001b[39mextend\u001b[38;5;241m.\u001b[39mprimitive\n\u001b[0;32m    151\u001b[0m \u001b[38;5;28;01mdef\u001b[39;00m \u001b[38;5;21m_execute\u001b[39m(\n\u001b[0;32m    152\u001b[0m     parameters,\n\u001b[1;32m   (...)\u001b[0m\n\u001b[0;32m    155\u001b[0m     jpc,\n\u001b[0;32m    156\u001b[0m ):  \u001b[38;5;66;03m# pylint: disable=unused-argument\u001b[39;00m\n\u001b[0;32m    157\u001b[0m \u001b[38;5;250m    \u001b[39m\u001b[38;5;124;03m\"\"\"Autodifferentiable wrapper around a way of executing tapes.\u001b[39;00m\n\u001b[0;32m    158\u001b[0m \n\u001b[0;32m    159\u001b[0m \u001b[38;5;124;03m    Args:\u001b[39;00m\n\u001b[1;32m   (...)\u001b[0m\n\u001b[0;32m    166\u001b[0m \n\u001b[0;32m    167\u001b[0m \u001b[38;5;124;03m    \"\"\"\u001b[39;00m\n\u001b[1;32m--> 168\u001b[0m     \u001b[38;5;28;01mreturn\u001b[39;00m \u001b[43mexecute_fn\u001b[49m\u001b[43m(\u001b[49m\u001b[43mtapes\u001b[49m\u001b[43m)\u001b[49m\n",
      "File \u001b[1;32mc:\\Users\\forazi\\.conda\\envs\\forazi\\Lib\\site-packages\\pennylane\\workflow\\jacobian_products.py:462\u001b[0m, in \u001b[0;36mDeviceDerivatives.execute_and_cache_jacobian\u001b[1;34m(self, tapes)\u001b[0m\n\u001b[0;32m    460\u001b[0m \u001b[38;5;28;01mif\u001b[39;00m logger\u001b[38;5;241m.\u001b[39misEnabledFor(logging\u001b[38;5;241m.\u001b[39mDEBUG):  \u001b[38;5;66;03m# pragma: no cover\u001b[39;00m\n\u001b[0;32m    461\u001b[0m     logger\u001b[38;5;241m.\u001b[39mdebug(\u001b[38;5;124m\"\u001b[39m\u001b[38;5;124mForward pass called with \u001b[39m\u001b[38;5;132;01m%s\u001b[39;00m\u001b[38;5;124m\"\u001b[39m, tapes)\n\u001b[1;32m--> 462\u001b[0m results, jac \u001b[38;5;241m=\u001b[39m \u001b[38;5;28;43mself\u001b[39;49m\u001b[38;5;241;43m.\u001b[39;49m\u001b[43m_dev_execute_and_compute_derivatives\u001b[49m\u001b[43m(\u001b[49m\u001b[43mtapes\u001b[49m\u001b[43m)\u001b[49m\n\u001b[0;32m    463\u001b[0m \u001b[38;5;28mself\u001b[39m\u001b[38;5;241m.\u001b[39m_results_cache[tapes] \u001b[38;5;241m=\u001b[39m results\n\u001b[0;32m    464\u001b[0m \u001b[38;5;28mself\u001b[39m\u001b[38;5;241m.\u001b[39m_jacs_cache[tapes] \u001b[38;5;241m=\u001b[39m jac\n",
      "File \u001b[1;32mc:\\Users\\forazi\\.conda\\envs\\forazi\\Lib\\site-packages\\pennylane\\workflow\\jacobian_products.py:427\u001b[0m, in \u001b[0;36mDeviceDerivatives._dev_execute_and_compute_derivatives\u001b[1;34m(self, tapes)\u001b[0m\n\u001b[0;32m    421\u001b[0m \u001b[38;5;250m\u001b[39m\u001b[38;5;124;03m\"\"\"\u001b[39;00m\n\u001b[0;32m    422\u001b[0m \u001b[38;5;124;03mConverts tapes to numpy before computing the the results and derivatives on the device.\u001b[39;00m\n\u001b[0;32m    423\u001b[0m \n\u001b[0;32m    424\u001b[0m \u001b[38;5;124;03mDispatches between the two different device interfaces.\u001b[39;00m\n\u001b[0;32m    425\u001b[0m \u001b[38;5;124;03m\"\"\"\u001b[39;00m\n\u001b[0;32m    426\u001b[0m numpy_tapes, _ \u001b[38;5;241m=\u001b[39m qml\u001b[38;5;241m.\u001b[39mtransforms\u001b[38;5;241m.\u001b[39mconvert_to_numpy_parameters(tapes)\n\u001b[1;32m--> 427\u001b[0m \u001b[38;5;28;01mreturn\u001b[39;00m \u001b[38;5;28;43mself\u001b[39;49m\u001b[38;5;241;43m.\u001b[39;49m\u001b[43m_device\u001b[49m\u001b[38;5;241;43m.\u001b[39;49m\u001b[43mexecute_and_compute_derivatives\u001b[49m\u001b[43m(\u001b[49m\u001b[43mnumpy_tapes\u001b[49m\u001b[43m,\u001b[49m\u001b[43m \u001b[49m\u001b[38;5;28;43mself\u001b[39;49m\u001b[38;5;241;43m.\u001b[39;49m\u001b[43m_execution_config\u001b[49m\u001b[43m)\u001b[49m\n",
      "File \u001b[1;32mc:\\Users\\forazi\\.conda\\envs\\forazi\\Lib\\site-packages\\pennylane\\devices\\modifiers\\simulator_tracking.py:97\u001b[0m, in \u001b[0;36m_track_execute_and_compute_derivatives.<locals>.execute_and_compute_derivatives\u001b[1;34m(self, circuits, execution_config)\u001b[0m\n\u001b[0;32m     91\u001b[0m     \u001b[38;5;28mself\u001b[39m\u001b[38;5;241m.\u001b[39mtracker\u001b[38;5;241m.\u001b[39mupdate(\n\u001b[0;32m     92\u001b[0m         execute_and_derivative_batches\u001b[38;5;241m=\u001b[39m\u001b[38;5;241m1\u001b[39m,\n\u001b[0;32m     93\u001b[0m         executions\u001b[38;5;241m=\u001b[39m\u001b[38;5;28mlen\u001b[39m(batch),\n\u001b[0;32m     94\u001b[0m         derivatives\u001b[38;5;241m=\u001b[39m\u001b[38;5;28mlen\u001b[39m(batch),\n\u001b[0;32m     95\u001b[0m     )\n\u001b[0;32m     96\u001b[0m     \u001b[38;5;28mself\u001b[39m\u001b[38;5;241m.\u001b[39mtracker\u001b[38;5;241m.\u001b[39mrecord()\n\u001b[1;32m---> 97\u001b[0m \u001b[38;5;28;01mreturn\u001b[39;00m \u001b[43muntracked_execute_and_compute_derivatives\u001b[49m\u001b[43m(\u001b[49m\u001b[38;5;28;43mself\u001b[39;49m\u001b[43m,\u001b[49m\u001b[43m \u001b[49m\u001b[43mcircuits\u001b[49m\u001b[43m,\u001b[49m\u001b[43m \u001b[49m\u001b[43mexecution_config\u001b[49m\u001b[43m)\u001b[49m\n",
      "File \u001b[1;32mc:\\Users\\forazi\\.conda\\envs\\forazi\\Lib\\site-packages\\pennylane\\devices\\modifiers\\single_tape_support.py:62\u001b[0m, in \u001b[0;36m_make_execute_and_compute_derivatives.<locals>.execute_and_compute_derivatives\u001b[1;34m(self, circuits, execution_config)\u001b[0m\n\u001b[0;32m     60\u001b[0m     is_single_circuit \u001b[38;5;241m=\u001b[39m \u001b[38;5;28;01mTrue\u001b[39;00m\n\u001b[0;32m     61\u001b[0m     circuits \u001b[38;5;241m=\u001b[39m (circuits,)\n\u001b[1;32m---> 62\u001b[0m results, jacs \u001b[38;5;241m=\u001b[39m \u001b[43mbatch_execute_and_compute_derivatives\u001b[49m\u001b[43m(\u001b[49m\u001b[38;5;28;43mself\u001b[39;49m\u001b[43m,\u001b[49m\u001b[43m \u001b[49m\u001b[43mcircuits\u001b[49m\u001b[43m,\u001b[49m\u001b[43m \u001b[49m\u001b[43mexecution_config\u001b[49m\u001b[43m)\u001b[49m\n\u001b[0;32m     63\u001b[0m \u001b[38;5;28;01mreturn\u001b[39;00m (results[\u001b[38;5;241m0\u001b[39m], jacs[\u001b[38;5;241m0\u001b[39m]) \u001b[38;5;28;01mif\u001b[39;00m is_single_circuit \u001b[38;5;28;01melse\u001b[39;00m (results, jacs)\n",
      "File \u001b[1;32mc:\\Users\\forazi\\.conda\\envs\\forazi\\Lib\\site-packages\\pennylane\\logging\\decorators.py:61\u001b[0m, in \u001b[0;36mlog_string_debug_func.<locals>.wrapper_entry\u001b[1;34m(*args, **kwargs)\u001b[0m\n\u001b[0;32m     54\u001b[0m     s_caller \u001b[38;5;241m=\u001b[39m \u001b[38;5;124m\"\u001b[39m\u001b[38;5;124m::L\u001b[39m\u001b[38;5;124m\"\u001b[39m\u001b[38;5;241m.\u001b[39mjoin(\n\u001b[0;32m     55\u001b[0m         [\u001b[38;5;28mstr\u001b[39m(i) \u001b[38;5;28;01mfor\u001b[39;00m i \u001b[38;5;129;01min\u001b[39;00m inspect\u001b[38;5;241m.\u001b[39mgetouterframes(inspect\u001b[38;5;241m.\u001b[39mcurrentframe(), \u001b[38;5;241m2\u001b[39m)[\u001b[38;5;241m1\u001b[39m][\u001b[38;5;241m1\u001b[39m:\u001b[38;5;241m3\u001b[39m]]\n\u001b[0;32m     56\u001b[0m     )\n\u001b[0;32m     57\u001b[0m     lgr\u001b[38;5;241m.\u001b[39mdebug(\n\u001b[0;32m     58\u001b[0m         \u001b[38;5;124mf\u001b[39m\u001b[38;5;124m\"\u001b[39m\u001b[38;5;124mCalling \u001b[39m\u001b[38;5;132;01m{\u001b[39;00mf_string\u001b[38;5;132;01m}\u001b[39;00m\u001b[38;5;124m from \u001b[39m\u001b[38;5;132;01m{\u001b[39;00ms_caller\u001b[38;5;132;01m}\u001b[39;00m\u001b[38;5;124m\"\u001b[39m,\n\u001b[0;32m     59\u001b[0m         \u001b[38;5;241m*\u001b[39m\u001b[38;5;241m*\u001b[39m_debug_log_kwargs,\n\u001b[0;32m     60\u001b[0m     )\n\u001b[1;32m---> 61\u001b[0m \u001b[38;5;28;01mreturn\u001b[39;00m \u001b[43mfunc\u001b[49m\u001b[43m(\u001b[49m\u001b[38;5;241;43m*\u001b[39;49m\u001b[43margs\u001b[49m\u001b[43m,\u001b[49m\u001b[43m \u001b[49m\u001b[38;5;241;43m*\u001b[39;49m\u001b[38;5;241;43m*\u001b[39;49m\u001b[43mkwargs\u001b[49m\u001b[43m)\u001b[49m\n",
      "File \u001b[1;32mc:\\Users\\forazi\\.conda\\envs\\forazi\\Lib\\site-packages\\pennylane\\devices\\default_qubit.py:696\u001b[0m, in \u001b[0;36mDefaultQubit.execute_and_compute_derivatives\u001b[1;34m(self, circuits, execution_config)\u001b[0m\n\u001b[0;32m    694\u001b[0m max_workers \u001b[38;5;241m=\u001b[39m execution_config\u001b[38;5;241m.\u001b[39mdevice_options\u001b[38;5;241m.\u001b[39mget(\u001b[38;5;124m\"\u001b[39m\u001b[38;5;124mmax_workers\u001b[39m\u001b[38;5;124m\"\u001b[39m, \u001b[38;5;28mself\u001b[39m\u001b[38;5;241m.\u001b[39m_max_workers)\n\u001b[0;32m    695\u001b[0m \u001b[38;5;28;01mif\u001b[39;00m max_workers \u001b[38;5;129;01mis\u001b[39;00m \u001b[38;5;28;01mNone\u001b[39;00m:\n\u001b[1;32m--> 696\u001b[0m     results \u001b[38;5;241m=\u001b[39m \u001b[38;5;28;43mtuple\u001b[39;49m\u001b[43m(\u001b[49m\u001b[43m_adjoint_jac_wrapper\u001b[49m\u001b[43m(\u001b[49m\u001b[43mc\u001b[49m\u001b[43m,\u001b[49m\u001b[43m \u001b[49m\u001b[43mdebugger\u001b[49m\u001b[38;5;241;43m=\u001b[39;49m\u001b[38;5;28;43mself\u001b[39;49m\u001b[38;5;241;43m.\u001b[39;49m\u001b[43m_debugger\u001b[49m\u001b[43m)\u001b[49m\u001b[43m \u001b[49m\u001b[38;5;28;43;01mfor\u001b[39;49;00m\u001b[43m \u001b[49m\u001b[43mc\u001b[49m\u001b[43m \u001b[49m\u001b[38;5;129;43;01min\u001b[39;49;00m\u001b[43m \u001b[49m\u001b[43mcircuits\u001b[49m\u001b[43m)\u001b[49m\n\u001b[0;32m    697\u001b[0m \u001b[38;5;28;01melse\u001b[39;00m:\n\u001b[0;32m    698\u001b[0m     vanilla_circuits \u001b[38;5;241m=\u001b[39m convert_to_numpy_parameters(circuits)[\u001b[38;5;241m0\u001b[39m]\n",
      "File \u001b[1;32mc:\\Users\\forazi\\.conda\\envs\\forazi\\Lib\\site-packages\\pennylane\\devices\\default_qubit.py:696\u001b[0m, in \u001b[0;36m<genexpr>\u001b[1;34m(.0)\u001b[0m\n\u001b[0;32m    694\u001b[0m max_workers \u001b[38;5;241m=\u001b[39m execution_config\u001b[38;5;241m.\u001b[39mdevice_options\u001b[38;5;241m.\u001b[39mget(\u001b[38;5;124m\"\u001b[39m\u001b[38;5;124mmax_workers\u001b[39m\u001b[38;5;124m\"\u001b[39m, \u001b[38;5;28mself\u001b[39m\u001b[38;5;241m.\u001b[39m_max_workers)\n\u001b[0;32m    695\u001b[0m \u001b[38;5;28;01mif\u001b[39;00m max_workers \u001b[38;5;129;01mis\u001b[39;00m \u001b[38;5;28;01mNone\u001b[39;00m:\n\u001b[1;32m--> 696\u001b[0m     results \u001b[38;5;241m=\u001b[39m \u001b[38;5;28mtuple\u001b[39m(\u001b[43m_adjoint_jac_wrapper\u001b[49m\u001b[43m(\u001b[49m\u001b[43mc\u001b[49m\u001b[43m,\u001b[49m\u001b[43m \u001b[49m\u001b[43mdebugger\u001b[49m\u001b[38;5;241;43m=\u001b[39;49m\u001b[38;5;28;43mself\u001b[39;49m\u001b[38;5;241;43m.\u001b[39;49m\u001b[43m_debugger\u001b[49m\u001b[43m)\u001b[49m \u001b[38;5;28;01mfor\u001b[39;00m c \u001b[38;5;129;01min\u001b[39;00m circuits)\n\u001b[0;32m    697\u001b[0m \u001b[38;5;28;01melse\u001b[39;00m:\n\u001b[0;32m    698\u001b[0m     vanilla_circuits \u001b[38;5;241m=\u001b[39m convert_to_numpy_parameters(circuits)[\u001b[38;5;241m0\u001b[39m]\n",
      "File \u001b[1;32mc:\\Users\\forazi\\.conda\\envs\\forazi\\Lib\\site-packages\\pennylane\\devices\\default_qubit.py:902\u001b[0m, in \u001b[0;36m_adjoint_jac_wrapper\u001b[1;34m(c, debugger)\u001b[0m\n\u001b[0;32m    900\u001b[0m c \u001b[38;5;241m=\u001b[39m c\u001b[38;5;241m.\u001b[39mmap_to_standard_wires()\n\u001b[0;32m    901\u001b[0m state, is_state_batched \u001b[38;5;241m=\u001b[39m get_final_state(c, debugger\u001b[38;5;241m=\u001b[39mdebugger)\n\u001b[1;32m--> 902\u001b[0m jac \u001b[38;5;241m=\u001b[39m \u001b[43madjoint_jacobian\u001b[49m\u001b[43m(\u001b[49m\u001b[43mc\u001b[49m\u001b[43m,\u001b[49m\u001b[43m \u001b[49m\u001b[43mstate\u001b[49m\u001b[38;5;241;43m=\u001b[39;49m\u001b[43mstate\u001b[49m\u001b[43m)\u001b[49m\n\u001b[0;32m    903\u001b[0m res \u001b[38;5;241m=\u001b[39m measure_final_state(c, state, is_state_batched)\n\u001b[0;32m    904\u001b[0m \u001b[38;5;28;01mreturn\u001b[39;00m res, jac\n",
      "File \u001b[1;32mc:\\Users\\forazi\\.conda\\envs\\forazi\\Lib\\site-packages\\pennylane\\logging\\decorators.py:61\u001b[0m, in \u001b[0;36mlog_string_debug_func.<locals>.wrapper_entry\u001b[1;34m(*args, **kwargs)\u001b[0m\n\u001b[0;32m     54\u001b[0m     s_caller \u001b[38;5;241m=\u001b[39m \u001b[38;5;124m\"\u001b[39m\u001b[38;5;124m::L\u001b[39m\u001b[38;5;124m\"\u001b[39m\u001b[38;5;241m.\u001b[39mjoin(\n\u001b[0;32m     55\u001b[0m         [\u001b[38;5;28mstr\u001b[39m(i) \u001b[38;5;28;01mfor\u001b[39;00m i \u001b[38;5;129;01min\u001b[39;00m inspect\u001b[38;5;241m.\u001b[39mgetouterframes(inspect\u001b[38;5;241m.\u001b[39mcurrentframe(), \u001b[38;5;241m2\u001b[39m)[\u001b[38;5;241m1\u001b[39m][\u001b[38;5;241m1\u001b[39m:\u001b[38;5;241m3\u001b[39m]]\n\u001b[0;32m     56\u001b[0m     )\n\u001b[0;32m     57\u001b[0m     lgr\u001b[38;5;241m.\u001b[39mdebug(\n\u001b[0;32m     58\u001b[0m         \u001b[38;5;124mf\u001b[39m\u001b[38;5;124m\"\u001b[39m\u001b[38;5;124mCalling \u001b[39m\u001b[38;5;132;01m{\u001b[39;00mf_string\u001b[38;5;132;01m}\u001b[39;00m\u001b[38;5;124m from \u001b[39m\u001b[38;5;132;01m{\u001b[39;00ms_caller\u001b[38;5;132;01m}\u001b[39;00m\u001b[38;5;124m\"\u001b[39m,\n\u001b[0;32m     59\u001b[0m         \u001b[38;5;241m*\u001b[39m\u001b[38;5;241m*\u001b[39m_debug_log_kwargs,\n\u001b[0;32m     60\u001b[0m     )\n\u001b[1;32m---> 61\u001b[0m \u001b[38;5;28;01mreturn\u001b[39;00m \u001b[43mfunc\u001b[49m\u001b[43m(\u001b[49m\u001b[38;5;241;43m*\u001b[39;49m\u001b[43margs\u001b[49m\u001b[43m,\u001b[49m\u001b[43m \u001b[49m\u001b[38;5;241;43m*\u001b[39;49m\u001b[38;5;241;43m*\u001b[39;49m\u001b[43mkwargs\u001b[49m\u001b[43m)\u001b[49m\n",
      "File \u001b[1;32mc:\\Users\\forazi\\.conda\\envs\\forazi\\Lib\\site-packages\\pennylane\\devices\\qubit\\adjoint_jacobian.py:107\u001b[0m, in \u001b[0;36madjoint_jacobian\u001b[1;34m(tape, state)\u001b[0m\n\u001b[0;32m    104\u001b[0m tape \u001b[38;5;241m=\u001b[39m tape\u001b[38;5;241m.\u001b[39mmap_to_standard_wires()\n\u001b[0;32m    106\u001b[0m \u001b[38;5;28;01mif\u001b[39;00m \u001b[38;5;28misinstance\u001b[39m(tape\u001b[38;5;241m.\u001b[39mmeasurements[\u001b[38;5;241m0\u001b[39m], qml\u001b[38;5;241m.\u001b[39mmeasurements\u001b[38;5;241m.\u001b[39mStateMP):\n\u001b[1;32m--> 107\u001b[0m     \u001b[38;5;28;01mreturn\u001b[39;00m \u001b[43m_adjoint_jacobian_state\u001b[49m\u001b[43m(\u001b[49m\u001b[43mtape\u001b[49m\u001b[43m)\u001b[49m\n\u001b[0;32m    109\u001b[0m ket \u001b[38;5;241m=\u001b[39m state \u001b[38;5;28;01mif\u001b[39;00m state \u001b[38;5;129;01mis\u001b[39;00m \u001b[38;5;129;01mnot\u001b[39;00m \u001b[38;5;28;01mNone\u001b[39;00m \u001b[38;5;28;01melse\u001b[39;00m get_final_state(tape)[\u001b[38;5;241m0\u001b[39m]\n\u001b[0;32m    111\u001b[0m n_obs \u001b[38;5;241m=\u001b[39m \u001b[38;5;28mlen\u001b[39m(tape\u001b[38;5;241m.\u001b[39mobservables)\n",
      "File \u001b[1;32mc:\\Users\\forazi\\.conda\\envs\\forazi\\Lib\\site-packages\\pennylane\\devices\\qubit\\adjoint_jacobian.py:64\u001b[0m, in \u001b[0;36m_adjoint_jacobian_state\u001b[1;34m(tape)\u001b[0m\n\u001b[0;32m     62\u001b[0m \u001b[38;5;28;01mif\u001b[39;00m op\u001b[38;5;241m.\u001b[39mnum_params \u001b[38;5;241m==\u001b[39m \u001b[38;5;241m1\u001b[39m:\n\u001b[0;32m     63\u001b[0m     \u001b[38;5;28;01mif\u001b[39;00m param_idx \u001b[38;5;129;01min\u001b[39;00m tape\u001b[38;5;241m.\u001b[39mtrainable_params:\n\u001b[1;32m---> 64\u001b[0m         d_op_matrix \u001b[38;5;241m=\u001b[39m \u001b[43moperation_derivative\u001b[49m\u001b[43m(\u001b[49m\u001b[43mop\u001b[49m\u001b[43m)\u001b[49m\n\u001b[0;32m     65\u001b[0m         jacobian\u001b[38;5;241m.\u001b[39mappend(\n\u001b[0;32m     66\u001b[0m             apply_operation(qml\u001b[38;5;241m.\u001b[39mQubitUnitary(d_op_matrix, wires\u001b[38;5;241m=\u001b[39mop\u001b[38;5;241m.\u001b[39mwires), state)\n\u001b[0;32m     67\u001b[0m         )\n\u001b[0;32m     69\u001b[0m     param_idx \u001b[38;5;241m+\u001b[39m\u001b[38;5;241m=\u001b[39m \u001b[38;5;241m1\u001b[39m\n",
      "File \u001b[1;32mc:\\Users\\forazi\\.conda\\envs\\forazi\\Lib\\site-packages\\pennylane\\operation.py:2961\u001b[0m, in \u001b[0;36moperation_derivative\u001b[1;34m(operation)\u001b[0m\n\u001b[0;32m   2941\u001b[0m \u001b[38;5;28;01mdef\u001b[39;00m \u001b[38;5;21moperation_derivative\u001b[39m(operation: Operation) \u001b[38;5;241m-\u001b[39m\u001b[38;5;241m>\u001b[39m TensorLike:\n\u001b[0;32m   2942\u001b[0m \u001b[38;5;250m    \u001b[39m\u001b[38;5;124mr\u001b[39m\u001b[38;5;124;03m\"\"\"Calculate the derivative of an operation.\u001b[39;00m\n\u001b[0;32m   2943\u001b[0m \n\u001b[0;32m   2944\u001b[0m \u001b[38;5;124;03m    For an operation :math:`e^{i \\hat{H} \\phi t}`, this function returns the matrix representation\u001b[39;00m\n\u001b[1;32m   (...)\u001b[0m\n\u001b[0;32m   2959\u001b[0m \u001b[38;5;124;03m            trainable parameter\u001b[39;00m\n\u001b[0;32m   2960\u001b[0m \u001b[38;5;124;03m    \"\"\"\u001b[39;00m\n\u001b[1;32m-> 2961\u001b[0m     generator \u001b[38;5;241m=\u001b[39m \u001b[43mqml\u001b[49m\u001b[38;5;241;43m.\u001b[39;49m\u001b[43mmatrix\u001b[49m\u001b[43m(\u001b[49m\n\u001b[0;32m   2962\u001b[0m \u001b[43m        \u001b[49m\u001b[43mqml\u001b[49m\u001b[38;5;241;43m.\u001b[39;49m\u001b[43mgenerator\u001b[49m\u001b[43m(\u001b[49m\u001b[43moperation\u001b[49m\u001b[43m,\u001b[49m\u001b[43m \u001b[49m\u001b[38;5;28;43mformat\u001b[39;49m\u001b[38;5;241;43m=\u001b[39;49m\u001b[38;5;124;43m\"\u001b[39;49m\u001b[38;5;124;43mobservable\u001b[39;49m\u001b[38;5;124;43m\"\u001b[39;49m\u001b[43m)\u001b[49m\u001b[43m,\u001b[49m\u001b[43m \u001b[49m\u001b[43mwire_order\u001b[49m\u001b[38;5;241;43m=\u001b[39;49m\u001b[43moperation\u001b[49m\u001b[38;5;241;43m.\u001b[39;49m\u001b[43mwires\u001b[49m\n\u001b[0;32m   2963\u001b[0m \u001b[43m    \u001b[49m\u001b[43m)\u001b[49m\n\u001b[0;32m   2964\u001b[0m     \u001b[38;5;28;01mreturn\u001b[39;00m \u001b[38;5;241m1\u001b[39mj \u001b[38;5;241m*\u001b[39m generator \u001b[38;5;241m@\u001b[39m operation\u001b[38;5;241m.\u001b[39mmatrix()\n",
      "File \u001b[1;32mc:\\Users\\forazi\\.conda\\envs\\forazi\\Lib\\site-packages\\pennylane\\ops\\functions\\matrix.py:231\u001b[0m, in \u001b[0;36mmatrix\u001b[1;34m(op, wire_order)\u001b[0m\n\u001b[0;32m    229\u001b[0m     \u001b[38;5;28;01mreturn\u001b[39;00m op\u001b[38;5;241m.\u001b[39mmatrix(wire_order\u001b[38;5;241m=\u001b[39mwire_order)\n\u001b[0;32m    230\u001b[0m \u001b[38;5;28;01mexcept\u001b[39;00m:  \u001b[38;5;66;03m# pylint: disable=bare-except\u001b[39;00m\n\u001b[1;32m--> 231\u001b[0m     \u001b[38;5;28;01mreturn\u001b[39;00m matrix(QuantumScript(\u001b[43mop\u001b[49m\u001b[38;5;241;43m.\u001b[39;49m\u001b[43mdecomposition\u001b[49m\u001b[43m(\u001b[49m\u001b[43m)\u001b[49m), wire_order\u001b[38;5;241m=\u001b[39mwire_order \u001b[38;5;129;01mor\u001b[39;00m op\u001b[38;5;241m.\u001b[39mwires)\n",
      "File \u001b[1;32mc:\\Users\\forazi\\.conda\\envs\\forazi\\Lib\\site-packages\\pennylane\\operation.py:1337\u001b[0m, in \u001b[0;36mOperator.decomposition\u001b[1;34m(self)\u001b[0m\n\u001b[0;32m   1325\u001b[0m \u001b[38;5;28;01mdef\u001b[39;00m \u001b[38;5;21mdecomposition\u001b[39m(\u001b[38;5;28mself\u001b[39m) \u001b[38;5;241m-\u001b[39m\u001b[38;5;241m>\u001b[39m \u001b[38;5;28mlist\u001b[39m[\u001b[38;5;124m\"\u001b[39m\u001b[38;5;124mOperator\u001b[39m\u001b[38;5;124m\"\u001b[39m]:\n\u001b[0;32m   1326\u001b[0m \u001b[38;5;250m    \u001b[39m\u001b[38;5;124mr\u001b[39m\u001b[38;5;124;03m\"\"\"Representation of the operator as a product of other operators.\u001b[39;00m\n\u001b[0;32m   1327\u001b[0m \n\u001b[0;32m   1328\u001b[0m \u001b[38;5;124;03m    .. math:: O = O_1 O_2 \\dots O_n\u001b[39;00m\n\u001b[1;32m   (...)\u001b[0m\n\u001b[0;32m   1335\u001b[0m \u001b[38;5;124;03m        list[Operator]: decomposition of the operator\u001b[39;00m\n\u001b[0;32m   1336\u001b[0m \u001b[38;5;124;03m    \"\"\"\u001b[39;00m\n\u001b[1;32m-> 1337\u001b[0m     \u001b[38;5;28;01mreturn\u001b[39;00m \u001b[38;5;28;43mself\u001b[39;49m\u001b[38;5;241;43m.\u001b[39;49m\u001b[43mcompute_decomposition\u001b[49m\u001b[43m(\u001b[49m\n\u001b[0;32m   1338\u001b[0m \u001b[43m        \u001b[49m\u001b[38;5;241;43m*\u001b[39;49m\u001b[38;5;28;43mself\u001b[39;49m\u001b[38;5;241;43m.\u001b[39;49m\u001b[43mparameters\u001b[49m\u001b[43m,\u001b[49m\u001b[43m \u001b[49m\u001b[43mwires\u001b[49m\u001b[38;5;241;43m=\u001b[39;49m\u001b[38;5;28;43mself\u001b[39;49m\u001b[38;5;241;43m.\u001b[39;49m\u001b[43mwires\u001b[49m\u001b[43m,\u001b[49m\u001b[43m \u001b[49m\u001b[38;5;241;43m*\u001b[39;49m\u001b[38;5;241;43m*\u001b[39;49m\u001b[38;5;28;43mself\u001b[39;49m\u001b[38;5;241;43m.\u001b[39;49m\u001b[43mhyperparameters\u001b[49m\n\u001b[0;32m   1339\u001b[0m \u001b[43m    \u001b[49m\u001b[43m)\u001b[49m\n",
      "File \u001b[1;32mc:\\Users\\forazi\\.conda\\envs\\forazi\\Lib\\site-packages\\pennylane\\operation.py:1366\u001b[0m, in \u001b[0;36mOperator.compute_decomposition\u001b[1;34m(wires, *params, **hyperparameters)\u001b[0m\n\u001b[0;32m   1341\u001b[0m \u001b[38;5;129m@staticmethod\u001b[39m\n\u001b[0;32m   1342\u001b[0m \u001b[38;5;28;01mdef\u001b[39;00m \u001b[38;5;21mcompute_decomposition\u001b[39m(\n\u001b[0;32m   1343\u001b[0m     \u001b[38;5;241m*\u001b[39mparams: TensorLike,\n\u001b[0;32m   1344\u001b[0m     wires: Optional[WiresLike] \u001b[38;5;241m=\u001b[39m \u001b[38;5;28;01mNone\u001b[39;00m,\n\u001b[0;32m   1345\u001b[0m     \u001b[38;5;241m*\u001b[39m\u001b[38;5;241m*\u001b[39mhyperparameters: \u001b[38;5;28mdict\u001b[39m[\u001b[38;5;28mstr\u001b[39m, Any],\n\u001b[0;32m   1346\u001b[0m ) \u001b[38;5;241m-\u001b[39m\u001b[38;5;241m>\u001b[39m \u001b[38;5;28mlist\u001b[39m[\u001b[38;5;124m\"\u001b[39m\u001b[38;5;124mOperator\u001b[39m\u001b[38;5;124m\"\u001b[39m]:\n\u001b[0;32m   1347\u001b[0m \u001b[38;5;250m    \u001b[39m\u001b[38;5;124mr\u001b[39m\u001b[38;5;124;03m\"\"\"Representation of the operator as a product of other operators (static method).\u001b[39;00m\n\u001b[0;32m   1348\u001b[0m \n\u001b[0;32m   1349\u001b[0m \u001b[38;5;124;03m    .. math:: O = O_1 O_2 \\dots O_n.\u001b[39;00m\n\u001b[1;32m   (...)\u001b[0m\n\u001b[0;32m   1364\u001b[0m \u001b[38;5;124;03m        list[Operator]: decomposition of the operator\u001b[39;00m\n\u001b[0;32m   1365\u001b[0m \u001b[38;5;124;03m    \"\"\"\u001b[39;00m\n\u001b[1;32m-> 1366\u001b[0m     \u001b[38;5;28;01mraise\u001b[39;00m DecompositionUndefinedError\n",
      "\u001b[1;31mDecompositionUndefinedError\u001b[0m: "
     ]
    },
    {
     "data": {
      "image/png": "[encoded data removed]",
      "text/plain": [
       "<Figure size 640x480 with 1 Axes>"
      ]
     },
     "metadata": {},
     "output_type": "display_data"
    },
    {
     "data": {
      "image/png": "[encoded data removed]",
      "text/plain": [
       "<Figure size 640x480 with 1 Axes>"
      ]
     },
     "metadata": {},
     "output_type": "display_data"
    },
    {
     "data": {
      "image/png": "[encoded data removed]",
      "text/plain": [
       "<Figure size 640x480 with 1 Axes>"
      ]
     },
     "metadata": {},
     "output_type": "display_data"
    }
   ],
   "source": [
    "for n_qubit_autoencoder in range_qubit_autoencoder:\n",
    "    for n_trash_qubit in range(1,n_qubit_autoencoder):\n",
    "        batch_losses={}\n",
    "        img_folder=f'runs/run_{n_qubit_autoencoder}to{n_trash_qubit}'\n",
    "        os.makedirs(img_folder,exist_ok=True)\n",
    "        for batch_size in range_batches:\n",
    "            folder=img_folder+f'/{batch_size}'\n",
    "            print(f\"Running AE with {n_qubit_autoencoder} input qubit and {n_trash_qubit} trash qubit in batches of {batch_size}\")\n",
    "            n_qubit=n_qubit_autoencoder+n_trash_qubit+1 \n",
    "            dvc = qml.device('default.qubit', wires=n_qubit, shots=None)\n",
    "            ae = Autoencoder('fd',n_qubit_autoencoder,n_trash_qubit,dvc,seed)\n",
    "            ae.train(X,opt,epochs,batch_size)\n",
    "            os.makedirs(folder)\n",
    "            loss=ae.get_loss()\n",
    "            batch_losses[batch_size]=loss\n",
    "            weights=ae.best_params()\n",
    "            np.save(folder+'/loss',np.array(loss))            \n",
    "            np.save(folder+'/weights',np.array(weights))\n",
    "\n",
    "        # Min loss\n",
    "        min_found= {a:min(batch_losses[a]) for a in range_batches }\n",
    "        min_loss =get_min_loss_fid(X,n_qubit_autoencoder,n_trash_qubit)\n",
    "\n",
    "        # Figure\n",
    "        plt.figure()\n",
    "        sns.set_palette(custom_palette)  \n",
    "        for b,r in zip(list(batch_losses.values()),range_batches):\n",
    "            sns.lineplot(x=range(epochs),y=b,label=r)\n",
    "        plt.legend(title='Batch size')\n",
    "        plt.hlines(min_loss,0,epochs-1,color='r',linestyle='--')\n",
    "        plt.text(x=epochs//2, y=min_loss, s=f'Min loss', color='r', ha='right', va='center')\n",
    "        plt.ylim((0,1))\n",
    "\n",
    "        plt.xlabel('epochs')\n",
    "        plt.ylabel('loss')\n",
    "        plt.title(f'Loss on AE {n_qubit_autoencoder}->{n_trash_qubit}')\n",
    "        plt.savefig(img_folder+f'/{n_qubit_autoencoder}_{n_trash_qubit}')\n",
    "        # Info file \n",
    "        with open(img_folder+f'/info.txt','a') as file:\n",
    "            file.write(f'RUN INFORMATION\\nInput qubits={n_qubit_autoencoder}\\nTrash qubit={n_trash_qubit}\\nSeed={seed}\\nOptimizer=AdamOptimizer(stepsize={opt.stepsize})\\nEpochs={epochs}\\nBatch sizes={range_batches}\\nMin fidelity loss={min_loss}\\nMin loss found={''.join([f'\\t\\t\\t\\t{a}:{b}\\n' for a, b in min_found.items()])}')"
   ]
  },
  {
   "cell_type": "code",
   "execution_count": 5,
   "metadata": {},
   "outputs": [
    {
     "data": {
      "text/plain": [
       "['__class__',\n",
       " '__delattr__',\n",
       " '__dict__',\n",
       " '__dir__',\n",
       " '__doc__',\n",
       " '__eq__',\n",
       " '__format__',\n",
       " '__ge__',\n",
       " '__getattribute__',\n",
       " '__getstate__',\n",
       " '__gt__',\n",
       " '__hash__',\n",
       " '__init__',\n",
       " '__init_subclass__',\n",
       " '__le__',\n",
       " '__lt__',\n",
       " '__module__',\n",
       " '__ne__',\n",
       " '__new__',\n",
       " '__reduce__',\n",
       " '__reduce_ex__',\n",
       " '__repr__',\n",
       " '__setattr__',\n",
       " '__sizeof__',\n",
       " '__str__',\n",
       " '__subclasshook__',\n",
       " '__weakref__',\n",
       " '_update_accumulation',\n",
       " 'accumulation',\n",
       " 'apply_grad',\n",
       " 'beta1',\n",
       " 'beta2',\n",
       " 'compute_grad',\n",
       " 'eps',\n",
       " 'fm',\n",
       " 'reset',\n",
       " 'sm',\n",
       " 'step',\n",
       " 'step_and_cost',\n",
       " 'stepsize',\n",
       " 't']"
      ]
     },
     "execution_count": 5,
     "metadata": {},
     "output_type": "execute_result"
    }
   ],
   "source": [
    "dir(opt)\n"
   ]
  }
 ],
 "metadata": {
  "kernelspec": {
   "display_name": "Python 3",
   "language": "python",
   "name": "python3"
  },
  "language_info": {
   "codemirror_mode": {
    "name": "ipython",
    "version": 3
   },
   "file_extension": ".py",
   "mimetype": "text/x-python",
   "name": "python",
   "nbconvert_exporter": "python",
   "pygments_lexer": "ipython3",
   "version": "3.12.4"
  }
 },
 "nbformat": 4,
 "nbformat_minor": 2
}
