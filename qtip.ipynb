{
 "cells": [
  {
   "cell_type": "code",
   "execution_count": 1,
   "metadata": {},
   "outputs": [],
   "source": [
    "from qutip import *\n",
    "from qutip import gates\n",
    "import numpy as np\n",
    "import pandas as pd \n",
    "import matplotlib.pyplot as plt\n"
   ]
  },
  {
   "cell_type": "code",
   "execution_count": 2,
   "metadata": {},
   "outputs": [
    {
     "name": "stdout",
     "output_type": "stream",
     "text": [
      "Quantum object: dims=[[2], [2]], shape=(2, 2), type='oper', dtype=Dense, isherm=False\n",
      "Qobj data =\n",
      "[[1. 0.]\n",
      " [1. 2.]]\n"
     ]
    }
   ],
   "source": [
    "q =Qobj([[1,0],[1,2]])\n",
    "\n",
    "\n",
    "print(q)"
   ]
  },
  {
   "cell_type": "code",
   "execution_count": 3,
   "metadata": {},
   "outputs": [
    {
     "data": {
      "text/latex": [
       "Quantum object: dims=[[2, 2], [1, 1]], shape=(4, 1), type='ket', dtype=Dense$$\\left(\\begin{array}{cc}0.707\\\\0\\\\0\\\\0.707\\end{array}\\right)$$"
      ],
      "text/plain": [
       "Quantum object: dims=[[2, 2], [1, 1]], shape=(4, 1), type='ket', dtype=Dense\n",
       "Qobj data =\n",
       "[[0.70710678]\n",
       " [0.        ]\n",
       " [0.        ]\n",
       " [0.70710678]]"
      ]
     },
     "execution_count": 3,
     "metadata": {},
     "output_type": "execute_result"
    }
   ],
   "source": [
    "qubit_0 = basis(2, 0)  # |0⟩ state\n",
    "qubit_1 = basis(2, 0)  # |0⟩ state\n",
    "initial_state = tensor(qubit_0, qubit_1)  # Tensor product of the qubits\n",
    "\n",
    "# Define the Hadamard gate (H) on qubit 1\n",
    "H = gates.hadamard_transform(1)\n",
    "\n",
    "# Define the CNOT gate\n",
    "CNOT = gates.cnot()\n",
    "\n",
    "# Apply the Hadamard gate to the first qubit (tensor identity on the second qubit)\n",
    "H_on_first_qubit = tensor(H, qeye(2))  # H on qubit 1, identity on qubit 2\n",
    "state_after_H = H_on_first_qubit * initial_state  # Apply Hadamard gate\n",
    "\n",
    "# Apply the CNOT gate\n",
    "state_after_CNOT = CNOT * state_after_H  # Apply CNOT\n",
    "\n",
    "# Print the final quantum state\n",
    "state_after_CNOT\n"
   ]
  },
  {
   "cell_type": "code",
   "execution_count": 4,
   "metadata": {},
   "outputs": [
    {
     "data": {
      "text/plain": [
       "array([0., 0., 0., 1.])"
      ]
     },
     "execution_count": 4,
     "metadata": {},
     "output_type": "execute_result"
    }
   ],
   "source": [
    "tensor(state_after_CNOT, state_after_CNOT.dag()).eigenenergies()\n"
   ]
  },
  {
   "cell_type": "code",
   "execution_count": 5,
   "metadata": {},
   "outputs": [
    {
     "data": {
      "text/latex": [
       "Quantum object: dims=[[2, 2], [1, 1]], shape=(4, 1), type='ket', dtype=Dense$$\\left(\\begin{array}{cc}-0.707\\\\0\\\\-0.707\\\\0\\end{array}\\right)$$"
      ],
      "text/plain": [
       "Quantum object: dims=[[2, 2], [1, 1]], shape=(4, 1), type='ket', dtype=Dense\n",
       "Qobj data =\n",
       "[[-0.70710678]\n",
       " [ 0.        ]\n",
       " [-0.70710678]\n",
       " [ 0.        ]]"
      ]
     },
     "execution_count": 5,
     "metadata": {},
     "output_type": "execute_result"
    }
   ],
   "source": [
    "\n",
    "def look_o(theta, base):\n",
    "\n",
    "    qubit_0 = basis(2, 0)  # |0⟩ state\n",
    "    qubit_1 = basis(2, 0)  # |0⟩ state\n",
    "    state = tensor(qubit_0, qubit_1)  # Tensor product of the qubits\n",
    "    H=gates.hadamard_transform()\n",
    "\n",
    "    state  = tensor(H, qeye(2))*state\n",
    "    CNOT = gates.cnot()\n",
    "    state = CNOT * state\n",
    "    rx = gates.rx(theta)\n",
    "    state  = tensor(rx, rx)*state\n",
    "    state = CNOT * state\n",
    "    return state[base,0]\n",
    "\n",
    "def look_S(theta):\n",
    "\n",
    "    qubit_0 = basis(2, 0)  # |0⟩ state\n",
    "    qubit_1 = basis(2, 0)  # |0⟩ state\n",
    "    state = tensor(qubit_0, qubit_1)  # Tensor product of the qubits\n",
    "    H=gates.hadamard_transform()\n",
    "\n",
    "    state  = tensor(H, qeye(2))*state\n",
    "    CNOT = gates.cnot()\n",
    "    state = CNOT * state\n",
    "    rx = gates.rx(theta)\n",
    "    state  = tensor(rx, rx)*state\n",
    "    state = CNOT * state\n",
    "    return state\n",
    "look_S(np.pi)"
   ]
  },
  {
   "cell_type": "code",
   "execution_count": 6,
   "metadata": {},
   "outputs": [
    {
     "data": {
      "text/latex": [
       "Quantum object: dims=[[2, 2, 2], [1, 1, 1]], shape=(8, 1), type='ket', dtype=Dense$$\\left(\\begin{array}{cc}0.707j\\\\-4.330\\times10^{ -17 }\\\\-4.330\\times10^{ -17 }\\\\-4.330\\times10^{ -17 }\\\\-4.330\\times10^{ -17 }\\\\0.707j\\\\-4.330\\times10^{ -17 }\\\\-4.330\\times10^{ -17 }\\end{array}\\right)$$"
      ],
      "text/plain": [
       "Quantum object: dims=[[2, 2, 2], [1, 1, 1]], shape=(8, 1), type='ket', dtype=Dense\n",
       "Qobj data =\n",
       "[[ 1.62340758e-49+7.07106781e-01j]\n",
       " [-4.32978028e-17-2.65122578e-33j]\n",
       " [-4.32978028e-17-2.65122578e-33j]\n",
       " [-4.32978028e-17-2.65122578e-33j]\n",
       " [-4.32978028e-17-2.65122578e-33j]\n",
       " [ 1.62340758e-49+7.07106781e-01j]\n",
       " [-4.32978028e-17-2.65122578e-33j]\n",
       " [-4.32978028e-17-2.65122578e-33j]]"
      ]
     },
     "execution_count": 6,
     "metadata": {},
     "output_type": "execute_result"
    }
   ],
   "source": [
    "def sp_qutip(theta,n_qubit):\n",
    "    qb=[basis(2, 0) for _ in range(n_qubit)]\n",
    "    state = tensor(qb)  # Tensor product of the qubits\n",
    "    H=gates.hadamard_transform()\n",
    "    hi=[H] + [qeye(2)]*(n_qubit-1)\n",
    "    state  = tensor(hi)*state\n",
    "    CNOT = gates.cnot()\n",
    "    for i in range(n_qubit-1):\n",
    "\n",
    "        cnoti =[ qeye(2)]*(i) + [CNOT]\n",
    "        cnoti += [qeye(2)]*(n_qubit-2-i)\n",
    "        state = tensor(cnoti) * state\n",
    "        \n",
    "    rx = gates.rx(theta)\n",
    "    rxx= [rx]*n_qubit\n",
    "    state  = tensor(rxx)*state\n",
    "    for i in range(n_qubit-1):\n",
    "        cnoti =[ qeye(2)]*(i) + [CNOT]\n",
    "        cnoti += [qeye(2)]*(n_qubit-2-i)\n",
    "        state = tensor(cnoti) * state\n",
    "    return state\n",
    "sp_qutip(np.pi,3)"
   ]
  },
  {
   "cell_type": "code",
   "execution_count": 7,
   "metadata": {},
   "outputs": [],
   "source": [
    "import matplotlib.pyplot as plt\n",
    "import numpy as np\n",
    "\n",
    "def plot_real_imag_dual_axis(complex_list, title=\"Real and Imaginary Parts Evolution\"):\n",
    "    \"\"\"\n",
    "    Plots the real part on one y-axis and the imaginary part on another y-axis.\n",
    "\n",
    "    Parameters:\n",
    "    - complex_list: list of complex numbers\n",
    "    - title: title of the plot\n",
    "    \"\"\"\n",
    "    # Extract real and imaginary parts\n",
    "    real_parts = [z.real for z in complex_list]\n",
    "    imaginary_parts = [z.imag for z in complex_list]\n",
    "    \n",
    "    # Create an index for the x-axis (time or index)\n",
    "    x = np.linspace(0,np.pi*2, 1000)\n",
    "\n",
    "    # Create the figure and the first axis (for the real part)\n",
    "    fig, ax1 = plt.subplots(figsize=(4, 3))\n",
    "\n",
    "    # Plot the real part on ax1\n",
    "    ax1.plot(x, real_parts, 'b-', label='Real Part')\n",
    "    ax1.set_xlabel('Index')\n",
    "    ax1.set_ylabel('Real Part', color='b')\n",
    "    ax1.tick_params(axis='y', labelcolor='b')\n",
    "\n",
    "    # Create a second y-axis (for the imaginary part) that shares the same x-axis\n",
    "    ax2 = ax1.twinx()  \n",
    "    ax2.plot(x, imaginary_parts, 'r-', label='Imaginary Part')\n",
    "    ax2.set_ylabel('Imaginary Part', color='r')\n",
    "    ax2.tick_params(axis='y', labelcolor='r')\n",
    "\n",
    "    # Add title\n",
    "    plt.title(title)\n",
    "\n",
    "    # Add grid to both axes\n",
    "    ax1.grid(True)\n",
    "\n",
    "    # Show the plot\n",
    "    fig.tight_layout()  # Adjust the layout so that labels don't overlap\n",
    "    plt.show\n",
    "\n",
    "\n",
    "\n",
    "#Evolution of the 4 basis \n",
    "if False:\n",
    "    for base in range(4):\n",
    "        a =[]\n",
    "        for theta in np.linspace(0,np.pi*2, 1000):\n",
    "            a.append(look_o(theta,base))\n",
    "        plot_real_imag_dual_axis(a)\n",
    "    \n"
   ]
  },
  {
   "cell_type": "code",
   "execution_count": 8,
   "metadata": {},
   "outputs": [],
   "source": [
    "a =[]\n",
    "qb_input_state=4\n",
    "qb_trash_state=2\n",
    "for theta in np.linspace(0,np.pi*2, 1000):\n",
    "    a.append(sp_qutip(theta,qb_trash_state))\n"
   ]
  },
  {
   "cell_type": "code",
   "execution_count": 22,
   "metadata": {},
   "outputs": [],
   "source": [
    "b =np.sum([tensor(c, c.dag()) for c in a])/len(a)"
   ]
  },
  {
   "cell_type": "code",
   "execution_count": 9,
   "metadata": {},
   "outputs": [
    {
     "data": {
      "text/plain": [
       "1.0"
      ]
     },
     "execution_count": 9,
     "metadata": {},
     "output_type": "execute_result"
    }
   ],
   "source": [
    "np.sum(b.eigenenergies()[qb_trash_state-qb_input_state:])"
   ]
  },
  {
   "cell_type": "code",
   "execution_count": null,
   "metadata": {},
   "outputs": [],
   "source": []
  }
 ],
 "metadata": {
  "kernelspec": {
   "display_name": "Python 3",
   "language": "python",
   "name": "python3"
  },
  "language_info": {
   "codemirror_mode": {
    "name": "ipython",
    "version": 3
   },
   "file_extension": ".py",
   "mimetype": "text/x-python",
   "name": "python",
   "nbconvert_exporter": "python",
   "pygments_lexer": "ipython3",
   "version": "3.12.4"
  }
 },
 "nbformat": 4,
 "nbformat_minor": 2
}
