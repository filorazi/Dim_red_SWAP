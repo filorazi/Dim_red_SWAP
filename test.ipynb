{
 "cells": [
  {
   "cell_type": "code",
   "execution_count": 65,
   "metadata": {},
   "outputs": [],
   "source": [
    "import pennylane as qml\n",
    "import numpy as np\n",
    "import pandas as pd\n",
    "import jax\n",
    "import seaborn as sns\n",
    "import matplotlib.pyplot as plt\n",
    "import itertools\n",
    "import seaborn as sns\n",
    "import matplotlib.pyplot as plt\n",
    "from utils import *\n",
    "from sklearn.metrics import mean_absolute_error as mse\n",
    "from sklearn.metrics import r2_score\n",
    "from pennylane.optimize import AdamOptimizer,QNSPSAOptimizer\n",
    "from scipy.optimize import minimize"
   ]
  },
  {
   "cell_type": "markdown",
   "metadata": {},
   "source": [
    "# Old autoencoder"
   ]
  },
  {
   "cell_type": "code",
   "execution_count": 54,
   "metadata": {},
   "outputs": [],
   "source": [
    "# def autoencodert(n_qubit,repetition=2):\n",
    "#   device = 'default.qubit'\n",
    "#   dvc=qml.device(device, wires=n_qubit, shots=None)\n",
    "#   def dense(a,b,parameters):\n",
    "#       qml.RY(parameters[0],wires=a)\n",
    "#       qml.RY(parameters[1],wires=b)\n",
    "#       qml.CNOT(wires=[a,b])\n",
    "#       qml.RY(parameters[2],wires=a)\n",
    "#       qml.RY(parameters[3],wires=b)\n",
    "#       qml.CNOT(wires=[b,a])\n",
    "\n",
    "#   def pool(a,b,parameters):\n",
    "#       qml.CRZ(parameters[0],wires=[a,b])\n",
    "#       qml.X(a)  \n",
    "#       qml.CRX(parameters[1],wires=[a,b])\n",
    "\n",
    "#   @qml.qnode(dvc,interface='jax', diff_method=None)\n",
    "#   def cirq(param):\n",
    "#     start=0\n",
    "#     for i in range(repetition):\n",
    "#       if start % 2!=0:\n",
    "#         raise Exception('The number of qubits should be a power of 2 greater than 2 to the power of repetition')\n",
    "\n",
    "#       for a in range(start,( n_qubit-start)//2+start):\n",
    "#           param_corrente=sum([6*n_qubit//2**(i+1) for i in range(i)])+a*6\n",
    "#           dense(a,a+(n_qubit-start)//2,param[param_corrente:param_corrente+4])\n",
    "#           pool(a,a+(n_qubit-start)//2,param[param_corrente+4:param_corrente+6])\n",
    "#       start+=n_qubit//(2**(i+1))\n",
    "#       qml.Barrier(dvc.wires)\n",
    "\n",
    "#     return qml\n",
    "#   return cirq,n_qubit-n_qubit//(2**(repetition))\n",
    "\n",
    "# repetition=4\n",
    "# num_params=sum([6*n_qubit//2**(i+1) for i in range(repetition)])\n",
    "# cirq,trash=autoencodert(4)\n",
    "# fig, ax = qml.draw_mpl(cirq)([1]*num_params)\n",
    "# plt.show()\n",
    "\n"
   ]
  },
  {
   "cell_type": "markdown",
   "metadata": {},
   "source": [
    "# Train autoencoder\n"
   ]
  },
  {
   "cell_type": "code",
   "execution_count": 55,
   "metadata": {},
   "outputs": [],
   "source": []
  },
  {
   "cell_type": "markdown",
   "metadata": {},
   "source": [
    "### Trying to use the datasets from pennylanes"
   ]
  },
  {
   "cell_type": "code",
   "execution_count": 56,
   "metadata": {},
   "outputs": [],
   "source": [
    "# qml.data.list_attributes('qspin')\n",
    "# qml.data.list_datasets()['qspin']['Ising']\n",
    "# df =qml.data.load('qspin',sysname='Ising')[0]\n",
    "# print(type(df))\n",
    "# df.attr_info\n",
    "# type(df.hamiltonians[0])\n",
    "\n",
    "\n",
    "# device = 'default.qubit'\n",
    "# dvc=qml.device(device, wires=len(df.hamiltonians[0].wires), shots=None)\n",
    "\n",
    "# @qml.qnode(dvc,interface='jax', diff_method=None)\n",
    "# def useit():\n",
    "#     return qml.expval(df.hamiltonians[0])\n",
    "# fig, ax = qml.draw_mpl(useit)()\n"
   ]
  },
  {
   "cell_type": "markdown",
   "metadata": {},
   "source": [
    "## simple dataset"
   ]
  },
  {
   "cell_type": "code",
   "execution_count": 70,
   "metadata": {},
   "outputs": [],
   "source": [
    "def train():\n",
    "    r2 = []\n",
    "    loss = []   \n",
    "    n_qubit_autoencoder=8\n",
    "    repetition=1\n",
    "    n_qubit_swap=n_qubit_autoencoder-n_qubit_autoencoder//(2**(repetition))\n",
    "    n_qubit=n_qubit_autoencoder+n_qubit_swap\n",
    "    num_params=sum([6*n_qubit_autoencoder//2**(i+1) for i in range(repetition)])\n",
    "    epochs= 50\n",
    "    device = 'default.qubit'\n",
    "    dvc=qml.device(device, wires=n_qubit, shots=None)\n",
    "\n",
    "    @qml.qnode(dvc,interface='jax', diff_method=None)\n",
    "    def trainer(param,p):\n",
    "        create_isotropic_state(p, n_qubit_autoencoder, n_qubit_swap)()\n",
    "        qml.Barrier(dvc.wires)\n",
    "        autoencoder(n_qubit_swap,param,repetition,n_qubit_autoencoder)\n",
    "        qml.Barrier(dvc.wires)\n",
    "        destructive_swap(n_qubit_swap)\n",
    "        return qml.probs(list(range(n_qubit_swap*2)))\n",
    "\n",
    "    n= 67\n",
    "    P=np.random.rand(n)\n",
    "    np.random.shuffle(P)\n",
    "    y=[0]*n\n",
    "    import random \n",
    "    random.seed(42)\n",
    "    weights=[random.uniform(0, 1) for _ in range(n)]\n",
    "\n",
    "    def loss_function(w): \n",
    "        pred =[interpret_results(trainer(w,x)) for x in P]\n",
    "        r2.append(r2_score(y,pred))\n",
    "        loss.append(mse(pred,y))\n",
    "        print(f'\\r{r2[-1]}')\n",
    "        return mse(pred,y)\n",
    "\n",
    "\n",
    "\n",
    "    for _ in range(epochs):\n",
    "        res=minimize(loss_function,weights,method='COBYLA',options={'maxiter':23})\n",
    "\n",
    "    plt.plot(r2)\n",
    "    plt.show()\n",
    "    plt.plot(loss)\n",
    "    plt.show()\n",
    "    print(res)\n",
    "    # weights,_,_,_,_= opt.step(loss_function, weights,trainer, n_qubit ,P, y)\n"
   ]
  },
  {
   "cell_type": "code",
   "execution_count": 71,
   "metadata": {},
   "outputs": [
    {
     "name": "stdout",
     "output_type": "stream",
     "text": [
      "0.0\n",
      "0.0\n",
      "0.0\n",
      "0.0\n",
      "0.0\n",
      "0.0\n",
      "0.0\n",
      "0.0\n",
      "0.0\n",
      "0.0\n",
      "0.0\n",
      "0.0\n",
      "0.0\n",
      "0.0\n",
      "0.0\n",
      "0.0\n",
      "0.0\n",
      "0.0\n",
      "0.0\n",
      "0.0\n",
      "0.0\n",
      "0.0\n",
      "0.0\n",
      "0.0\n",
      "0.0\n",
      "0.0\n",
      "0.0\n",
      "0.0\n",
      "0.0\n",
      "0.0\n",
      "0.0\n",
      "0.0\n",
      "0.0\n",
      "0.0\n",
      "0.0\n",
      "0.0\n",
      "0.0\n",
      "0.0\n",
      "0.0\n",
      "0.0\n",
      "0.0\n",
      "0.0\n",
      "0.0\n",
      "0.0\n",
      "0.0\n",
      "0.0\n",
      "0.0\n",
      "0.0\n",
      "0.0\n",
      "0.0\n",
      "0.0\n",
      "0.0\n",
      "0.0\n",
      "0.0\n",
      "0.0\n",
      "0.0\n",
      "0.0\n",
      "0.0\n",
      "0.0\n",
      "0.0\n",
      "0.0\n",
      "0.0\n",
      "0.0\n",
      "0.0\n",
      "0.0\n",
      "0.0\n",
      "0.0\n",
      "0.0\n",
      "0.0\n",
      "0.0\n",
      "0.0\n",
      "0.0\n",
      "0.0\n",
      "0.0\n",
      "0.0\n",
      "0.0\n",
      "0.0\n",
      "0.0\n",
      "0.0\n",
      "0.0\n",
      "0.0\n",
      "0.0\n",
      "0.0\n",
      "0.0\n",
      "0.0\n",
      "0.0\n",
      "0.0\n",
      "0.0\n",
      "0.0\n",
      "0.0\n",
      "0.0\n",
      "0.0\n",
      "0.0\n",
      "0.0\n",
      "0.0\n",
      "0.0\n",
      "0.0\n",
      "0.0\n",
      "0.0\n",
      "0.0\n",
      "0.0\n",
      "0.0\n",
      "0.0\n",
      "0.0\n",
      "0.0\n",
      "0.0\n",
      "0.0\n",
      "0.0\n",
      "0.0\n",
      "0.0\n",
      "0.0\n",
      "0.0\n",
      "0.0\n",
      "0.0\n",
      "0.0\n",
      "0.0\n",
      "0.0\n",
      "0.0\n",
      "0.0\n",
      "0.0\n",
      "0.0\n",
      "0.0\n",
      "0.0\n",
      "0.0\n",
      "0.0\n",
      "0.0\n",
      "0.0\n",
      "0.0\n",
      "0.0\n",
      "0.0\n",
      "0.0\n",
      "0.0\n"
     ]
    }
   ],
   "source": [
    "train()"
   ]
  },
  {
   "cell_type": "code",
   "execution_count": null,
   "metadata": {},
   "outputs": [
    {
     "data": {
      "text/plain": [
       "[<matplotlib.lines.Line2D at 0x27e99cfd910>]"
      ]
     },
     "execution_count": 43,
     "metadata": {},
     "output_type": "execute_result"
    },
    {
     "data": {
      "image/png": "[encoded data removed]",
      "text/plain": [
       "<Figure size 640x480 with 1 Axes>"
      ]
     },
     "metadata": {},
     "output_type": "display_data"
    }
   ],
   "source": []
  },
  {
   "cell_type": "code",
   "execution_count": null,
   "metadata": {},
   "outputs": [
    {
     "data": {
      "text/plain": [
       "[<matplotlib.lines.Line2D at 0x27e9a259580>]"
      ]
     },
     "execution_count": 44,
     "metadata": {},
     "output_type": "execute_result"
    },
    {
     "data": {
      "image/png": "[encoded data removed]",
      "text/plain": [
       "<Figure size 640x480 with 1 Axes>"
      ]
     },
     "metadata": {},
     "output_type": "display_data"
    }
   ],
   "source": []
  }
 ],
 "metadata": {
  "kernelspec": {
   "display_name": "Python 3",
   "language": "python",
   "name": "python3"
  },
  "language_info": {
   "codemirror_mode": {
    "name": "ipython",
    "version": 3
   },
   "file_extension": ".py",
   "mimetype": "text/x-python",
   "name": "python",
   "nbconvert_exporter": "python",
   "pygments_lexer": "ipython3",
   "version": "3.12.4"
  }
 },
 "nbformat": 4,
 "nbformat_minor": 2
}
