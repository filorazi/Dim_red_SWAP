{
 "cells": [
  {
   "cell_type": "code",
   "execution_count": 2,
   "metadata": {},
   "outputs": [],
   "source": [
    "import jax\n",
    "import jax.numpy as jnp\n",
    "import pennylane as qml\n",
    "\n",
    "# Added to silence some warnings.\n",
    "jax.config.update(\"jax_enable_x64\", True)\n",
    "\n",
    "dev = qml.device(\"default.mixed\", wires=2)\n"
   ]
  },
  {
   "cell_type": "code",
   "execution_count": 4,
   "metadata": {},
   "outputs": [
    {
     "name": "stdout",
     "output_type": "stream",
     "text": [
      "\n",
      "Gradient Descent\n",
      "---------------\n",
      "grad_circuit(jnp.pi / 2): -1.000\n",
      "Initial param: 0.123\n",
      "Initial cost: 0.992\n",
      "Tuned param: 3.142\n",
      "Tuned cost: -1.000\n"
     ]
    }
   ],
   "source": [
    "@qml.qnode(dev, interface=\"jax\")\n",
    "def circuit(param):\n",
    "    # These two gates represent our QML model.\n",
    "    qml.RX(param, wires=0)\n",
    "    qml.CNOT(wires=[0, 1])\n",
    "\n",
    "    # The expval here will be the \"cost function\" we try to minimize.\n",
    "    # Usually, this would be defined by the problem we want to solve,\n",
    "    # but for this example we'll just use a single PauliZ.\n",
    "    return qml.expval(qml.PauliZ(0))\n",
    "\n",
    "print(\"\\nGradient Descent\")\n",
    "print(\"---------------\")\n",
    "\n",
    "# We use jax.grad here to transform our circuit method into one\n",
    "# that calcuates the gradient of the output relative to the input.\n",
    "\n",
    "grad_circuit = jax.grad(circuit)\n",
    "print(f\"grad_circuit(jnp.pi / 2): {grad_circuit(jnp.pi / 2):0.3f}\")\n",
    "\n",
    "# We can then use this grad_circuit function to optimize the parameter value\n",
    "# via gradient descent.\n",
    "param = 0.123  # Some initial value.\n",
    "\n",
    "print(f\"Initial param: {param:0.3f}\")\n",
    "print(f\"Initial cost: {circuit(param):0.3f}\")\n",
    "\n",
    "for _ in range(100):  # Run for 100 steps.\n",
    "    param -= grad_circuit(param)  # Gradient-descent update.\n",
    "\n",
    "print(f\"Tuned param: {param:0.3f}\")\n",
    "print(f\"Tuned cost: {circuit(param):0.3f}\")\n"
   ]
  },
  {
   "cell_type": "code",
   "execution_count": 21,
   "metadata": {},
   "outputs": [],
   "source": [
    "import pennylane as qml\n",
    "from jax import numpy as jnp\n",
    "import jax\n",
    "import optax\n",
    "\n",
    "learning_rate = 0.15\n",
    "\n",
    "dev = qml.device(\"default.qubit\", wires=1, shots=None)\n",
    "def f():\n",
    "    qml.X(wires=0)\n",
    "@jax.jit\n",
    "@qml.qnode(dev, interface=\"jax\")\n",
    "def energy(a):\n",
    "    f()\n",
    "    qml.RX(a, wires=0)\n",
    "    return qml.expval(qml.PauliZ(0))\n",
    "\n",
    "optimizer = optax.adam(learning_rate)\n",
    "\n",
    "params = jnp.array(0.5)\n",
    "opt_state = optimizer.init(params)\n",
    "\n",
    "for _ in range(200):\n",
    "    grads = jax.grad(energy)(params)\n",
    "    updates, opt_state = optimizer.update(grads, opt_state)\n",
    "    params = optax.apply_updates(params, updates)\n"
   ]
  },
  {
   "cell_type": "code",
   "execution_count": null,
   "metadata": {},
   "outputs": [
    {
     "data": {
      "text/plain": [
       "2.561254757251045"
      ]
     },
     "execution_count": 27,
     "metadata": {},
     "output_type": "execute_result"
    }
   ],
   "source": [
    "import random \n",
    "import numpy as np\n",
    "random.uniform(, np.pi)"
   ]
  }
 ],
 "metadata": {
  "kernelspec": {
   "display_name": "Python 3",
   "language": "python",
   "name": "python3"
  },
  "language_info": {
   "codemirror_mode": {
    "name": "ipython",
    "version": 3
   },
   "file_extension": ".py",
   "mimetype": "text/x-python",
   "name": "python",
   "nbconvert_exporter": "python",
   "pygments_lexer": "ipython3",
   "version": "3.12.4"
  }
 },
 "nbformat": 4,
 "nbformat_minor": 2
}
