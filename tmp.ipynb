{
 "cells": [
  {
   "cell_type": "code",
   "execution_count": 1,
   "metadata": {},
   "outputs": [],
   "source": [
    "from pennylane.optimize import AdamOptimizer,QNSPSAOptimizer,AdagradOptimizer\n",
    "import pennylane as qml\n",
    "from pennylane import numpy as np\n",
    "import pandas as pd\n",
    "import jax\n",
    "import seaborn as sns\n",
    "import matplotlib.pyplot as plt\n",
    "import seaborn as sns\n",
    "import matplotlib.pyplot as plt\n",
    "from sklearn.metrics import mean_absolute_error as mse\n",
    "from scipy.optimize import minimize\n",
    "from IPython.display import clear_output\n",
    "import random \n",
    "from pennylane.optimize import AdamOptimizer,QNSPSAOptimizer\n",
    "from utils import *\n",
    "from autoencoder import Autoencoder\n",
    "import os \n",
    "import pennylane as qml\n",
    "import jax\n",
    "import jax.numpy as jnp\n",
    "from Cluster.autoencoder6 import JAxutoencoder\n"
   ]
  },
  {
   "cell_type": "code",
   "execution_count": null,
   "metadata": {},
   "outputs": [],
   "source": [
    "def create_ising_state(self,sv,nq,start=0,):\n",
    "    qml.QubitStateVector(sv, wires=range(nq+start))\n",
    "\n",
    "def compare_state_orig(n_qb_input):\n",
    "    @qml.qnode(qml.device('default.mixed', wires=n_qb_input*2+1, shots=1000))\n",
    "    def pio(param):\n",
    "        print(param[0])\n",
    "        create_ising_state(param[0],n_qb_input,1)\n",
    "        create_ising_state(param[1],n_qb_input,n_qb_input+1)\n",
    "        \n",
    "        qml.Barrier()\n",
    "        original_swap([(1+a,1+a+n_qb_input) for a in range(n_qb_input)])\n",
    "        return qml.probs([0])\n",
    "    return pio\n",
    "\n",
    "def compare_state_ae(n_qb_input,n_qb_trash,ae):\n",
    "    @qml.qnode(qml.device('default.mixed', wires=n_qb_input*2+1, shots=1000))\n",
    "    def pio(param):\n",
    "        create_ising_state(param[0],n_qb_input,1)\n",
    "        create_ising_state(param[1],n_qb_input,n_qb_input+1)\n",
    "        \n",
    "        qml.Barrier()\n",
    "        ae.get_cirq(1)\n",
    "        ae.get_cirq(n_qb_input+1)\n",
    "\n",
    "        qml.Barrier()\n",
    "        original_swap([(1+n_qb_trash+a,1+n_qb_trash+a+n_qb_input) for a in range(n_qb_input-n_qb_trash)])\n",
    "        return qml.probs([0])\n",
    "    return pio\n",
    "\n",
    "def compare_matrix_fidelity(n_qubit_autoencoder,n_trash_qubit,ae,loc=9):\n",
    "    m1=[]\n",
    "    data=get_data(n_qubit_autoencoder)\n",
    "    def get_input_state(p):\n",
    "        return np.outer(np.conjugate(data.ground_states[p]), data.ground_states[p])\n",
    "    \n",
    "    for b in range(100):\n",
    "        c1=[]\n",
    "        for a in range(100):\n",
    "            res1 = compare_state_ae(n_qubit_autoencoder,n_trash_qubit,ae)([data.ground_states[a],data.ground_states[b]])\n",
    "            c1.append(res1[0])\n",
    "        m1.append(c1)\n",
    "\n",
    "    sns.heatmap(m1,yticklabels=[f'{a:.2f}' for a in range(50)],xticklabels=[f'{a:.2f}' for a in range(50)],vmin=0, vmax=1)\n",
    "    plt.xlabel(\"h\")\n",
    "    plt.ylabel(\"h\")\n",
    "    plt.show()\n",
    "    plot_qutip_ovelap_matrix(n_qubit_autoencoder,50)\n",
    "    \n",
    "def plot_qutip_ovelap_matrix(n_qubit, segm=100):\n",
    "    n=[]\n",
    "    for a in np.linspace(0,np.pi,segm):\n",
    "        nn=[]\n",
    "        for b in np.linspace(0,np.pi,segm): \n",
    "            nn.append(sp_qutip(a,n_qubit).dag()*sp_qutip(b,n_qubit))\n",
    "        n.append(nn)\n",
    "    n=np.array(n)\n",
    "    real_part = np.real(n)\n",
    "    imaginary_part = np.imag(n)\n",
    "    # sns.heatmap(real_part)\n",
    "    # plt.title('Real part')\n",
    "    # plt.show()\n",
    "    # sns.heatmap(imaginary_part)\n",
    "    # plt.title('imaginary_part')\n",
    "    # plt.show()\n",
    "    sns.heatmap(np.real(np.abs(n)**2),xticklabels=[f'{a:.2f}' for a in range(50)],yticklabels=[f'{a:.2f}' for a in range(50)],vmin=0, vmax=1)\n",
    "    plt.title('prob')\n",
    "    plt.show()\n"
   ]
  },
  {
   "cell_type": "code",
   "execution_count": 46,
   "metadata": {},
   "outputs": [
    {
     "data": {
      "text/plain": [
       "array([-7.06962224e-01+0.j,  7.14540239e-03+0.j,  7.14540239e-03+0.j,\n",
       "       -2.88585277e-04+0.j,  7.14540239e-03+0.j, -1.44322095e-04+0.j,\n",
       "       -2.88585277e-04+0.j,  7.14540238e-03+0.j,  7.14540239e-03+0.j,\n",
       "       -2.88585277e-04+0.j, -1.44322095e-04+0.j,  7.14540238e-03+0.j,\n",
       "       -2.88585277e-04+0.j,  7.14540238e-03+0.j,  7.14540238e-03+0.j,\n",
       "       -7.06962223e-01+0.j])"
      ]
     },
     "execution_count": 46,
     "metadata": {},
     "output_type": "execute_result"
    }
   ],
   "source": [
    "data=get_data(iq)\n",
    "data.ground_states[1]"
   ]
  },
  {
   "cell_type": "code",
   "execution_count": 47,
   "metadata": {},
   "outputs": [],
   "source": [
    "iq=4\n",
    "tq=2\n",
    "a=np.load('Cluster\\\\runs\\\\50\\\\weights0.npy')\n",
    "ae= JAxutoencoder(iq,tq,None)\n",
    "ae.set_weights(a)\n"
   ]
  },
  {
   "cell_type": "code",
   "execution_count": 48,
   "metadata": {},
   "outputs": [
    {
     "name": "stdout",
     "output_type": "stream",
     "text": [
      "4\n"
     ]
    },
    {
     "ename": "ValueError",
     "evalue": "State must be a one-dimensional tensor, or two-dimensional with batching; got shape ().",
     "output_type": "error",
     "traceback": [
      "\u001b[1;31m---------------------------------------------------------------------------\u001b[0m",
      "\u001b[1;31mValueError\u001b[0m                                Traceback (most recent call last)",
      "Cell \u001b[1;32mIn[48], line 1\u001b[0m\n\u001b[1;32m----> 1\u001b[0m \u001b[43mcompare_matrix_fidelity\u001b[49m\u001b[43m(\u001b[49m\u001b[43miq\u001b[49m\u001b[43m,\u001b[49m\u001b[43mtq\u001b[49m\u001b[43m,\u001b[49m\u001b[43mae\u001b[49m\u001b[43m)\u001b[49m\n",
      "Cell \u001b[1;32mIn[45], line 41\u001b[0m, in \u001b[0;36mcompare_matrix_fidelity\u001b[1;34m(n_qubit_autoencoder, n_trash_qubit, ae, loc)\u001b[0m\n\u001b[0;32m     39\u001b[0m c1\u001b[38;5;241m=\u001b[39m[]\n\u001b[0;32m     40\u001b[0m \u001b[38;5;28;01mfor\u001b[39;00m a \u001b[38;5;129;01min\u001b[39;00m \u001b[38;5;28mrange\u001b[39m(\u001b[38;5;241m100\u001b[39m):\n\u001b[1;32m---> 41\u001b[0m     res1 \u001b[38;5;241m=\u001b[39m \u001b[43mcompare_state_ae\u001b[49m\u001b[43m(\u001b[49m\u001b[43mn_qubit_autoencoder\u001b[49m\u001b[43m,\u001b[49m\u001b[43mn_trash_qubit\u001b[49m\u001b[43m,\u001b[49m\u001b[43mae\u001b[49m\u001b[43m)\u001b[49m\u001b[43m(\u001b[49m\u001b[43m[\u001b[49m\u001b[43mdata\u001b[49m\u001b[38;5;241;43m.\u001b[39;49m\u001b[43mground_states\u001b[49m\u001b[43m[\u001b[49m\u001b[43ma\u001b[49m\u001b[43m]\u001b[49m\u001b[43m,\u001b[49m\u001b[43mdata\u001b[49m\u001b[38;5;241;43m.\u001b[39;49m\u001b[43mground_states\u001b[49m\u001b[43m[\u001b[49m\u001b[43mb\u001b[49m\u001b[43m]\u001b[49m\u001b[43m]\u001b[49m\u001b[43m)\u001b[49m\n\u001b[0;32m     42\u001b[0m     c1\u001b[38;5;241m.\u001b[39mappend(res1[\u001b[38;5;241m0\u001b[39m])\n\u001b[0;32m     43\u001b[0m m1\u001b[38;5;241m.\u001b[39mappend(c1)\n",
      "File \u001b[1;32mc:\\Users\\forazi\\.conda\\envs\\forazi\\Lib\\site-packages\\pennylane\\workflow\\qnode.py:1020\u001b[0m, in \u001b[0;36mQNode.__call__\u001b[1;34m(self, *args, **kwargs)\u001b[0m\n\u001b[0;32m   1018\u001b[0m \u001b[38;5;28;01mif\u001b[39;00m qml\u001b[38;5;241m.\u001b[39mcapture\u001b[38;5;241m.\u001b[39menabled():\n\u001b[0;32m   1019\u001b[0m     \u001b[38;5;28;01mreturn\u001b[39;00m qml\u001b[38;5;241m.\u001b[39mcapture\u001b[38;5;241m.\u001b[39mqnode_call(\u001b[38;5;28mself\u001b[39m, \u001b[38;5;241m*\u001b[39margs, \u001b[38;5;241m*\u001b[39m\u001b[38;5;241m*\u001b[39mkwargs)\n\u001b[1;32m-> 1020\u001b[0m \u001b[38;5;28;01mreturn\u001b[39;00m \u001b[38;5;28;43mself\u001b[39;49m\u001b[38;5;241;43m.\u001b[39;49m\u001b[43m_impl_call\u001b[49m\u001b[43m(\u001b[49m\u001b[38;5;241;43m*\u001b[39;49m\u001b[43margs\u001b[49m\u001b[43m,\u001b[49m\u001b[43m \u001b[49m\u001b[38;5;241;43m*\u001b[39;49m\u001b[38;5;241;43m*\u001b[39;49m\u001b[43mkwargs\u001b[49m\u001b[43m)\u001b[49m\n",
      "File \u001b[1;32mc:\\Users\\forazi\\.conda\\envs\\forazi\\Lib\\site-packages\\pennylane\\workflow\\qnode.py:1002\u001b[0m, in \u001b[0;36mQNode._impl_call\u001b[1;34m(self, *args, **kwargs)\u001b[0m\n\u001b[0;32m    999\u001b[0m     override_shots \u001b[38;5;241m=\u001b[39m kwargs[\u001b[38;5;124m\"\u001b[39m\u001b[38;5;124mshots\u001b[39m\u001b[38;5;124m\"\u001b[39m]\n\u001b[0;32m   1001\u001b[0m \u001b[38;5;66;03m# construct the tape\u001b[39;00m\n\u001b[1;32m-> 1002\u001b[0m \u001b[38;5;28;43mself\u001b[39;49m\u001b[38;5;241;43m.\u001b[39;49m\u001b[43mconstruct\u001b[49m\u001b[43m(\u001b[49m\u001b[43margs\u001b[49m\u001b[43m,\u001b[49m\u001b[43m \u001b[49m\u001b[43mkwargs\u001b[49m\u001b[43m)\u001b[49m\n\u001b[0;32m   1004\u001b[0m original_grad_fn \u001b[38;5;241m=\u001b[39m [\u001b[38;5;28mself\u001b[39m\u001b[38;5;241m.\u001b[39mgradient_fn, \u001b[38;5;28mself\u001b[39m\u001b[38;5;241m.\u001b[39mgradient_kwargs, \u001b[38;5;28mself\u001b[39m\u001b[38;5;241m.\u001b[39mdevice]\n\u001b[0;32m   1005\u001b[0m \u001b[38;5;28mself\u001b[39m\u001b[38;5;241m.\u001b[39m_update_gradient_fn(shots\u001b[38;5;241m=\u001b[39moverride_shots, tape\u001b[38;5;241m=\u001b[39m\u001b[38;5;28mself\u001b[39m\u001b[38;5;241m.\u001b[39m_tape)\n",
      "File \u001b[1;32mc:\\Users\\forazi\\.conda\\envs\\forazi\\Lib\\site-packages\\pennylane\\logging\\decorators.py:61\u001b[0m, in \u001b[0;36mlog_string_debug_func.<locals>.wrapper_entry\u001b[1;34m(*args, **kwargs)\u001b[0m\n\u001b[0;32m     54\u001b[0m     s_caller \u001b[38;5;241m=\u001b[39m \u001b[38;5;124m\"\u001b[39m\u001b[38;5;124m::L\u001b[39m\u001b[38;5;124m\"\u001b[39m\u001b[38;5;241m.\u001b[39mjoin(\n\u001b[0;32m     55\u001b[0m         [\u001b[38;5;28mstr\u001b[39m(i) \u001b[38;5;28;01mfor\u001b[39;00m i \u001b[38;5;129;01min\u001b[39;00m inspect\u001b[38;5;241m.\u001b[39mgetouterframes(inspect\u001b[38;5;241m.\u001b[39mcurrentframe(), \u001b[38;5;241m2\u001b[39m)[\u001b[38;5;241m1\u001b[39m][\u001b[38;5;241m1\u001b[39m:\u001b[38;5;241m3\u001b[39m]]\n\u001b[0;32m     56\u001b[0m     )\n\u001b[0;32m     57\u001b[0m     lgr\u001b[38;5;241m.\u001b[39mdebug(\n\u001b[0;32m     58\u001b[0m         \u001b[38;5;124mf\u001b[39m\u001b[38;5;124m\"\u001b[39m\u001b[38;5;124mCalling \u001b[39m\u001b[38;5;132;01m{\u001b[39;00mf_string\u001b[38;5;132;01m}\u001b[39;00m\u001b[38;5;124m from \u001b[39m\u001b[38;5;132;01m{\u001b[39;00ms_caller\u001b[38;5;132;01m}\u001b[39;00m\u001b[38;5;124m\"\u001b[39m,\n\u001b[0;32m     59\u001b[0m         \u001b[38;5;241m*\u001b[39m\u001b[38;5;241m*\u001b[39m_debug_log_kwargs,\n\u001b[0;32m     60\u001b[0m     )\n\u001b[1;32m---> 61\u001b[0m \u001b[38;5;28;01mreturn\u001b[39;00m \u001b[43mfunc\u001b[49m\u001b[43m(\u001b[49m\u001b[38;5;241;43m*\u001b[39;49m\u001b[43margs\u001b[49m\u001b[43m,\u001b[49m\u001b[43m \u001b[49m\u001b[38;5;241;43m*\u001b[39;49m\u001b[38;5;241;43m*\u001b[39;49m\u001b[43mkwargs\u001b[49m\u001b[43m)\u001b[49m\n",
      "File \u001b[1;32mc:\\Users\\forazi\\.conda\\envs\\forazi\\Lib\\site-packages\\pennylane\\workflow\\qnode.py:851\u001b[0m, in \u001b[0;36mQNode.construct\u001b[1;34m(self, args, kwargs)\u001b[0m\n\u001b[0;32m    849\u001b[0m \u001b[38;5;28;01mwith\u001b[39;00m pldb_device_manager(\u001b[38;5;28mself\u001b[39m\u001b[38;5;241m.\u001b[39mdevice):\n\u001b[0;32m    850\u001b[0m     \u001b[38;5;28;01mwith\u001b[39;00m qml\u001b[38;5;241m.\u001b[39mqueuing\u001b[38;5;241m.\u001b[39mAnnotatedQueue() \u001b[38;5;28;01mas\u001b[39;00m q:\n\u001b[1;32m--> 851\u001b[0m         \u001b[38;5;28mself\u001b[39m\u001b[38;5;241m.\u001b[39m_qfunc_output \u001b[38;5;241m=\u001b[39m \u001b[38;5;28;43mself\u001b[39;49m\u001b[38;5;241;43m.\u001b[39;49m\u001b[43mfunc\u001b[49m\u001b[43m(\u001b[49m\u001b[38;5;241;43m*\u001b[39;49m\u001b[43margs\u001b[49m\u001b[43m,\u001b[49m\u001b[43m \u001b[49m\u001b[38;5;241;43m*\u001b[39;49m\u001b[38;5;241;43m*\u001b[39;49m\u001b[43mkwargs\u001b[49m\u001b[43m)\u001b[49m\n\u001b[0;32m    853\u001b[0m \u001b[38;5;28mself\u001b[39m\u001b[38;5;241m.\u001b[39m_tape \u001b[38;5;241m=\u001b[39m QuantumScript\u001b[38;5;241m.\u001b[39mfrom_queue(q, shots)\n\u001b[0;32m    855\u001b[0m params \u001b[38;5;241m=\u001b[39m \u001b[38;5;28mself\u001b[39m\u001b[38;5;241m.\u001b[39mtape\u001b[38;5;241m.\u001b[39mget_parameters(trainable_only\u001b[38;5;241m=\u001b[39m\u001b[38;5;28;01mFalse\u001b[39;00m)\n",
      "Cell \u001b[1;32mIn[45], line 20\u001b[0m, in \u001b[0;36mcompare_state_ae.<locals>.pio\u001b[1;34m(param)\u001b[0m\n\u001b[0;32m     18\u001b[0m \u001b[38;5;129m@qml\u001b[39m\u001b[38;5;241m.\u001b[39mqnode(qml\u001b[38;5;241m.\u001b[39mdevice(\u001b[38;5;124m'\u001b[39m\u001b[38;5;124mdefault.mixed\u001b[39m\u001b[38;5;124m'\u001b[39m, wires\u001b[38;5;241m=\u001b[39mn_qb_input\u001b[38;5;241m*\u001b[39m\u001b[38;5;241m2\u001b[39m\u001b[38;5;241m+\u001b[39m\u001b[38;5;241m1\u001b[39m, shots\u001b[38;5;241m=\u001b[39m\u001b[38;5;241m1000\u001b[39m))\n\u001b[0;32m     19\u001b[0m \u001b[38;5;28;01mdef\u001b[39;00m \u001b[38;5;21mpio\u001b[39m(param):\n\u001b[1;32m---> 20\u001b[0m     \u001b[43mcreate_ising_state\u001b[49m\u001b[43m(\u001b[49m\u001b[43mparam\u001b[49m\u001b[43m[\u001b[49m\u001b[38;5;241;43m0\u001b[39;49m\u001b[43m]\u001b[49m\u001b[43m,\u001b[49m\u001b[43mn_qb_input\u001b[49m\u001b[43m,\u001b[49m\u001b[38;5;241;43m1\u001b[39;49m\u001b[43m)\u001b[49m\n\u001b[0;32m     21\u001b[0m     create_ising_state(param[\u001b[38;5;241m1\u001b[39m],n_qb_input,n_qb_input\u001b[38;5;241m+\u001b[39m\u001b[38;5;241m1\u001b[39m)\n\u001b[0;32m     23\u001b[0m     qml\u001b[38;5;241m.\u001b[39mBarrier()\n",
      "Cell \u001b[1;32mIn[45], line 3\u001b[0m, in \u001b[0;36mcreate_ising_state\u001b[1;34m(self, sv, nq, start)\u001b[0m\n\u001b[0;32m      1\u001b[0m \u001b[38;5;28;01mdef\u001b[39;00m \u001b[38;5;21mcreate_ising_state\u001b[39m(\u001b[38;5;28mself\u001b[39m,sv,nq,start\u001b[38;5;241m=\u001b[39m\u001b[38;5;241m0\u001b[39m,):\n\u001b[0;32m      2\u001b[0m     \u001b[38;5;28mprint\u001b[39m(sv)\n\u001b[1;32m----> 3\u001b[0m     \u001b[43mqml\u001b[49m\u001b[38;5;241;43m.\u001b[39;49m\u001b[43mQubitStateVector\u001b[49m\u001b[43m(\u001b[49m\u001b[43msv\u001b[49m\u001b[43m,\u001b[49m\u001b[43m \u001b[49m\u001b[43mwires\u001b[49m\u001b[38;5;241;43m=\u001b[39;49m\u001b[38;5;28;43mrange\u001b[39;49m\u001b[43m(\u001b[49m\u001b[43mnq\u001b[49m\u001b[38;5;241;43m+\u001b[39;49m\u001b[43mstart\u001b[49m\u001b[43m)\u001b[49m\u001b[43m)\u001b[49m\n",
      "File \u001b[1;32mc:\\Users\\forazi\\.conda\\envs\\forazi\\Lib\\site-packages\\pennylane\\capture\\capture_meta.py:89\u001b[0m, in \u001b[0;36mCaptureMeta.__call__\u001b[1;34m(cls, *args, **kwargs)\u001b[0m\n\u001b[0;32m     85\u001b[0m \u001b[38;5;28;01mif\u001b[39;00m enabled():\n\u001b[0;32m     86\u001b[0m     \u001b[38;5;66;03m# when tracing is enabled, we want to\u001b[39;00m\n\u001b[0;32m     87\u001b[0m     \u001b[38;5;66;03m# use bind to construct the class if we want class construction to add it to the jaxpr\u001b[39;00m\n\u001b[0;32m     88\u001b[0m     \u001b[38;5;28;01mreturn\u001b[39;00m \u001b[38;5;28mcls\u001b[39m\u001b[38;5;241m.\u001b[39m_primitive_bind_call(\u001b[38;5;241m*\u001b[39margs, \u001b[38;5;241m*\u001b[39m\u001b[38;5;241m*\u001b[39mkwargs)\n\u001b[1;32m---> 89\u001b[0m \u001b[38;5;28;01mreturn\u001b[39;00m \u001b[38;5;28;43mtype\u001b[39;49m\u001b[38;5;241;43m.\u001b[39;49m\u001b[38;5;21;43m__call__\u001b[39;49m\u001b[43m(\u001b[49m\u001b[38;5;28;43mcls\u001b[39;49m\u001b[43m,\u001b[49m\u001b[43m \u001b[49m\u001b[38;5;241;43m*\u001b[39;49m\u001b[43margs\u001b[49m\u001b[43m,\u001b[49m\u001b[43m \u001b[49m\u001b[38;5;241;43m*\u001b[39;49m\u001b[38;5;241;43m*\u001b[39;49m\u001b[43mkwargs\u001b[49m\u001b[43m)\u001b[49m\n",
      "File \u001b[1;32mc:\\Users\\forazi\\.conda\\envs\\forazi\\Lib\\site-packages\\pennylane\\ops\\qubit\\state_preparation.py:302\u001b[0m, in \u001b[0;36mStatePrep.__init__\u001b[1;34m(self, state, wires, pad_with, normalize, id, validate_norm)\u001b[0m\n\u001b[0;32m    292\u001b[0m \u001b[38;5;28;01mdef\u001b[39;00m \u001b[38;5;21m__init__\u001b[39m(\n\u001b[0;32m    293\u001b[0m     \u001b[38;5;28mself\u001b[39m,\n\u001b[0;32m    294\u001b[0m     state: TensorLike,\n\u001b[1;32m   (...)\u001b[0m\n\u001b[0;32m    299\u001b[0m     validate_norm: \u001b[38;5;28mbool\u001b[39m \u001b[38;5;241m=\u001b[39m \u001b[38;5;28;01mTrue\u001b[39;00m,\n\u001b[0;32m    300\u001b[0m ):\n\u001b[1;32m--> 302\u001b[0m     state \u001b[38;5;241m=\u001b[39m \u001b[38;5;28;43mself\u001b[39;49m\u001b[38;5;241;43m.\u001b[39;49m\u001b[43m_preprocess\u001b[49m\u001b[43m(\u001b[49m\u001b[43mstate\u001b[49m\u001b[43m,\u001b[49m\u001b[43m \u001b[49m\u001b[43mwires\u001b[49m\u001b[43m,\u001b[49m\u001b[43m \u001b[49m\u001b[43mpad_with\u001b[49m\u001b[43m,\u001b[49m\u001b[43m \u001b[49m\u001b[43mnormalize\u001b[49m\u001b[43m,\u001b[49m\u001b[43m \u001b[49m\u001b[43mvalidate_norm\u001b[49m\u001b[43m)\u001b[49m\n\u001b[0;32m    304\u001b[0m     \u001b[38;5;28mself\u001b[39m\u001b[38;5;241m.\u001b[39m_hyperparameters \u001b[38;5;241m=\u001b[39m {\n\u001b[0;32m    305\u001b[0m         \u001b[38;5;124m\"\u001b[39m\u001b[38;5;124mpad_with\u001b[39m\u001b[38;5;124m\"\u001b[39m: pad_with,\n\u001b[0;32m    306\u001b[0m         \u001b[38;5;124m\"\u001b[39m\u001b[38;5;124mnormalize\u001b[39m\u001b[38;5;124m\"\u001b[39m: normalize,\n\u001b[0;32m    307\u001b[0m         \u001b[38;5;124m\"\u001b[39m\u001b[38;5;124mvalidate_norm\u001b[39m\u001b[38;5;124m\"\u001b[39m: validate_norm,\n\u001b[0;32m    308\u001b[0m     }\n\u001b[0;32m    310\u001b[0m     \u001b[38;5;28msuper\u001b[39m()\u001b[38;5;241m.\u001b[39m\u001b[38;5;21m__init__\u001b[39m(state, wires\u001b[38;5;241m=\u001b[39mwires, \u001b[38;5;28mid\u001b[39m\u001b[38;5;241m=\u001b[39m\u001b[38;5;28mid\u001b[39m)\n",
      "File \u001b[1;32mc:\\Users\\forazi\\.conda\\envs\\forazi\\Lib\\site-packages\\pennylane\\ops\\qubit\\state_preparation.py:392\u001b[0m, in \u001b[0;36mStatePrep._preprocess\u001b[1;34m(state, wires, pad_with, normalize, validate_norm)\u001b[0m\n\u001b[0;32m    390\u001b[0m \u001b[38;5;66;03m# check shape\u001b[39;00m\n\u001b[0;32m    391\u001b[0m \u001b[38;5;28;01mif\u001b[39;00m \u001b[38;5;28mlen\u001b[39m(shape) \u001b[38;5;129;01mnot\u001b[39;00m \u001b[38;5;129;01min\u001b[39;00m (\u001b[38;5;241m1\u001b[39m, \u001b[38;5;241m2\u001b[39m):\n\u001b[1;32m--> 392\u001b[0m     \u001b[38;5;28;01mraise\u001b[39;00m \u001b[38;5;167;01mValueError\u001b[39;00m(\n\u001b[0;32m    393\u001b[0m         \u001b[38;5;124mf\u001b[39m\u001b[38;5;124m\"\u001b[39m\u001b[38;5;124mState must be a one-dimensional tensor, or two-dimensional with batching; got shape \u001b[39m\u001b[38;5;132;01m{\u001b[39;00mshape\u001b[38;5;132;01m}\u001b[39;00m\u001b[38;5;124m.\u001b[39m\u001b[38;5;124m\"\u001b[39m\n\u001b[0;32m    394\u001b[0m     )\n\u001b[0;32m    396\u001b[0m n_states \u001b[38;5;241m=\u001b[39m shape[\u001b[38;5;241m-\u001b[39m\u001b[38;5;241m1\u001b[39m]\n\u001b[0;32m    397\u001b[0m dim \u001b[38;5;241m=\u001b[39m \u001b[38;5;241m2\u001b[39m \u001b[38;5;241m*\u001b[39m\u001b[38;5;241m*\u001b[39m \u001b[38;5;28mlen\u001b[39m(Wires(wires))\n",
      "\u001b[1;31mValueError\u001b[0m: State must be a one-dimensional tensor, or two-dimensional with batching; got shape ()."
     ]
    }
   ],
   "source": [
    "compare_matrix_fidelity(iq,tq,ae)"
   ]
  }
 ],
 "metadata": {
  "kernelspec": {
   "display_name": "Python 3",
   "language": "python",
   "name": "python3"
  },
  "language_info": {
   "codemirror_mode": {
    "name": "ipython",
    "version": 3
   },
   "file_extension": ".py",
   "mimetype": "text/x-python",
   "name": "python",
   "nbconvert_exporter": "python",
   "pygments_lexer": "ipython3",
   "version": "3.12.4"
  }
 },
 "nbformat": 4,
 "nbformat_minor": 2
}
