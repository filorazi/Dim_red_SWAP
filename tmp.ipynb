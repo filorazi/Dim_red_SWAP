{
 "cells": [
  {
   "cell_type": "code",
   "execution_count": 1,
   "metadata": {},
   "outputs": [],
   "source": [
    "from pennylane.optimize import AdamOptimizer,QNSPSAOptimizer,AdagradOptimizer\n",
    "import pennylane as qml\n",
    "from pennylane import numpy as np\n",
    "import pandas as pd\n",
    "import jax\n",
    "import seaborn as sns\n",
    "import matplotlib.pyplot as plt\n",
    "import seaborn as sns\n",
    "import matplotlib.pyplot as plt\n",
    "from sklearn.metrics import mean_absolute_error as mse\n",
    "from scipy.optimize import minimize\n",
    "from IPython.display import clear_output\n",
    "import random \n",
    "from pennylane.optimize import AdamOptimizer,QNSPSAOptimizer\n",
    "from utils import *\n",
    "from autoencoder import Autoencoder\n",
    "import os \n",
    "import pennylane as qml\n",
    "import jax\n",
    "import jax.numpy as jnp\n",
    "from Cluster.autoencoder6 import JAxutoencoder\n"
   ]
  },
  {
   "cell_type": "code",
   "execution_count": 81,
   "metadata": {},
   "outputs": [],
   "source": [
    "def create_ising_state(sv,nq,start=0,):\n",
    "    qml.StatePrep(sv, wires=range(nq+start),pad_with=0.)\n",
    "\n",
    "def compare_state_orig(n_qb_input):\n",
    "    @qml.qnode(qml.device('default.mixed', wires=n_qb_input*2+1, shots=1000))\n",
    "    def pio(param):\n",
    "        create_ising_state(param[0],n_qb_input,1)\n",
    "        create_ising_state(param[1],n_qb_input,n_qb_input+1)\n",
    "        \n",
    "        qml.Barrier()\n",
    "        original_swap([(1+a,1+a+n_qb_input) for a in range(n_qb_input)])\n",
    "        return qml.probs([0])\n",
    "    return pio\n",
    "\n",
    "def compare_state_ae(n_qb_input,n_qb_trash,ae):\n",
    "\n",
    "    @qml.qnode(qml.device('default.mixed', wires=n_qb_input*2+1, shots=1000))\n",
    "    def pio(param):\n",
    "        create_ising_state(param[0],n_qb_input,1)\n",
    "        create_ising_state(param[1],n_qb_input,n_qb_input+1)\n",
    "        \n",
    "        qml.Barrier()\n",
    "        ae.get_cirq(1)\n",
    "        ae.get_cirq(n_qb_input+1)\n",
    "\n",
    "        qml.Barrier()\n",
    "        original_swap([(1+n_qb_trash+a,1+n_qb_trash+a+n_qb_input) for a in range(n_qb_input-n_qb_trash)])\n",
    "        return qml.probs([0])\n",
    "    return pio\n",
    "\n",
    "def compare_matrix_fidelity(n_qubit_autoencoder,n_trash_qubit,ae,loc=9):\n",
    "    m1=[]\n",
    "    data=get_data(n_qubit_autoencoder)\n",
    "    def get_input_state(p):\n",
    "        return np.outer(np.conjugate(data.ground_states[p]), data.ground_states[p])\n",
    "    \n",
    "    for b in range(0,100,5):\n",
    "        c1=[]\n",
    "        for a in range(0,100,5):\n",
    "            res1 = compare_state_ae(n_qubit_autoencoder,n_trash_qubit,ae)([data.ground_states[a],data.ground_states[b]])\n",
    "            c1.append(res1[0])\n",
    "        m1.append(c1)\n",
    "\n",
    "    sns.heatmap(m1,yticklabels=[f'{a:.2f}' for a in range(50)],xticklabels=[f'{a:.2f}' for a in range(50)],vmin=0, vmax=1)\n",
    "    plt.xlabel(\"h\")\n",
    "    plt.ylabel(\"h\")\n",
    "    plt.show()\n",
    "    plot_qutip_ovelap_matrix(n_qubit_autoencoder,50)\n",
    "    \n",
    "def plot_qutip_ovelap_matrix(n_qubit, segm=100):\n",
    "    n=[]\n",
    "    for a in np.linspace(0,np.pi,segm):\n",
    "        nn=[]\n",
    "        for b in np.linspace(0,np.pi,segm): \n",
    "            nn.append(sp_qutip(a,n_qubit).dag()*sp_qutip(b,n_qubit))\n",
    "        n.append(nn)\n",
    "    n=np.array(n)\n",
    "    real_part = np.real(n)\n",
    "    imaginary_part = np.imag(n)\n",
    "    # sns.heatmap(real_part)\n",
    "    # plt.title('Real part')\n",
    "    # plt.show()\n",
    "    # sns.heatmap(imaginary_part)\n",
    "    # plt.title('imaginary_part')\n",
    "    # plt.show()\n",
    "    sns.heatmap(np.real(np.abs(n)**2),xticklabels=[f'{a:.2f}' for a in range(50)],yticklabels=[f'{a:.2f}' for a in range(50)],vmin=0, vmax=1)\n",
    "    plt.title('prob')\n",
    "    plt.show()\n"
   ]
  },
  {
   "cell_type": "code",
   "execution_count": 87,
   "metadata": {},
   "outputs": [],
   "source": [
    "iq=4\n",
    "tq=2\n",
    "a=np.load('Cluster\\\\runs\\\\50\\\\weights1.npy')\n",
    "ae= JAxutoencoder(iq,tq,None)\n",
    "ae.set_weights(a)\n"
   ]
  },
  {
   "cell_type": "code",
   "execution_count": null,
   "metadata": {},
   "outputs": [],
   "source": [
    "compare_matrix_fidelity(iq,tq,ae)"
   ]
  },
  {
   "cell_type": "code",
   "execution_count": null,
   "metadata": {},
   "outputs": [],
   "source": []
  }
 ],
 "metadata": {
  "kernelspec": {
   "display_name": "Python 3",
   "language": "python",
   "name": "python3"
  },
  "language_info": {
   "codemirror_mode": {
    "name": "ipython",
    "version": 3
   },
   "file_extension": ".py",
   "mimetype": "text/x-python",
   "name": "python",
   "nbconvert_exporter": "python",
   "pygments_lexer": "ipython3",
   "version": "3.12.4"
  }
 },
 "nbformat": 4,
 "nbformat_minor": 2
}
